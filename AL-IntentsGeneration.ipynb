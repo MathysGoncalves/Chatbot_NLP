{
 "cells": [
  {
   "cell_type": "markdown",
   "metadata": {},
   "source": [
    "# Creation of Intents"
   ]
  },
  {
   "cell_type": "markdown",
   "metadata": {},
   "source": [
    "#### Loading Data"
   ]
  },
  {
   "cell_type": "code",
   "execution_count": 84,
   "metadata": {},
   "outputs": [],
   "source": [
    "import pandas as pd"
   ]
  },
  {
   "cell_type": "code",
   "execution_count": 85,
   "metadata": {},
   "outputs": [],
   "source": [
    "pd.set_option('display.max_colwidth', None)"
   ]
  },
  {
   "cell_type": "code",
   "execution_count": 86,
   "metadata": {},
   "outputs": [
    {
     "data": {
      "text/html": [
       "<div>\n",
       "<style scoped>\n",
       "    .dataframe tbody tr th:only-of-type {\n",
       "        vertical-align: middle;\n",
       "    }\n",
       "\n",
       "    .dataframe tbody tr th {\n",
       "        vertical-align: top;\n",
       "    }\n",
       "\n",
       "    .dataframe thead th {\n",
       "        text-align: right;\n",
       "    }\n",
       "</style>\n",
       "<table border=\"1\" class=\"dataframe\">\n",
       "  <thead>\n",
       "    <tr style=\"text-align: right;\">\n",
       "      <th></th>\n",
       "      <th>responce</th>\n",
       "      <th>question</th>\n",
       "    </tr>\n",
       "  </thead>\n",
       "  <tbody>\n",
       "    <tr>\n",
       "      <th>0</th>\n",
       "      <td>@115904 We'll be sure to pass along your kind words! #AATeam</td>\n",
       "      <td>@AmericanAir Erica on the lax team is amazing give her a raise ty</td>\n",
       "    </tr>\n",
       "    <tr>\n",
       "      <th>1</th>\n",
       "      <td>@115904 Our apologies for the delay in responding to you. Have you made it to LAX? Let us know if you still need assistance.</td>\n",
       "      <td>@AmericanAir Could you have someone on your lax team available to guide me to my gate ASAP</td>\n",
       "    </tr>\n",
       "    <tr>\n",
       "      <th>2</th>\n",
       "      <td>@115905 Aww, that's definitely a future pilot in the making! #HappyHalloween</td>\n",
       "      <td>Ben Tennyson and an American Airlines pilot. 🎃 #trunkortreat #halloween #2017 #diycostume #parenting @americanair … https://t.co/f1nNHQ0iLa https://t.co/lDViDkRdB1</td>\n",
       "    </tr>\n",
       "    <tr>\n",
       "      <th>3</th>\n",
       "      <td>@115906 We're sorry for your frustration.</td>\n",
       "      <td>@AmericanAir Right, but I earned those. I also shouldn’t have to pay to pass them to my own spouse. You need to change your program.</td>\n",
       "    </tr>\n",
       "    <tr>\n",
       "      <th>4</th>\n",
       "      <td>@115909 We're glad you got to kick back and enjoy a show while flying! Thanks for your kind words.</td>\n",
       "      <td>Thank you, @AmericanAir for playing #ThisIsUs and for having great flight attendants on my flight back home!</td>\n",
       "    </tr>\n",
       "  </tbody>\n",
       "</table>\n",
       "</div>"
      ],
      "text/plain": [
       "                                                                                                                       responce  \\\n",
       "0                                                                  @115904 We'll be sure to pass along your kind words! #AATeam   \n",
       "1  @115904 Our apologies for the delay in responding to you. Have you made it to LAX? Let us know if you still need assistance.   \n",
       "2                                                  @115905 Aww, that's definitely a future pilot in the making! #HappyHalloween   \n",
       "3                                                                                     @115906 We're sorry for your frustration.   \n",
       "4                            @115909 We're glad you got to kick back and enjoy a show while flying! Thanks for your kind words.   \n",
       "\n",
       "                                                                                                                                                              question  \n",
       "0                                                                                                    @AmericanAir Erica on the lax team is amazing give her a raise ty  \n",
       "1                                                                           @AmericanAir Could you have someone on your lax team available to guide me to my gate ASAP  \n",
       "2  Ben Tennyson and an American Airlines pilot. 🎃 #trunkortreat #halloween #2017 #diycostume #parenting @americanair … https://t.co/f1nNHQ0iLa https://t.co/lDViDkRdB1  \n",
       "3                                 @AmericanAir Right, but I earned those. I also shouldn’t have to pay to pass them to my own spouse. You need to change your program.  \n",
       "4                                                         Thank you, @AmericanAir for playing #ThisIsUs and for having great flight attendants on my flight back home!  "
      ]
     },
     "execution_count": 86,
     "metadata": {},
     "output_type": "execute_result"
    }
   ],
   "source": [
    "data = pd.read_csv(\"question_responce.csv\").drop(columns='Unnamed: 0')\n",
    "data = data.drop_duplicates()\n",
    "data.head(5)"
   ]
  },
  {
   "cell_type": "markdown",
   "metadata": {},
   "source": [
    "#### Preprocessing \n",
    "\n",
    "**Steps :**\n",
    "\n",
    "- Tokenization: Split the text into sentences and the sentences into words. Lowercase the words and remove punctuation.\n",
    "- All stopwords are removed.\n",
    "- All words starting by '@' and '#' are removed\n",
    "- Words are lemmatized — words in third person are changed to first person and verbs in past and future tenses are changed into present.\n",
    "- bags of words are created"
   ]
  },
  {
   "cell_type": "code",
   "execution_count": 87,
   "metadata": {},
   "outputs": [],
   "source": [
    "import gensim\n",
    "import nltk\n",
    "import re\n",
    "import numpy as np\n",
    "import json\n",
    "from gensim.utils import simple_preprocess\n",
    "from gensim.parsing.preprocessing import STOPWORDS\n",
    "from nltk.stem import WordNetLemmatizer, SnowballStemmer\n",
    "from nltk.corpus import stopwords, wordnet\n",
    "from nltk.stem.porter import *\n",
    "\n",
    "lemmatizer = nltk.stem.WordNetLemmatizer()\n",
    "stemmer = SnowballStemmer(\"english\")\n",
    "\n",
    "np.random.seed(2018)\n",
    "#nltk.download('wordnet')\n",
    "#nltk.download('stopwords')\n",
    "#nltk.download('words')\n",
    "words = set(nltk.corpus.words.words())"
   ]
  },
  {
   "cell_type": "markdown",
   "metadata": {},
   "source": [
    "Extra stopwords"
   ]
  },
  {
   "cell_type": "code",
   "execution_count": 88,
   "metadata": {},
   "outputs": [],
   "source": [
    "extra_words = ['flight','fly','plane','thanks', 'thank','get','please']\n",
    "full_stopwords = STOPWORDS.union(set(extra_words))"
   ]
  },
  {
   "cell_type": "code",
   "execution_count": 89,
   "metadata": {},
   "outputs": [],
   "source": [
    "stop_words = stopwords.words('english')\n",
    "stop_words.extend(extra_words)"
   ]
  },
  {
   "cell_type": "markdown",
   "metadata": {},
   "source": [
    "#### Preprocessing"
   ]
  },
  {
   "cell_type": "markdown",
   "metadata": {},
   "source": [
    "Remove unecessary items int the text"
   ]
  },
  {
   "cell_type": "code",
   "execution_count": 90,
   "metadata": {},
   "outputs": [],
   "source": [
    "def question_preprocess(text):\n",
    "    text = \" \".join(filter(lambda x:x[0]!='@', text.split()))\n",
    "    text = \" \".join(filter(lambda x:x[0]!='#', text.split()))\n",
    "    text = \" \".join(filter(lambda x:x[0:4]!='http', text.split()))\n",
    "    return text"
   ]
  },
  {
   "cell_type": "code",
   "execution_count": 91,
   "metadata": {},
   "outputs": [
    {
     "data": {
      "text/plain": [
       "0                                                                          Erica on the lax team is amazing give her a raise ty\n",
       "1                                                 Could you have someone on your lax team available to guide me to my gate ASAP\n",
       "2                                                                              Ben Tennyson and an American Airlines pilot. 🎃 …\n",
       "3       Right, but I earned those. I also shouldn’t have to pay to pass them to my own spouse. You need to change your program.\n",
       "4                                         Thank you, for playing and for having great flight attendants on my flight back home!\n",
       "                                                                 ...                                                           \n",
       "1847                                and have nailed in the transatlantic WiFi service. I am able to join my daily scrum onboard\n",
       "1848                                                                                Average price of ticket out: $2500 one way.\n",
       "1849                              Really annoyed been over a month since my damaged bag claim never heard back! done as told...\n",
       "1850                                   terrible service wait ages trying to call that number almost two months gone no response\n",
       "1851                                                 charges their patrons to change their flights every time an airport closes\n",
       "Name: question_clean, Length: 1852, dtype: object"
      ]
     },
     "execution_count": 91,
     "metadata": {},
     "output_type": "execute_result"
    }
   ],
   "source": [
    "data['question_clean'] = data['question'].apply(question_preprocess)\n",
    "data['question_clean']"
   ]
  },
  {
   "cell_type": "code",
   "execution_count": 92,
   "metadata": {},
   "outputs": [
    {
     "data": {
      "text/plain": [
       "0                                                                             [erica, on, the, lax, team, is, amazing, give, her, raise, ty]\n",
       "1                                             [could, you, have, someone, on, your, lax, team, available, to, guide, me, to, my, gate, asap]\n",
       "2                                                                                        [ben, tennyson, and, an, american, airlines, pilot]\n",
       "3       [right, but, earned, those, also, shouldn, have, to, pay, to, pass, them, to, my, own, spouse, you, need, to, change, your, program]\n",
       "4                                        [thank, you, for, playing, and, for, having, great, flight, attendants, on, my, flight, back, home]\n",
       "                                                                        ...                                                                 \n",
       "1847                               [and, have, nailed, in, the, transatlantic, wifi, service, am, able, to, join, my, daily, scrum, onboard]\n",
       "1848                                                                                             [average, price, of, ticket, out, one, way]\n",
       "1849                                [really, annoyed, been, over, month, since, my, damaged, bag, claim, never, heard, back, done, as, told]\n",
       "1850                                [terrible, service, wait, ages, trying, to, call, that, number, almost, two, months, gone, no, response]\n",
       "1851                                                 [charges, their, patrons, to, change, their, flights, every, time, an, airport, closes]\n",
       "Name: question_preproc, Length: 1852, dtype: object"
      ]
     },
     "execution_count": 92,
     "metadata": {},
     "output_type": "execute_result"
    }
   ],
   "source": [
    "data['question_preproc'] = data['question_clean'].apply(gensim.utils.simple_preprocess)\n",
    "data['question_preproc']"
   ]
  },
  {
   "cell_type": "code",
   "execution_count": 93,
   "metadata": {},
   "outputs": [],
   "source": [
    "def remove_stopwords(text):\n",
    "    return [[w for w in simple_preprocess(str(doc)) if w not in stop_words] for doc in text]"
   ]
  },
  {
   "cell_type": "code",
   "execution_count": 94,
   "metadata": {},
   "outputs": [
    {
     "data": {
      "text/plain": [
       "0                                                erica lax team amazing give raise ty\n",
       "1                                    could someone lax team available guide gate asap\n",
       "2                                                ben tennyson american airlines pilot\n",
       "3                               right earned also pay pass spouse need change program\n",
       "4                                                  playing great attendants back home\n",
       "                                            ...                                      \n",
       "1847                  nailed transatlantic wifi service able join daily scrum onboard\n",
       "1848                                                     average price ticket one way\n",
       "1849          really annoyed month since damaged bag claim never heard back done told\n",
       "1850    terrible service wait ages trying call number almost two months gone response\n",
       "1851                         charges patrons change flights every time airport closes\n",
       "Name: question_stop, Length: 1852, dtype: object"
      ]
     },
     "execution_count": 94,
     "metadata": {},
     "output_type": "execute_result"
    }
   ],
   "source": [
    "data[\"question_stop\"] = remove_stopwords(data['question_preproc'])\n",
    "data[\"question_stop\"] = data[\"question_stop\"].apply(\" \".join)\n",
    "data[\"question_stop\"]"
   ]
  },
  {
   "cell_type": "markdown",
   "metadata": {},
   "source": [
    "Lemmatize"
   ]
  },
  {
   "cell_type": "code",
   "execution_count": 95,
   "metadata": {},
   "outputs": [],
   "source": [
    "#lemmatize\n",
    "def lemmat(text):\n",
    "    result = []\n",
    "    text\n",
    "    for token in gensim.utils.simple_preprocess(text):\n",
    "        if token not in stop_words and len(token) > 2:\n",
    "            result.append(WordNetLemmatizer().lemmatize(token, pos='v'))\n",
    "    return result\n"
   ]
  },
  {
   "cell_type": "code",
   "execution_count": 96,
   "metadata": {},
   "outputs": [],
   "source": [
    "data [\"question_lem\"] = data[\"question_stop\"].apply(lemmat)"
   ]
  },
  {
   "cell_type": "code",
   "execution_count": 97,
   "metadata": {},
   "outputs": [
    {
     "data": {
      "text/html": [
       "<div>\n",
       "<style scoped>\n",
       "    .dataframe tbody tr th:only-of-type {\n",
       "        vertical-align: middle;\n",
       "    }\n",
       "\n",
       "    .dataframe tbody tr th {\n",
       "        vertical-align: top;\n",
       "    }\n",
       "\n",
       "    .dataframe thead th {\n",
       "        text-align: right;\n",
       "    }\n",
       "</style>\n",
       "<table border=\"1\" class=\"dataframe\">\n",
       "  <thead>\n",
       "    <tr style=\"text-align: right;\">\n",
       "      <th></th>\n",
       "      <th>question</th>\n",
       "      <th>question_lem</th>\n",
       "    </tr>\n",
       "  </thead>\n",
       "  <tbody>\n",
       "    <tr>\n",
       "      <th>0</th>\n",
       "      <td>@AmericanAir Erica on the lax team is amazing give her a raise ty</td>\n",
       "      <td>[erica, lax, team, amaze, give, raise]</td>\n",
       "    </tr>\n",
       "    <tr>\n",
       "      <th>1</th>\n",
       "      <td>@AmericanAir Could you have someone on your lax team available to guide me to my gate ASAP</td>\n",
       "      <td>[could, someone, lax, team, available, guide, gate, asap]</td>\n",
       "    </tr>\n",
       "    <tr>\n",
       "      <th>2</th>\n",
       "      <td>Ben Tennyson and an American Airlines pilot. 🎃 #trunkortreat #halloween #2017 #diycostume #parenting @americanair … https://t.co/f1nNHQ0iLa https://t.co/lDViDkRdB1</td>\n",
       "      <td>[ben, tennyson, american, airlines, pilot]</td>\n",
       "    </tr>\n",
       "    <tr>\n",
       "      <th>3</th>\n",
       "      <td>@AmericanAir Right, but I earned those. I also shouldn’t have to pay to pass them to my own spouse. You need to change your program.</td>\n",
       "      <td>[right, earn, also, pay, pass, spouse, need, change, program]</td>\n",
       "    </tr>\n",
       "    <tr>\n",
       "      <th>4</th>\n",
       "      <td>Thank you, @AmericanAir for playing #ThisIsUs and for having great flight attendants on my flight back home!</td>\n",
       "      <td>[play, great, attendants, back, home]</td>\n",
       "    </tr>\n",
       "    <tr>\n",
       "      <th>...</th>\n",
       "      <td>...</td>\n",
       "      <td>...</td>\n",
       "    </tr>\n",
       "    <tr>\n",
       "      <th>1847</th>\n",
       "      <td>@AmericanAir and @172 have nailed in the transatlantic WiFi service. I am able to join my @172377 daily scrum onboard</td>\n",
       "      <td>[nail, transatlantic, wifi, service, able, join, daily, scrum, onboard]</td>\n",
       "    </tr>\n",
       "    <tr>\n",
       "      <th>1848</th>\n",
       "      <td>@AmericanAir Average price of ticket out: $2500 one way.</td>\n",
       "      <td>[average, price, ticket, one, way]</td>\n",
       "    </tr>\n",
       "    <tr>\n",
       "      <th>1849</th>\n",
       "      <td>@AmericanAir Really annoyed been over a month since my damaged bag claim never heard back! done as told...</td>\n",
       "      <td>[really, annoy, month, since, damage, bag, claim, never, hear, back, do, tell]</td>\n",
       "    </tr>\n",
       "    <tr>\n",
       "      <th>1850</th>\n",
       "      <td>@AmericanAir terrible service wait ages trying to call that number almost two months gone no response</td>\n",
       "      <td>[terrible, service, wait, age, try, call, number, almost, two, months, go, response]</td>\n",
       "    </tr>\n",
       "    <tr>\n",
       "      <th>1851</th>\n",
       "      <td>@AmericanAir charges their patrons to change their flights every time an airport closes #stcroix</td>\n",
       "      <td>[charge, patrons, change, flight, every, time, airport, close]</td>\n",
       "    </tr>\n",
       "  </tbody>\n",
       "</table>\n",
       "<p>1852 rows × 2 columns</p>\n",
       "</div>"
      ],
      "text/plain": [
       "                                                                                                                                                                 question  \\\n",
       "0                                                                                                       @AmericanAir Erica on the lax team is amazing give her a raise ty   \n",
       "1                                                                              @AmericanAir Could you have someone on your lax team available to guide me to my gate ASAP   \n",
       "2     Ben Tennyson and an American Airlines pilot. 🎃 #trunkortreat #halloween #2017 #diycostume #parenting @americanair … https://t.co/f1nNHQ0iLa https://t.co/lDViDkRdB1   \n",
       "3                                    @AmericanAir Right, but I earned those. I also shouldn’t have to pay to pass them to my own spouse. You need to change your program.   \n",
       "4                                                            Thank you, @AmericanAir for playing #ThisIsUs and for having great flight attendants on my flight back home!   \n",
       "...                                                                                                                                                                   ...   \n",
       "1847                                                @AmericanAir and @172 have nailed in the transatlantic WiFi service. I am able to join my @172377 daily scrum onboard   \n",
       "1848                                                                                                             @AmericanAir Average price of ticket out: $2500 one way.   \n",
       "1849                                                           @AmericanAir Really annoyed been over a month since my damaged bag claim never heard back! done as told...   \n",
       "1850                                                                @AmericanAir terrible service wait ages trying to call that number almost two months gone no response   \n",
       "1851                                                                     @AmericanAir charges their patrons to change their flights every time an airport closes #stcroix   \n",
       "\n",
       "                                                                              question_lem  \n",
       "0                                                   [erica, lax, team, amaze, give, raise]  \n",
       "1                                [could, someone, lax, team, available, guide, gate, asap]  \n",
       "2                                               [ben, tennyson, american, airlines, pilot]  \n",
       "3                            [right, earn, also, pay, pass, spouse, need, change, program]  \n",
       "4                                                    [play, great, attendants, back, home]  \n",
       "...                                                                                    ...  \n",
       "1847               [nail, transatlantic, wifi, service, able, join, daily, scrum, onboard]  \n",
       "1848                                                    [average, price, ticket, one, way]  \n",
       "1849        [really, annoy, month, since, damage, bag, claim, never, hear, back, do, tell]  \n",
       "1850  [terrible, service, wait, age, try, call, number, almost, two, months, go, response]  \n",
       "1851                        [charge, patrons, change, flight, every, time, airport, close]  \n",
       "\n",
       "[1852 rows x 2 columns]"
      ]
     },
     "execution_count": 97,
     "metadata": {},
     "output_type": "execute_result"
    }
   ],
   "source": [
    "data[[\"question\",\"question_lem\"]]"
   ]
  },
  {
   "cell_type": "markdown",
   "metadata": {},
   "source": [
    "#### Making bigrams and trigrams"
   ]
  },
  {
   "cell_type": "code",
   "execution_count": 98,
   "metadata": {},
   "outputs": [
    {
     "name": "stdout",
     "output_type": "stream",
     "text": [
      "['god', 'go', 'ten', 'minutes']\n",
      "['give', 'grief', 'things', 'poorly', 'credit', 'guacamole', 'admirals_club', 'outstanding', 'addition']\n",
      "['aware', 'fit', 'overhead', 'return_trip', 'luggage', 'go', 'pre', 'security', 'gate', 'chck', 'empty', 'overheads', 'flt']\n",
      "['despite', 'fly', 'ewr', 'force', 'mia', 'check', 'guitar', 'amp', 'charge', 'gate', 'security', 'flt', 'full']\n",
      "['fifteen', 'empty', 'business_class', 'seat', 'one', 'person', 'get', 'upgrade']\n",
      "['still_wait', 'compensate', 'crap', 'put', 'honeymoon', 'almost', 'year', 'ago']\n",
      "['really', 'hour', 'international', 'seat', 'back', 'entertainment', 'screen', 'mon']\n",
      "['still', 'rather', 'screen', 'though', 'rather', 'cause', 'neck', 'problems', 'look', 'tablet']\n",
      "['say', 'attenants', 'bdl', 'ord', 'awesome', 'gate_agents', 'bdl', 'also', 'need', 'shout', 'awesome', 'customer_service', 'treat', 'nonrev', 'well']\n"
     ]
    }
   ],
   "source": [
    "bigram = gensim.models.Phrases(data[\"question_lem\"], min_count=3, threshold=10)\n",
    "bigram_mod = gensim.models.phrases.Phraser(bigram)\n",
    "\n",
    "#example\n",
    "for i in range(15,24):\n",
    "    print(bigram_mod[data[\"question_lem\"][i]])"
   ]
  },
  {
   "cell_type": "code",
   "execution_count": 99,
   "metadata": {},
   "outputs": [],
   "source": [
    "def bigrams(text):\n",
    "    return [bigram_mod[doc] for doc in text]"
   ]
  },
  {
   "cell_type": "code",
   "execution_count": 102,
   "metadata": {},
   "outputs": [],
   "source": [
    "data[\"question_lem_bigrams\"] = bigrams(data[\"question_lem\"])"
   ]
  },
  {
   "cell_type": "code",
   "execution_count": 103,
   "metadata": {},
   "outputs": [],
   "source": [
    "data = data[['responce', 'question','question_lem_bigrams']]"
   ]
  },
  {
   "cell_type": "markdown",
   "metadata": {},
   "source": [
    "#### prev preprocessing"
   ]
  },
  {
   "cell_type": "code",
   "execution_count": 61,
   "metadata": {},
   "outputs": [],
   "source": [
    "def lemmatize(text):\n",
    "    return WordNetLemmatizer().lemmatize(text, pos='v')\n",
    "\n",
    "def preprocess(text):\n",
    "    result = []\n",
    "    text = \" \".join(filter(lambda x:x[0]!='@', text.split()))\n",
    "    text = \" \".join(filter(lambda x:x[0]!='#', text.split()))\n",
    "    text = \" \".join(filter(lambda x:x[0:4]!='http', text.split()))\n",
    "    text = \" \".join(w for w in nltk.wordpunct_tokenize(text) \\\n",
    "        if w.lower() in words or not w.isalpha())\n",
    "    for token in gensim.utils.simple_preprocess(text):\n",
    "        if token not in stop_words and len(token) > 2:\n",
    "            result.append(lemmatize(token))\n",
    "    return result"
   ]
  },
  {
   "cell_type": "code",
   "execution_count": 62,
   "metadata": {},
   "outputs": [
    {
     "data": {
      "text/plain": [
       "0                         [lax, team, amaze, give, raise]\n",
       "1       [could, someone, lax, team, available, guide, ...\n",
       "2                                            [ben, pilot]\n",
       "3       [right, also, pay, pass, spouse, need, change,...\n",
       "4                                     [great, back, home]\n",
       "                              ...                        \n",
       "1847    [transatlantic, service, able, join, daily, sc...\n",
       "1848                   [average, price, ticket, one, way]\n",
       "1849    [really, month, since, bag, claim, never, back...\n",
       "1850    [terrible, service, wait, try, call, number, a...\n",
       "1851                       [change, every, time, airport]\n",
       "Name: question_prepro, Length: 1852, dtype: object"
      ]
     },
     "execution_count": 62,
     "metadata": {},
     "output_type": "execute_result"
    }
   ],
   "source": [
    "data['question_prepro'] = data['question'].apply(preprocess)\n",
    "data['question_prepro']"
   ]
  },
  {
   "cell_type": "markdown",
   "metadata": {},
   "source": [
    "We need to clean the responce too"
   ]
  },
  {
   "cell_type": "code",
   "execution_count": null,
   "metadata": {},
   "outputs": [],
   "source": [
    "def response_preprocess(text):\n",
    "    text = \" \".join(filter(lambda x:x[0]!='@', text.split()))\n",
    "    text = \" \".join(filter(lambda x:x[0]!='#', text.split()))\n",
    "    return text"
   ]
  },
  {
   "cell_type": "code",
   "execution_count": null,
   "metadata": {},
   "outputs": [
    {
     "data": {
      "text/plain": [
       "0                                                                                                       We'll be sure to pass along your kind words!\n",
       "1                               Our apologies for the delay in responding to you. Have you made it to LAX? Let us know if you still need assistance.\n",
       "2                                                                                               Aww, that's definitely a future pilot in the making!\n",
       "3                                                                                                                  We're sorry for your frustration.\n",
       "4                                                         We're glad you got to kick back and enjoy a show while flying! Thanks for your kind words.\n",
       "                                                                            ...                                                                     \n",
       "1847                           We know staying connected is important, why not take your office to 35k feet? We're so glad you're enjoying the WiFi!\n",
       "1848             We've capped our fares for nonstop flights at $99 for Puerto Rico through the 8th of Oct. Book travel here: https://t.co/iJWiiSmxCO\n",
       "1849                                                          Please give our Baggage team a call at 800-866-4010 for updates that may be available.\n",
       "1850    Our apologies for the hold. Our Central Baggage team will help at that number. If we can get an update, then please DM your bag file number.\n",
       "1851                    We're providing waivers for St Croix, Gillian. Please take a look at our Travel Alert for STX here: https://t.co/kNkPUiCR67.\n",
       "Name: responce, Length: 1852, dtype: object"
      ]
     },
     "execution_count": 127,
     "metadata": {},
     "output_type": "execute_result"
    }
   ],
   "source": [
    "data['responce'] = data['responce'].apply(response_preprocess)\n",
    "data['responce']"
   ]
  },
  {
   "cell_type": "markdown",
   "metadata": {},
   "source": [
    "Drop empty questions"
   ]
  },
  {
   "cell_type": "code",
   "execution_count": null,
   "metadata": {},
   "outputs": [],
   "source": [
    "pd.set_option('display.max_colwidth', None)"
   ]
  },
  {
   "cell_type": "code",
   "execution_count": null,
   "metadata": {},
   "outputs": [
    {
     "data": {
      "text/html": [
       "<div>\n",
       "<style scoped>\n",
       "    .dataframe tbody tr th:only-of-type {\n",
       "        vertical-align: middle;\n",
       "    }\n",
       "\n",
       "    .dataframe tbody tr th {\n",
       "        vertical-align: top;\n",
       "    }\n",
       "\n",
       "    .dataframe thead th {\n",
       "        text-align: right;\n",
       "    }\n",
       "</style>\n",
       "<table border=\"1\" class=\"dataframe\">\n",
       "  <thead>\n",
       "    <tr style=\"text-align: right;\">\n",
       "      <th></th>\n",
       "      <th>responce</th>\n",
       "      <th>question</th>\n",
       "      <th>question_prepro</th>\n",
       "    </tr>\n",
       "  </thead>\n",
       "  <tbody>\n",
       "    <tr>\n",
       "      <th>0</th>\n",
       "      <td>We'll be sure to pass along your kind words!</td>\n",
       "      <td>@AmericanAir Erica on the lax team is amazing give her a raise ty</td>\n",
       "      <td>[lax, team, amaze, give, raise]</td>\n",
       "    </tr>\n",
       "    <tr>\n",
       "      <th>1</th>\n",
       "      <td>Our apologies for the delay in responding to you. Have you made it to LAX? Let us know if you still need assistance.</td>\n",
       "      <td>@AmericanAir Could you have someone on your lax team available to guide me to my gate ASAP</td>\n",
       "      <td>[could, someone, lax, team, available, guide, gate]</td>\n",
       "    </tr>\n",
       "    <tr>\n",
       "      <th>2</th>\n",
       "      <td>Aww, that's definitely a future pilot in the making!</td>\n",
       "      <td>Ben Tennyson and an American Airlines pilot. 🎃 #trunkortreat #halloween #2017 #diycostume #parenting @americanair … https://t.co/f1nNHQ0iLa https://t.co/lDViDkRdB1</td>\n",
       "      <td>[ben, pilot]</td>\n",
       "    </tr>\n",
       "    <tr>\n",
       "      <th>3</th>\n",
       "      <td>We're sorry for your frustration.</td>\n",
       "      <td>@AmericanAir Right, but I earned those. I also shouldn’t have to pay to pass them to my own spouse. You need to change your program.</td>\n",
       "      <td>[right, also, pay, pass, spouse, need, change, program]</td>\n",
       "    </tr>\n",
       "    <tr>\n",
       "      <th>4</th>\n",
       "      <td>We're glad you got to kick back and enjoy a show while flying! Thanks for your kind words.</td>\n",
       "      <td>Thank you, @AmericanAir for playing #ThisIsUs and for having great flight attendants on my flight back home!</td>\n",
       "      <td>[great, back, home]</td>\n",
       "    </tr>\n",
       "    <tr>\n",
       "      <th>...</th>\n",
       "      <td>...</td>\n",
       "      <td>...</td>\n",
       "      <td>...</td>\n",
       "    </tr>\n",
       "    <tr>\n",
       "      <th>1847</th>\n",
       "      <td>We know staying connected is important, why not take your office to 35k feet? We're so glad you're enjoying the WiFi!</td>\n",
       "      <td>@AmericanAir and @172 have nailed in the transatlantic WiFi service. I am able to join my @172377 daily scrum onboard</td>\n",
       "      <td>[transatlantic, service, able, join, daily, scrum]</td>\n",
       "    </tr>\n",
       "    <tr>\n",
       "      <th>1848</th>\n",
       "      <td>We've capped our fares for nonstop flights at $99 for Puerto Rico through the 8th of Oct. Book travel here: https://t.co/iJWiiSmxCO</td>\n",
       "      <td>@AmericanAir Average price of ticket out: $2500 one way.</td>\n",
       "      <td>[average, price, ticket, one, way]</td>\n",
       "    </tr>\n",
       "    <tr>\n",
       "      <th>1849</th>\n",
       "      <td>Please give our Baggage team a call at 800-866-4010 for updates that may be available.</td>\n",
       "      <td>@AmericanAir Really annoyed been over a month since my damaged bag claim never heard back! done as told...</td>\n",
       "      <td>[really, month, since, bag, claim, never, back, do, tell]</td>\n",
       "    </tr>\n",
       "    <tr>\n",
       "      <th>1850</th>\n",
       "      <td>Our apologies for the hold. Our Central Baggage team will help at that number. If we can get an update, then please DM your bag file number.</td>\n",
       "      <td>@AmericanAir terrible service wait ages trying to call that number almost two months gone no response</td>\n",
       "      <td>[terrible, service, wait, try, call, number, almost, two, go, response]</td>\n",
       "    </tr>\n",
       "    <tr>\n",
       "      <th>1851</th>\n",
       "      <td>We're providing waivers for St Croix, Gillian. Please take a look at our Travel Alert for STX here: https://t.co/kNkPUiCR67.</td>\n",
       "      <td>@AmericanAir charges their patrons to change their flights every time an airport closes #stcroix</td>\n",
       "      <td>[change, every, time, airport]</td>\n",
       "    </tr>\n",
       "  </tbody>\n",
       "</table>\n",
       "<p>1716 rows × 3 columns</p>\n",
       "</div>"
      ],
      "text/plain": [
       "                                                                                                                                          responce  \\\n",
       "0                                                                                                     We'll be sure to pass along your kind words!   \n",
       "1                             Our apologies for the delay in responding to you. Have you made it to LAX? Let us know if you still need assistance.   \n",
       "2                                                                                             Aww, that's definitely a future pilot in the making!   \n",
       "3                                                                                                                We're sorry for your frustration.   \n",
       "4                                                       We're glad you got to kick back and enjoy a show while flying! Thanks for your kind words.   \n",
       "...                                                                                                                                            ...   \n",
       "1847                         We know staying connected is important, why not take your office to 35k feet? We're so glad you're enjoying the WiFi!   \n",
       "1848           We've capped our fares for nonstop flights at $99 for Puerto Rico through the 8th of Oct. Book travel here: https://t.co/iJWiiSmxCO   \n",
       "1849                                                        Please give our Baggage team a call at 800-866-4010 for updates that may be available.   \n",
       "1850  Our apologies for the hold. Our Central Baggage team will help at that number. If we can get an update, then please DM your bag file number.   \n",
       "1851                  We're providing waivers for St Croix, Gillian. Please take a look at our Travel Alert for STX here: https://t.co/kNkPUiCR67.   \n",
       "\n",
       "                                                                                                                                                                 question  \\\n",
       "0                                                                                                       @AmericanAir Erica on the lax team is amazing give her a raise ty   \n",
       "1                                                                              @AmericanAir Could you have someone on your lax team available to guide me to my gate ASAP   \n",
       "2     Ben Tennyson and an American Airlines pilot. 🎃 #trunkortreat #halloween #2017 #diycostume #parenting @americanair … https://t.co/f1nNHQ0iLa https://t.co/lDViDkRdB1   \n",
       "3                                    @AmericanAir Right, but I earned those. I also shouldn’t have to pay to pass them to my own spouse. You need to change your program.   \n",
       "4                                                            Thank you, @AmericanAir for playing #ThisIsUs and for having great flight attendants on my flight back home!   \n",
       "...                                                                                                                                                                   ...   \n",
       "1847                                                @AmericanAir and @172 have nailed in the transatlantic WiFi service. I am able to join my @172377 daily scrum onboard   \n",
       "1848                                                                                                             @AmericanAir Average price of ticket out: $2500 one way.   \n",
       "1849                                                           @AmericanAir Really annoyed been over a month since my damaged bag claim never heard back! done as told...   \n",
       "1850                                                                @AmericanAir terrible service wait ages trying to call that number almost two months gone no response   \n",
       "1851                                                                     @AmericanAir charges their patrons to change their flights every time an airport closes #stcroix   \n",
       "\n",
       "                                                              question_prepro  \n",
       "0                                             [lax, team, amaze, give, raise]  \n",
       "1                         [could, someone, lax, team, available, guide, gate]  \n",
       "2                                                                [ben, pilot]  \n",
       "3                     [right, also, pay, pass, spouse, need, change, program]  \n",
       "4                                                         [great, back, home]  \n",
       "...                                                                       ...  \n",
       "1847                       [transatlantic, service, able, join, daily, scrum]  \n",
       "1848                                       [average, price, ticket, one, way]  \n",
       "1849                [really, month, since, bag, claim, never, back, do, tell]  \n",
       "1850  [terrible, service, wait, try, call, number, almost, two, go, response]  \n",
       "1851                                           [change, every, time, airport]  \n",
       "\n",
       "[1716 rows x 3 columns]"
      ]
     },
     "execution_count": 129,
     "metadata": {},
     "output_type": "execute_result"
    }
   ],
   "source": [
    "data = data[data['question_prepro'].map(lambda d: len(d)) > 1]\n",
    "data"
   ]
  },
  {
   "cell_type": "markdown",
   "metadata": {},
   "source": [
    "#### Building LDA"
   ]
  },
  {
   "cell_type": "code",
   "execution_count": 104,
   "metadata": {},
   "outputs": [],
   "source": [
    "import gensim.corpora as corpora\n",
    "from pprint import pprint"
   ]
  },
  {
   "cell_type": "code",
   "execution_count": 105,
   "metadata": {},
   "outputs": [],
   "source": [
    "id2word = corpora.Dictionary(data[\"question_lem_bigrams\"])\n",
    "id2word.filter_extremes(no_below=3)\n",
    "corpus = [id2word.doc2bow(text) for text in data[\"question_lem_bigrams\"]]"
   ]
  },
  {
   "cell_type": "code",
   "execution_count": 106,
   "metadata": {},
   "outputs": [],
   "source": [
    "lda_model = gensim.models.LdaMulticore(corpus=corpus,\n",
    "                                       id2word=id2word,\n",
    "                                       num_topics=40)"
   ]
  },
  {
   "cell_type": "code",
   "execution_count": 107,
   "metadata": {},
   "outputs": [
    {
     "data": {
      "text/plain": [
       "[(1, 0.8049957)]"
      ]
     },
     "execution_count": 107,
     "metadata": {},
     "output_type": "execute_result"
    }
   ],
   "source": [
    "lda_model[corpus[0]]"
   ]
  },
  {
   "cell_type": "markdown",
   "metadata": {},
   "source": [
    "display the topic's top 10 words"
   ]
  },
  {
   "cell_type": "code",
   "execution_count": 108,
   "metadata": {},
   "outputs": [
    {
     "name": "stdout",
     "output_type": "stream",
     "text": [
      "(0, '0.031*\"check\" + 0.014*\"gate\" + 0.011*\"today\" + 0.011*\"give\" + 0.011*\"fly\" + 0.008*\"hey\" + 0.008*\"charlotte\" + 0.008*\"new\" + 0.008*\"yes\" + 0.008*\"try\"')\n",
      "(1, '0.021*\"want\" + 0.013*\"return\" + 0.013*\"take\" + 0.013*\"travel\" + 0.013*\"give\" + 0.010*\"bag\" + 0.010*\"day\" + 0.010*\"change\" + 0.010*\"work\" + 0.010*\"know\"')\n",
      "(2, '0.022*\"customer_service\" + 0.021*\"time\" + 0.017*\"would\" + 0.017*\"go\" + 0.015*\"book\" + 0.013*\"frequent_flyer\" + 0.013*\"chance\" + 0.013*\"know\" + 0.013*\"seat\" + 0.013*\"pay\"')\n",
      "(3, '0.041*\"seat\" + 0.016*\"pay\" + 0.013*\"another\" + 0.013*\"fly\" + 0.012*\"say\" + 0.011*\"time\" + 0.011*\"get\" + 0.010*\"board\" + 0.010*\"help\" + 0.009*\"gate\"')\n",
      "(4, '0.030*\"delay\" + 0.024*\"make\" + 0.014*\"get\" + 0.011*\"tell\" + 0.011*\"gate\" + 0.011*\"use\" + 0.011*\"minutes\" + 0.011*\"help\" + 0.010*\"today\" + 0.010*\"amp\"')\n",
      "(5, '0.017*\"baggage\" + 0.017*\"miami\" + 0.014*\"could\" + 0.014*\"get\" + 0.014*\"make\" + 0.014*\"today\" + 0.014*\"still\" + 0.010*\"special\" + 0.010*\"amp\" + 0.010*\"ord\"')\n",
      "(6, '0.019*\"check\" + 0.017*\"get\" + 0.017*\"gate\" + 0.017*\"today\" + 0.014*\"back\" + 0.014*\"crew\" + 0.011*\"already\" + 0.011*\"go\" + 0.010*\"way\" + 0.008*\"two\"')\n",
      "(7, '0.019*\"day\" + 0.014*\"trip\" + 0.011*\"way\" + 0.011*\"gate\" + 0.011*\"still\" + 0.011*\"try\" + 0.011*\"make\" + 0.011*\"today\" + 0.010*\"help\" + 0.010*\"change\"')\n",
      "(8, '0.019*\"time\" + 0.016*\"fly\" + 0.014*\"gate\" + 0.012*\"check\" + 0.012*\"board\" + 0.012*\"charge\" + 0.012*\"call\" + 0.012*\"hey\" + 0.012*\"hours\" + 0.011*\"cancel\"')\n",
      "(9, '0.016*\"flight\" + 0.013*\"end\" + 0.013*\"upgrade\" + 0.010*\"customer_service\" + 0.010*\"issue\" + 0.009*\"fare\" + 0.009*\"wrong\" + 0.009*\"seat\" + 0.009*\"buy\" + 0.009*\"family\"')\n",
      "(10, '0.018*\"delay\" + 0.013*\"amp\" + 0.013*\"service\" + 0.013*\"try\" + 0.012*\"say\" + 0.011*\"gate\" + 0.011*\"time\" + 0.010*\"issue\" + 0.010*\"ticket\" + 0.010*\"nothing\"')\n",
      "(11, '0.025*\"pay\" + 0.022*\"gate\" + 0.016*\"dfw\" + 0.013*\"one\" + 0.013*\"without\" + 0.010*\"suppose\" + 0.010*\"customer\" + 0.010*\"years\" + 0.010*\"need\" + 0.010*\"flight\"')\n",
      "(12, '0.024*\"time\" + 0.019*\"fly\" + 0.019*\"service\" + 0.017*\"delay\" + 0.012*\"first_class\" + 0.012*\"know\" + 0.009*\"book\" + 0.009*\"early\" + 0.009*\"check\" + 0.009*\"late\"')\n",
      "(13, '0.034*\"delay\" + 0.015*\"another\" + 0.015*\"go\" + 0.012*\"gate\" + 0.012*\"seat\" + 0.012*\"ticket\" + 0.012*\"great\" + 0.012*\"need\" + 0.011*\"time\" + 0.010*\"cool\"')\n",
      "(14, '0.015*\"fly\" + 0.015*\"dfw\" + 0.011*\"class\" + 0.011*\"board\" + 0.011*\"charge\" + 0.011*\"bag\" + 0.011*\"airlines\" + 0.011*\"ord\" + 0.011*\"good\" + 0.011*\"go\"')\n",
      "(15, '0.016*\"bag\" + 0.015*\"get\" + 0.014*\"book\" + 0.011*\"amp\" + 0.011*\"ticket\" + 0.010*\"tell\" + 0.009*\"basic_economy\" + 0.009*\"even\" + 0.009*\"today\" + 0.009*\"without\"')\n",
      "(16, '0.015*\"service\" + 0.014*\"today\" + 0.012*\"rude\" + 0.012*\"hours\" + 0.010*\"staff\" + 0.010*\"fly\" + 0.010*\"even\" + 0.010*\"flight\" + 0.010*\"good\" + 0.009*\"time\"')\n",
      "(17, '0.018*\"try\" + 0.016*\"hours\" + 0.016*\"get\" + 0.016*\"ticket\" + 0.013*\"charge\" + 0.012*\"take\" + 0.011*\"bag\" + 0.011*\"still\" + 0.011*\"go\" + 0.011*\"check_bag\"')\n",
      "(18, '0.023*\"flight\" + 0.015*\"book\" + 0.015*\"would\" + 0.013*\"get\" + 0.012*\"gate\" + 0.011*\"bag\" + 0.011*\"next\" + 0.010*\"pilot\" + 0.009*\"say\" + 0.009*\"every\"')\n",
      "(19, '0.022*\"time\" + 0.020*\"pilot\" + 0.015*\"service\" + 0.015*\"plan\" + 0.012*\"fee\" + 0.012*\"passengers\" + 0.012*\"part\" + 0.012*\"miss\" + 0.012*\"much\" + 0.009*\"stop\"')\n",
      "(20, '0.019*\"bag\" + 0.016*\"time\" + 0.013*\"customer_service\" + 0.013*\"happen\" + 0.013*\"need\" + 0.009*\"prefer\" + 0.009*\"one\" + 0.009*\"delay\" + 0.009*\"hour\" + 0.009*\"never\"')\n",
      "(21, '0.021*\"time\" + 0.015*\"change\" + 0.015*\"know\" + 0.012*\"say\" + 0.012*\"contact\" + 0.012*\"make\" + 0.011*\"need\" + 0.011*\"delay\" + 0.010*\"give\" + 0.009*\"go\"')\n",
      "(22, '0.013*\"go\" + 0.013*\"need\" + 0.013*\"guy\" + 0.013*\"bag\" + 0.011*\"hey\" + 0.011*\"help\" + 0.010*\"way\" + 0.009*\"possible\" + 0.009*\"make\" + 0.009*\"receive\"')\n",
      "(23, '0.017*\"bag\" + 0.017*\"pay\" + 0.015*\"make\" + 0.015*\"check\" + 0.012*\"baggage\" + 0.012*\"gate\" + 0.010*\"customer_service\" + 0.010*\"still\" + 0.008*\"say\" + 0.007*\"staff\"')\n",
      "(24, '0.021*\"seat\" + 0.012*\"time\" + 0.011*\"lose\" + 0.011*\"wait\" + 0.011*\"flight\" + 0.010*\"amp\" + 0.010*\"way\" + 0.009*\"hours\" + 0.008*\"start\" + 0.008*\"date\"')\n",
      "(25, '0.027*\"bag\" + 0.023*\"back\" + 0.020*\"board\" + 0.015*\"agent\" + 0.014*\"yet\" + 0.012*\"tell\" + 0.010*\"make\" + 0.010*\"would\" + 0.010*\"still\" + 0.009*\"days\"')\n",
      "(26, '0.023*\"upgrade\" + 0.017*\"delay\" + 0.016*\"flight\" + 0.016*\"help\" + 0.016*\"see\" + 0.014*\"book\" + 0.013*\"make\" + 0.012*\"wifi\" + 0.012*\"pay\" + 0.012*\"much\"')\n",
      "(27, '0.019*\"try\" + 0.019*\"gate\" + 0.018*\"passengers\" + 0.016*\"pilot\" + 0.012*\"flight\" + 0.012*\"book\" + 0.012*\"say\" + 0.012*\"work\" + 0.012*\"response\" + 0.012*\"bring\"')\n",
      "(28, '0.013*\"lounge\" + 0.011*\"need\" + 0.011*\"delay\" + 0.010*\"tell\" + 0.009*\"take\" + 0.008*\"cancel\" + 0.008*\"like\" + 0.008*\"one\" + 0.008*\"really\" + 0.008*\"give\"')\n",
      "(29, '0.018*\"take\" + 0.017*\"great\" + 0.015*\"today\" + 0.014*\"make\" + 0.014*\"new\" + 0.014*\"travel\" + 0.013*\"bag\" + 0.011*\"delay\" + 0.011*\"get\" + 0.010*\"back\"')\n",
      "(30, '0.022*\"day\" + 0.016*\"try\" + 0.014*\"wait\" + 0.013*\"ticket\" + 0.012*\"one\" + 0.012*\"buy\" + 0.012*\"say\" + 0.012*\"much\" + 0.012*\"seat\" + 0.010*\"tomorrow\"')\n",
      "(31, '0.020*\"know\" + 0.017*\"app\" + 0.016*\"allow\" + 0.016*\"cancel\" + 0.016*\"day\" + 0.016*\"flight\" + 0.016*\"use\" + 0.016*\"seat\" + 0.012*\"need\" + 0.012*\"send\"')\n",
      "(32, '0.041*\"delay\" + 0.016*\"need\" + 0.016*\"work\" + 0.013*\"new\" + 0.013*\"hours\" + 0.012*\"give\" + 0.011*\"first\" + 0.011*\"good\" + 0.011*\"jfk\" + 0.011*\"fly\"')\n",
      "(33, '0.016*\"hour\" + 0.014*\"flight\" + 0.014*\"still\" + 0.014*\"make\" + 0.014*\"charge\" + 0.011*\"hey\" + 0.011*\"know\" + 0.011*\"gate\" + 0.011*\"time\" + 0.009*\"way\"')\n",
      "(34, '0.020*\"upgrade\" + 0.015*\"back\" + 0.013*\"help\" + 0.013*\"time\" + 0.012*\"tell\" + 0.011*\"cancel\" + 0.010*\"train\" + 0.010*\"entire\" + 0.010*\"pick_seat\" + 0.010*\"price\"')\n",
      "(35, '0.020*\"want\" + 0.020*\"check\" + 0.017*\"airport\" + 0.014*\"luggage\" + 0.011*\"miami\" + 0.011*\"food\" + 0.011*\"free\" + 0.011*\"fly\" + 0.011*\"travel\" + 0.010*\"ticket\"')\n",
      "(36, '0.022*\"take\" + 0.019*\"delay\" + 0.014*\"upgrade\" + 0.012*\"seat\" + 0.011*\"nice\" + 0.011*\"seriously\" + 0.011*\"still\" + 0.011*\"book\" + 0.010*\"guy\" + 0.008*\"thanksgiving\"')\n",
      "(37, '0.018*\"seat\" + 0.015*\"together\" + 0.015*\"help\" + 0.012*\"never\" + 0.012*\"nothing\" + 0.012*\"happen\" + 0.011*\"flight\" + 0.010*\"family\" + 0.009*\"even\" + 0.009*\"still\"')\n",
      "(38, '0.026*\"amp\" + 0.018*\"gate\" + 0.017*\"ticket\" + 0.013*\"get\" + 0.013*\"fly\" + 0.013*\"customer_service\" + 0.011*\"time\" + 0.011*\"pay\" + 0.009*\"issue\" + 0.008*\"bad\"')\n",
      "(39, '0.018*\"send\" + 0.014*\"luggage\" + 0.014*\"damage\" + 0.014*\"take\" + 0.014*\"pilot\" + 0.014*\"land\" + 0.011*\"guy\" + 0.011*\"pay\" + 0.009*\"see\" + 0.009*\"supply\"')\n"
     ]
    }
   ],
   "source": [
    "topwords = np.array(lda_model.show_topics(num_topics=40, num_words=10))\n",
    "for i in enumerate(topwords[:,1]):\n",
    "    print(i)"
   ]
  },
  {
   "cell_type": "markdown",
   "metadata": {},
   "source": [
    "#### Try to extract topic from new text "
   ]
  },
  {
   "cell_type": "code",
   "execution_count": 109,
   "metadata": {},
   "outputs": [],
   "source": [
    "from operator import itemgetter"
   ]
  },
  {
   "cell_type": "code",
   "execution_count": 125,
   "metadata": {},
   "outputs": [
    {
     "data": {
      "text/plain": [
       "19"
      ]
     },
     "execution_count": 125,
     "metadata": {},
     "output_type": "execute_result"
    }
   ],
   "source": [
    "def get_highest_topic(text):\n",
    "  text_cleaned = gensim.utils.simple_preprocess(question_preprocess(text))\n",
    "  text_lem = bigram_mod[lemmat(\" \".join([w for w in text_cleaned if w not in stop_words]))]\n",
    "\n",
    "  result = lda_model[id2word.doc2bow(text_lem)]\n",
    "  return max(result, key=itemgetter(1))[0]\n",
    "\n",
    "get_highest_topic('@AmericanAir terrible service wait ages trying to call customer service almost two months gone no response')"
   ]
  },
  {
   "cell_type": "code",
   "execution_count": null,
   "metadata": {},
   "outputs": [],
   "source": [
    "'''\n",
    "def get_highest_topic(text):\n",
    "  text_cleaned = preprocess(text)\n",
    "  result = lda_model[id2word.doc2bow(text_cleaned)]\n",
    "  #print(\"Max topic topic : \", max(result, key=itemgetter(1))[0], \n",
    "  #     \"\\nWith : \", max(result, key=itemgetter(1))[1])\n",
    "  return max(result, key=itemgetter(1))[0]\n",
    "\n",
    "get_highest_topic('Ben Tennyson  Airlines pilot.')\n",
    "'''\n"
   ]
  },
  {
   "cell_type": "code",
   "execution_count": 127,
   "metadata": {},
   "outputs": [
    {
     "data": {
      "text/html": [
       "<div>\n",
       "<style scoped>\n",
       "    .dataframe tbody tr th:only-of-type {\n",
       "        vertical-align: middle;\n",
       "    }\n",
       "\n",
       "    .dataframe tbody tr th {\n",
       "        vertical-align: top;\n",
       "    }\n",
       "\n",
       "    .dataframe thead th {\n",
       "        text-align: right;\n",
       "    }\n",
       "</style>\n",
       "<table border=\"1\" class=\"dataframe\">\n",
       "  <thead>\n",
       "    <tr style=\"text-align: right;\">\n",
       "      <th></th>\n",
       "      <th>responce</th>\n",
       "      <th>question</th>\n",
       "      <th>question_lem_bigrams</th>\n",
       "      <th>topic</th>\n",
       "    </tr>\n",
       "  </thead>\n",
       "  <tbody>\n",
       "    <tr>\n",
       "      <th>0</th>\n",
       "      <td>@115904 We'll be sure to pass along your kind words! #AATeam</td>\n",
       "      <td>@AmericanAir Erica on the lax team is amazing give her a raise ty</td>\n",
       "      <td>[erica, lax, team, amaze, give, raise]</td>\n",
       "      <td>1</td>\n",
       "    </tr>\n",
       "    <tr>\n",
       "      <th>1</th>\n",
       "      <td>@115904 Our apologies for the delay in responding to you. Have you made it to LAX? Let us know if you still need assistance.</td>\n",
       "      <td>@AmericanAir Could you have someone on your lax team available to guide me to my gate ASAP</td>\n",
       "      <td>[could, someone, lax, team, available, guide, gate, asap]</td>\n",
       "      <td>3</td>\n",
       "    </tr>\n",
       "    <tr>\n",
       "      <th>2</th>\n",
       "      <td>@115905 Aww, that's definitely a future pilot in the making! #HappyHalloween</td>\n",
       "      <td>Ben Tennyson and an American Airlines pilot. 🎃 #trunkortreat #halloween #2017 #diycostume #parenting @americanair … https://t.co/f1nNHQ0iLa https://t.co/lDViDkRdB1</td>\n",
       "      <td>[ben, tennyson, american_airlines, pilot]</td>\n",
       "      <td>19</td>\n",
       "    </tr>\n",
       "    <tr>\n",
       "      <th>3</th>\n",
       "      <td>@115906 We're sorry for your frustration.</td>\n",
       "      <td>@AmericanAir Right, but I earned those. I also shouldn’t have to pay to pass them to my own spouse. You need to change your program.</td>\n",
       "      <td>[right, earn, also, pay, pass, spouse, need, change, program]</td>\n",
       "      <td>11</td>\n",
       "    </tr>\n",
       "    <tr>\n",
       "      <th>4</th>\n",
       "      <td>@115909 We're glad you got to kick back and enjoy a show while flying! Thanks for your kind words.</td>\n",
       "      <td>Thank you, @AmericanAir for playing #ThisIsUs and for having great flight attendants on my flight back home!</td>\n",
       "      <td>[play, great, attendants, back, home]</td>\n",
       "      <td>29</td>\n",
       "    </tr>\n",
       "    <tr>\n",
       "      <th>5</th>\n",
       "      <td>@116142 We never want your experience to be anything less than perfect. We're sorry the Wi-Fi was slower than expected.</td>\n",
       "      <td>@AmericanAir's wifi makes Amtrak's wifi look pro. At least theirs is free.  @5804 has decent wifi @ reasonable prices. Why not AA?</td>\n",
       "      <td>[wifi, make, amtrak, wifi, look, pro, least, free, decent, wifi, reasonable, price]</td>\n",
       "      <td>26</td>\n",
       "    </tr>\n",
       "    <tr>\n",
       "      <th>6</th>\n",
       "      <td>@116143 Thanks for the shout-out and for stopping by, Marc! We'll pass this on to our SFO Admirals Club managers.</td>\n",
       "      <td>Wonderful club! @americanair (@ American Airlines Admirals Club in San Francisco, CA) https://t.co/GWFwuGVgNA</td>\n",
       "      <td>[wonderful, club, american_airlines, admirals_club, san, francisco]</td>\n",
       "      <td>23</td>\n",
       "    </tr>\n",
       "    <tr>\n",
       "      <th>7</th>\n",
       "      <td>@116144 They'll be more than happy to walk you through it and help with the booking process.</td>\n",
       "      <td>@AmericanAir already did...changed browsers, did all my techie tricks and still can't make a reservation after 1 hour!!</td>\n",
       "      <td>[already, change, browsers, techie, trick, still, make, reservation, hour]</td>\n",
       "      <td>5</td>\n",
       "    </tr>\n",
       "    <tr>\n",
       "      <th>8</th>\n",
       "      <td>@116144 We're sorry for the long wait. The next available agent will be with you as soon as possible.</td>\n",
       "      <td>@AmericanAir ........still....on....hold.....they made the booking. I am trying to pay.....so #frustrating.</td>\n",
       "      <td>[still, hold, make, book, try, pay]</td>\n",
       "      <td>7</td>\n",
       "    </tr>\n",
       "    <tr>\n",
       "      <th>9</th>\n",
       "      <td>@116144 Fares sell in real time. We're sorry we weren't able to snag the lower fare for you.</td>\n",
       "      <td>@AmericanAir well now i am told the ticket cost is an additional $200/person to pay....because of the wait....omg</td>\n",
       "      <td>[well, tell, ticket, cost, additional, person, pay, wait, omg]</td>\n",
       "      <td>17</td>\n",
       "    </tr>\n",
       "  </tbody>\n",
       "</table>\n",
       "</div>"
      ],
      "text/plain": [
       "                                                                                                                       responce  \\\n",
       "0                                                                  @115904 We'll be sure to pass along your kind words! #AATeam   \n",
       "1  @115904 Our apologies for the delay in responding to you. Have you made it to LAX? Let us know if you still need assistance.   \n",
       "2                                                  @115905 Aww, that's definitely a future pilot in the making! #HappyHalloween   \n",
       "3                                                                                     @115906 We're sorry for your frustration.   \n",
       "4                            @115909 We're glad you got to kick back and enjoy a show while flying! Thanks for your kind words.   \n",
       "5       @116142 We never want your experience to be anything less than perfect. We're sorry the Wi-Fi was slower than expected.   \n",
       "6             @116143 Thanks for the shout-out and for stopping by, Marc! We'll pass this on to our SFO Admirals Club managers.   \n",
       "7                                  @116144 They'll be more than happy to walk you through it and help with the booking process.   \n",
       "8                         @116144 We're sorry for the long wait. The next available agent will be with you as soon as possible.   \n",
       "9                                  @116144 Fares sell in real time. We're sorry we weren't able to snag the lower fare for you.   \n",
       "\n",
       "                                                                                                                                                              question  \\\n",
       "0                                                                                                    @AmericanAir Erica on the lax team is amazing give her a raise ty   \n",
       "1                                                                           @AmericanAir Could you have someone on your lax team available to guide me to my gate ASAP   \n",
       "2  Ben Tennyson and an American Airlines pilot. 🎃 #trunkortreat #halloween #2017 #diycostume #parenting @americanair … https://t.co/f1nNHQ0iLa https://t.co/lDViDkRdB1   \n",
       "3                                 @AmericanAir Right, but I earned those. I also shouldn’t have to pay to pass them to my own spouse. You need to change your program.   \n",
       "4                                                         Thank you, @AmericanAir for playing #ThisIsUs and for having great flight attendants on my flight back home!   \n",
       "5                                   @AmericanAir's wifi makes Amtrak's wifi look pro. At least theirs is free.  @5804 has decent wifi @ reasonable prices. Why not AA?   \n",
       "6                                                        Wonderful club! @americanair (@ American Airlines Admirals Club in San Francisco, CA) https://t.co/GWFwuGVgNA   \n",
       "7                                              @AmericanAir already did...changed browsers, did all my techie tricks and still can't make a reservation after 1 hour!!   \n",
       "8                                                          @AmericanAir ........still....on....hold.....they made the booking. I am trying to pay.....so #frustrating.   \n",
       "9                                                    @AmericanAir well now i am told the ticket cost is an additional $200/person to pay....because of the wait....omg   \n",
       "\n",
       "                                                                  question_lem_bigrams  \\\n",
       "0                                               [erica, lax, team, amaze, give, raise]   \n",
       "1                            [could, someone, lax, team, available, guide, gate, asap]   \n",
       "2                                            [ben, tennyson, american_airlines, pilot]   \n",
       "3                        [right, earn, also, pay, pass, spouse, need, change, program]   \n",
       "4                                                [play, great, attendants, back, home]   \n",
       "5  [wifi, make, amtrak, wifi, look, pro, least, free, decent, wifi, reasonable, price]   \n",
       "6                  [wonderful, club, american_airlines, admirals_club, san, francisco]   \n",
       "7           [already, change, browsers, techie, trick, still, make, reservation, hour]   \n",
       "8                                                  [still, hold, make, book, try, pay]   \n",
       "9                       [well, tell, ticket, cost, additional, person, pay, wait, omg]   \n",
       "\n",
       "   topic  \n",
       "0      1  \n",
       "1      3  \n",
       "2     19  \n",
       "3     11  \n",
       "4     29  \n",
       "5     26  \n",
       "6     23  \n",
       "7      5  \n",
       "8      7  \n",
       "9     17  "
      ]
     },
     "execution_count": 127,
     "metadata": {},
     "output_type": "execute_result"
    }
   ],
   "source": [
    "data['topic'] = data['question'].apply(get_highest_topic)\n",
    "data.head(10)"
   ]
  },
  {
   "cell_type": "markdown",
   "metadata": {},
   "source": [
    "#### Building Intents"
   ]
  },
  {
   "cell_type": "code",
   "execution_count": 128,
   "metadata": {},
   "outputs": [],
   "source": [
    "intents = {\"Greeting\": [\"Hello\", \"How are you doing?\", \"Greetings!\", \"How do you do?\"],\n",
    "          \"Apology\": [\"No problem\"],\n",
    "          \"Thanks\": [\"No problem\", \"You're welcome\"],\n",
    "          \"Goodbye\": [\"It was nice speaking to you\", \"See you later\", \"Speak soon!\"]\n",
    "             }"
   ]
  },
  {
   "cell_type": "code",
   "execution_count": 129,
   "metadata": {},
   "outputs": [],
   "source": [
    "def update_intents(df):\n",
    "  for index, row in df.iterrows():\n",
    "    if str(row['topic']) not in intents :\n",
    "      intents[str(row['topic'])] = []\n",
    "    if row['responce'] != \"\":\n",
    "      intents[str(row['topic'])].append(str(row['responce']))"
   ]
  },
  {
   "cell_type": "code",
   "execution_count": 130,
   "metadata": {},
   "outputs": [],
   "source": [
    "update_intents(data)"
   ]
  },
  {
   "cell_type": "markdown",
   "metadata": {},
   "source": [
    "Save Intents in order to use it again"
   ]
  },
  {
   "cell_type": "code",
   "execution_count": 131,
   "metadata": {},
   "outputs": [],
   "source": [
    "with open('intents.json', 'w') as fp:\n",
    "    json.dump(intents, fp)"
   ]
  },
  {
   "cell_type": "markdown",
   "metadata": {},
   "source": [
    "#### Doc2Vec"
   ]
  },
  {
   "cell_type": "code",
   "execution_count": 132,
   "metadata": {},
   "outputs": [],
   "source": [
    "from gensim.models.doc2vec import Doc2Vec, TaggedDocument"
   ]
  },
  {
   "cell_type": "code",
   "execution_count": 133,
   "metadata": {},
   "outputs": [],
   "source": [
    "tagged_data = [TaggedDocument(d, [i]) for i, d in enumerate(data['responce'])]\n",
    "model = Doc2Vec(tagged_data, window=1, min_count=2, epochs = 200)"
   ]
  },
  {
   "cell_type": "markdown",
   "metadata": {},
   "source": [
    "#### First Results "
   ]
  },
  {
   "cell_type": "code",
   "execution_count": 134,
   "metadata": {},
   "outputs": [],
   "source": [
    "def chatbot(text):\n",
    "  result = model.docvecs.most_similar(positive=[model.infer_vector(preprocess(text))], topn=1850)\n",
    "  topic = get_highest_topic('text')\n",
    "  for l in result:\n",
    "    if data['topic'].iloc[int(l[0])] == topic:\n",
    "      return data['responce'].iloc[int(l[0])]"
   ]
  },
  {
   "cell_type": "code",
   "execution_count": null,
   "metadata": {},
   "outputs": [
    {
     "name": "stdout",
     "output_type": "stream",
     "text": [
      "QUESTION : @AmericanAir what’s going on with flight 301 DTW &gt; DFW? Delayed over 3 hours. Will it be canceled?\n",
      "EXPECTED : Looks like it has a maintenance delay and it's currently scheduled to take off at 10:10p.\n",
      "PREDICTED : @125892 Please DM us the details of your experience. \n",
      "\n",
      "QUESTION : @AmericanAir awful service, more than 1 hour delay due to logbook maintenance issues. Where is preventive maintenance?\n",
      "EXPECTED : We do many checks pre and post departure. Please share your flight number if we can provide an update.\n",
      "PREDICTED : @152570 We're working hard to include power on most our planes and either inflight entertainment, or streaming capability, David. \n",
      "\n",
      "QUESTION : @AmericanAir Yes. Refund my plane ticket😡 with your racist ass workers\n",
      "EXPECTED : We don't tolerate discrimination of any kind. Please DM your record locator and contact details (phone and email)\n",
      "PREDICTED : @141341 Usually, First Class or full fare tickets allow you to make voluntary changes and it's even refundable without any penalties. \n",
      "\n",
      "QUESTION : @AmericanAir I'm aware. Fits in overhead.This was a return trip. Had same luggage going. This was pre-security. Gate chck, ok, but Empty overheads on flt\n",
      "EXPECTED : We'd like to share this feedback. Please DM your record locator.\n",
      "PREDICTED : @125472 If free seats are no longer available, our airport team is happy to assist in assigning one the day. \n",
      "\n"
     ]
    },
    {
     "name": "stderr",
     "output_type": "stream",
     "text": [
      "C:\\Users\\adrie\\AppData\\Local\\Temp\\ipykernel_19400\\3267808912.py:2: DeprecationWarning: Call to deprecated `docvecs` (The `docvecs` property has been renamed `dv`.).\n",
      "  result = model.docvecs.most_similar(positive=[model.infer_vector(preprocess(text))], topn=1850)\n"
     ]
    }
   ],
   "source": [
    "#Preexisting questions and responses\n",
    "list_word = [\"@AmericanAir what’s going on with flight 301 DTW &gt; DFW? Delayed over 3 hours. Will it be canceled?\", \n",
    "             \"@AmericanAir awful service, more than 1 hour delay due to logbook maintenance issues. Where is preventive maintenance?\",\n",
    "             \"@AmericanAir Yes. Refund my plane ticket😡 with your racist ass workers\",\n",
    "             \"@AmericanAir I'm aware. Fits in overhead.This was a return trip. Had same luggage going. This was pre-security. Gate chck, ok, but Empty overheads on flt\"]\n",
    "\n",
    "list_resp = [\"Looks like it has a maintenance delay and it's currently scheduled to take off at 10:10p.\",\n",
    "             \"We do many checks pre and post departure. Please share your flight number if we can provide an update.\",\n",
    "             \"We don't tolerate discrimination of any kind. Please DM your record locator and contact details (phone and email)\",\n",
    "             \"We'd like to share this feedback. Please DM your record locator.\"]\n",
    "\n",
    "for q,r in zip(list_word, list_resp):\n",
    "  print(\"QUESTION :\", q)\n",
    "  print(\"EXPECTED :\", r)\n",
    "  print(\"PREDICTED :\", chatbot(q),\"\\n\")\n",
    "  \n"
   ]
  },
  {
   "cell_type": "code",
   "execution_count": 135,
   "metadata": {},
   "outputs": [
    {
     "name": "stderr",
     "output_type": "stream",
     "text": [
      "C:\\Users\\adrie\\AppData\\Local\\Temp\\ipykernel_63272\\3267808912.py:2: DeprecationWarning: Call to deprecated `docvecs` (The `docvecs` property has been renamed `dv`.).\n",
      "  result = model.docvecs.most_similar(positive=[model.infer_vector(preprocess(text))], topn=1850)\n"
     ]
    },
    {
     "data": {
      "text/plain": [
       "'@126770 The cost to buy miles is preset and the chart is available here, Cristen: https://t.co/9zLqAIrtdx'"
      ]
     },
     "execution_count": 135,
     "metadata": {},
     "output_type": "execute_result"
    }
   ],
   "source": [
    "question = input('Enter your question : ')\n",
    "chatbot(question)"
   ]
  },
  {
   "cell_type": "code",
   "execution_count": null,
   "metadata": {},
   "outputs": [],
   "source": []
  }
 ],
 "metadata": {
  "kernelspec": {
   "display_name": "Python 3.8.8 ('base')",
   "language": "python",
   "name": "python3"
  },
  "language_info": {
   "codemirror_mode": {
    "name": "ipython",
    "version": 3
   },
   "file_extension": ".py",
   "mimetype": "text/x-python",
   "name": "python",
   "nbconvert_exporter": "python",
   "pygments_lexer": "ipython3",
   "version": "3.8.8"
  },
  "orig_nbformat": 4,
  "vscode": {
   "interpreter": {
    "hash": "bfb5a87c35bcd43997975c71900d67fd988e3d78f446c88335b459b4ff2da931"
   }
  }
 },
 "nbformat": 4,
 "nbformat_minor": 2
}
