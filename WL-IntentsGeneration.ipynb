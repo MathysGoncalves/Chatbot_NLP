{
 "cells": [
  {
   "cell_type": "markdown",
   "metadata": {},
   "source": [
    "# Creation of Intents"
   ]
  },
  {
   "cell_type": "markdown",
   "metadata": {},
   "source": [
    "#### Loading Data"
   ]
  },
  {
   "cell_type": "code",
   "execution_count": 1,
   "metadata": {},
   "outputs": [],
   "source": [
    "import pandas as pd"
   ]
  },
  {
   "cell_type": "code",
   "execution_count": 2,
   "metadata": {},
   "outputs": [],
   "source": [
    "pd.set_option('display.max_colwidth', None)"
   ]
  },
  {
   "cell_type": "code",
   "execution_count": 3,
   "metadata": {},
   "outputs": [
    {
     "data": {
      "text/html": [
       "<div>\n",
       "<style scoped>\n",
       "    .dataframe tbody tr th:only-of-type {\n",
       "        vertical-align: middle;\n",
       "    }\n",
       "\n",
       "    .dataframe tbody tr th {\n",
       "        vertical-align: top;\n",
       "    }\n",
       "\n",
       "    .dataframe thead th {\n",
       "        text-align: right;\n",
       "    }\n",
       "</style>\n",
       "<table border=\"1\" class=\"dataframe\">\n",
       "  <thead>\n",
       "    <tr style=\"text-align: right;\">\n",
       "      <th></th>\n",
       "      <th>responce</th>\n",
       "      <th>question</th>\n",
       "    </tr>\n",
       "  </thead>\n",
       "  <tbody>\n",
       "    <tr>\n",
       "      <th>0</th>\n",
       "      <td>@115904 We'll be sure to pass along your kind words! #AATeam</td>\n",
       "      <td>@AmericanAir Erica on the lax team is amazing give her a raise ty</td>\n",
       "    </tr>\n",
       "    <tr>\n",
       "      <th>1</th>\n",
       "      <td>@115904 Our apologies for the delay in responding to you. Have you made it to LAX? Let us know if you still need assistance.</td>\n",
       "      <td>@AmericanAir Could you have someone on your lax team available to guide me to my gate ASAP</td>\n",
       "    </tr>\n",
       "    <tr>\n",
       "      <th>2</th>\n",
       "      <td>@115905 Aww, that's definitely a future pilot in the making! #HappyHalloween</td>\n",
       "      <td>Ben Tennyson and an American Airlines pilot. 🎃 #trunkortreat #halloween #2017 #diycostume #parenting @americanair … https://t.co/f1nNHQ0iLa https://t.co/lDViDkRdB1</td>\n",
       "    </tr>\n",
       "    <tr>\n",
       "      <th>3</th>\n",
       "      <td>@115906 We're sorry for your frustration.</td>\n",
       "      <td>@AmericanAir Right, but I earned those. I also shouldn’t have to pay to pass them to my own spouse. You need to change your program.</td>\n",
       "    </tr>\n",
       "    <tr>\n",
       "      <th>4</th>\n",
       "      <td>@115909 We're glad you got to kick back and enjoy a show while flying! Thanks for your kind words.</td>\n",
       "      <td>Thank you, @AmericanAir for playing #ThisIsUs and for having great flight attendants on my flight back home!</td>\n",
       "    </tr>\n",
       "  </tbody>\n",
       "</table>\n",
       "</div>"
      ],
      "text/plain": [
       "                                                                                                                       responce  \\\n",
       "0                                                                  @115904 We'll be sure to pass along your kind words! #AATeam   \n",
       "1  @115904 Our apologies for the delay in responding to you. Have you made it to LAX? Let us know if you still need assistance.   \n",
       "2                                                  @115905 Aww, that's definitely a future pilot in the making! #HappyHalloween   \n",
       "3                                                                                     @115906 We're sorry for your frustration.   \n",
       "4                            @115909 We're glad you got to kick back and enjoy a show while flying! Thanks for your kind words.   \n",
       "\n",
       "                                                                                                                                                              question  \n",
       "0                                                                                                    @AmericanAir Erica on the lax team is amazing give her a raise ty  \n",
       "1                                                                           @AmericanAir Could you have someone on your lax team available to guide me to my gate ASAP  \n",
       "2  Ben Tennyson and an American Airlines pilot. 🎃 #trunkortreat #halloween #2017 #diycostume #parenting @americanair … https://t.co/f1nNHQ0iLa https://t.co/lDViDkRdB1  \n",
       "3                                 @AmericanAir Right, but I earned those. I also shouldn’t have to pay to pass them to my own spouse. You need to change your program.  \n",
       "4                                                         Thank you, @AmericanAir for playing #ThisIsUs and for having great flight attendants on my flight back home!  "
      ]
     },
     "execution_count": 3,
     "metadata": {},
     "output_type": "execute_result"
    }
   ],
   "source": [
    "data = pd.read_csv(\"question_responce.csv\").drop(columns='Unnamed: 0')\n",
    "data = data.drop_duplicates()\n",
    "data.head(5)"
   ]
  },
  {
   "cell_type": "markdown",
   "metadata": {},
   "source": [
    "#### Preprocessing \n",
    "\n",
    "**Steps :**\n",
    "\n",
    "- Tokenization: Split the text into sentences and the sentences into words. Lowercase the words and remove punctuation.\n",
    "- All stopwords are removed.\n",
    "- All words starting by '@' and '#' are removed\n",
    "- Words are lemmatized — words in third person are changed to first person and verbs in past and future tenses are changed into present.\n",
    "- bags of words are created"
   ]
  },
  {
   "cell_type": "code",
   "execution_count": 4,
   "metadata": {},
   "outputs": [
    {
     "name": "stderr",
     "output_type": "stream",
     "text": [
      "[nltk_data] Downloading package words to C:\\Users\\PONNOU\n",
      "[nltk_data]     Wilfried\\AppData\\Roaming\\nltk_data...\n",
      "[nltk_data]   Package words is already up-to-date!\n"
     ]
    }
   ],
   "source": [
    "import gensim\n",
    "import nltk\n",
    "import re\n",
    "import numpy as np\n",
    "import json\n",
    "from gensim.utils import simple_preprocess\n",
    "from gensim.parsing.preprocessing import STOPWORDS\n",
    "from nltk.stem import WordNetLemmatizer, SnowballStemmer\n",
    "from nltk.corpus import stopwords, wordnet\n",
    "from nltk.stem.porter import *\n",
    "nltk.download('words')\n",
    "\n",
    "lemmatizer = nltk.stem.WordNetLemmatizer()\n",
    "stemmer = SnowballStemmer(\"english\")\n",
    "\n",
    "np.random.seed(2018)\n",
    "#nltk.download('wordnet')\n",
    "#nltk.download('stopwords')\n",
    "#nltk.download('words')\n",
    "words = set(nltk.corpus.words.words())"
   ]
  },
  {
   "cell_type": "markdown",
   "metadata": {},
   "source": [
    "Extra stopwords"
   ]
  },
  {
   "cell_type": "code",
   "execution_count": 5,
   "metadata": {},
   "outputs": [],
   "source": [
    "extra_words = ['flight','fly','plane','thanks', 'thank','get','please']\n",
    "full_stopwords = STOPWORDS.union(set(extra_words))"
   ]
  },
  {
   "cell_type": "code",
   "execution_count": 6,
   "metadata": {},
   "outputs": [],
   "source": [
    "stop_words = stopwords.words('english')\n",
    "stop_words.extend(extra_words)"
   ]
  },
  {
   "cell_type": "markdown",
   "metadata": {},
   "source": [
    "#### Preprocessing"
   ]
  },
  {
   "cell_type": "markdown",
   "metadata": {},
   "source": [
    "Remove unecessary items int the text"
   ]
  },
  {
   "cell_type": "code",
   "execution_count": 7,
   "metadata": {},
   "outputs": [],
   "source": [
    "def question_preprocess(text):\n",
    "    text = \" \".join(filter(lambda x:x[0]!='@', text.split()))\n",
    "    text = \" \".join(filter(lambda x:x[0]!='#', text.split()))\n",
    "    text = \" \".join(filter(lambda x:x[0:4]!='http', text.split()))\n",
    "    return text"
   ]
  },
  {
   "cell_type": "code",
   "execution_count": 28,
   "metadata": {},
   "outputs": [
    {
     "data": {
      "text/plain": [
       "0                                                                          Erica on the lax team is amazing give her a raise ty\n",
       "1                                                 Could you have someone on your lax team available to guide me to my gate ASAP\n",
       "2                                                                              Ben Tennyson and an American Airlines pilot. 🎃 …\n",
       "3       Right, but I earned those. I also shouldn’t have to pay to pass them to my own spouse. You need to change your program.\n",
       "4                                         Thank you, for playing and for having great flight attendants on my flight back home!\n",
       "                                                                 ...                                                           \n",
       "1847                                and have nailed in the transatlantic WiFi service. I am able to join my daily scrum onboard\n",
       "1848                                                                                Average price of ticket out: $2500 one way.\n",
       "1849                              Really annoyed been over a month since my damaged bag claim never heard back! done as told...\n",
       "1850                                   terrible service wait ages trying to call that number almost two months gone no response\n",
       "1851                                                 charges their patrons to change their flights every time an airport closes\n",
       "Name: question_clean, Length: 1716, dtype: object"
      ]
     },
     "execution_count": 28,
     "metadata": {},
     "output_type": "execute_result"
    }
   ],
   "source": [
    "data['question_clean'] = data['question'].apply(question_preprocess)\n",
    "data['question_clean']"
   ]
  },
  {
   "cell_type": "code",
   "execution_count": 9,
   "metadata": {},
   "outputs": [
    {
     "data": {
      "text/plain": [
       "0                                                                             [erica, on, the, lax, team, is, amazing, give, her, raise, ty]\n",
       "1                                             [could, you, have, someone, on, your, lax, team, available, to, guide, me, to, my, gate, asap]\n",
       "2                                                                                        [ben, tennyson, and, an, american, airlines, pilot]\n",
       "3       [right, but, earned, those, also, shouldn, have, to, pay, to, pass, them, to, my, own, spouse, you, need, to, change, your, program]\n",
       "4                                        [thank, you, for, playing, and, for, having, great, flight, attendants, on, my, flight, back, home]\n",
       "                                                                        ...                                                                 \n",
       "1847                               [and, have, nailed, in, the, transatlantic, wifi, service, am, able, to, join, my, daily, scrum, onboard]\n",
       "1848                                                                                             [average, price, of, ticket, out, one, way]\n",
       "1849                                [really, annoyed, been, over, month, since, my, damaged, bag, claim, never, heard, back, done, as, told]\n",
       "1850                                [terrible, service, wait, ages, trying, to, call, that, number, almost, two, months, gone, no, response]\n",
       "1851                                                 [charges, their, patrons, to, change, their, flights, every, time, an, airport, closes]\n",
       "Name: question_preproc, Length: 1852, dtype: object"
      ]
     },
     "execution_count": 9,
     "metadata": {},
     "output_type": "execute_result"
    }
   ],
   "source": [
    "data['question_preproc'] = data['question_clean'].apply(gensim.utils.simple_preprocess)\n",
    "data['question_preproc']"
   ]
  },
  {
   "cell_type": "code",
   "execution_count": 10,
   "metadata": {},
   "outputs": [],
   "source": [
    "def remove_stopwords(text):\n",
    "    return [[w for w in simple_preprocess(str(doc)) if w not in stop_words] for doc in text]"
   ]
  },
  {
   "cell_type": "code",
   "execution_count": 11,
   "metadata": {},
   "outputs": [
    {
     "data": {
      "text/plain": [
       "0                                                erica lax team amazing give raise ty\n",
       "1                                    could someone lax team available guide gate asap\n",
       "2                                                ben tennyson american airlines pilot\n",
       "3                               right earned also pay pass spouse need change program\n",
       "4                                                  playing great attendants back home\n",
       "                                            ...                                      \n",
       "1847                  nailed transatlantic wifi service able join daily scrum onboard\n",
       "1848                                                     average price ticket one way\n",
       "1849          really annoyed month since damaged bag claim never heard back done told\n",
       "1850    terrible service wait ages trying call number almost two months gone response\n",
       "1851                         charges patrons change flights every time airport closes\n",
       "Name: question_stop, Length: 1852, dtype: object"
      ]
     },
     "execution_count": 11,
     "metadata": {},
     "output_type": "execute_result"
    }
   ],
   "source": [
    "data[\"question_stop\"] = remove_stopwords(data['question_preproc'])\n",
    "data[\"question_stop\"] = data[\"question_stop\"].apply(\" \".join)\n",
    "data[\"question_stop\"]"
   ]
  },
  {
   "cell_type": "markdown",
   "metadata": {},
   "source": [
    "Lemmatize"
   ]
  },
  {
   "cell_type": "code",
   "execution_count": 12,
   "metadata": {},
   "outputs": [],
   "source": [
    "#lemmatize\n",
    "def lemmat(text):\n",
    "    result = []\n",
    "    text\n",
    "    for token in gensim.utils.simple_preprocess(text):\n",
    "        if token not in stop_words and len(token) > 2:\n",
    "            result.append(WordNetLemmatizer().lemmatize(token))\n",
    "    return result\n"
   ]
  },
  {
   "cell_type": "code",
   "execution_count": 13,
   "metadata": {},
   "outputs": [],
   "source": [
    "data [\"question_lem\"] = data[\"question_stop\"].apply(lemmat)"
   ]
  },
  {
   "cell_type": "code",
   "execution_count": 14,
   "metadata": {},
   "outputs": [
    {
     "data": {
      "text/html": [
       "<div>\n",
       "<style scoped>\n",
       "    .dataframe tbody tr th:only-of-type {\n",
       "        vertical-align: middle;\n",
       "    }\n",
       "\n",
       "    .dataframe tbody tr th {\n",
       "        vertical-align: top;\n",
       "    }\n",
       "\n",
       "    .dataframe thead th {\n",
       "        text-align: right;\n",
       "    }\n",
       "</style>\n",
       "<table border=\"1\" class=\"dataframe\">\n",
       "  <thead>\n",
       "    <tr style=\"text-align: right;\">\n",
       "      <th></th>\n",
       "      <th>question</th>\n",
       "      <th>question_lem</th>\n",
       "    </tr>\n",
       "  </thead>\n",
       "  <tbody>\n",
       "    <tr>\n",
       "      <th>0</th>\n",
       "      <td>@AmericanAir Erica on the lax team is amazing give her a raise ty</td>\n",
       "      <td>[erica, lax, team, amazing, give, raise]</td>\n",
       "    </tr>\n",
       "    <tr>\n",
       "      <th>1</th>\n",
       "      <td>@AmericanAir Could you have someone on your lax team available to guide me to my gate ASAP</td>\n",
       "      <td>[could, someone, lax, team, available, guide, gate, asap]</td>\n",
       "    </tr>\n",
       "    <tr>\n",
       "      <th>2</th>\n",
       "      <td>Ben Tennyson and an American Airlines pilot. 🎃 #trunkortreat #halloween #2017 #diycostume #parenting @americanair … https://t.co/f1nNHQ0iLa https://t.co/lDViDkRdB1</td>\n",
       "      <td>[ben, tennyson, american, airline, pilot]</td>\n",
       "    </tr>\n",
       "    <tr>\n",
       "      <th>3</th>\n",
       "      <td>@AmericanAir Right, but I earned those. I also shouldn’t have to pay to pass them to my own spouse. You need to change your program.</td>\n",
       "      <td>[right, earned, also, pay, pas, spouse, need, change, program]</td>\n",
       "    </tr>\n",
       "    <tr>\n",
       "      <th>4</th>\n",
       "      <td>Thank you, @AmericanAir for playing #ThisIsUs and for having great flight attendants on my flight back home!</td>\n",
       "      <td>[playing, great, attendant, back, home]</td>\n",
       "    </tr>\n",
       "    <tr>\n",
       "      <th>...</th>\n",
       "      <td>...</td>\n",
       "      <td>...</td>\n",
       "    </tr>\n",
       "    <tr>\n",
       "      <th>1847</th>\n",
       "      <td>@AmericanAir and @172 have nailed in the transatlantic WiFi service. I am able to join my @172377 daily scrum onboard</td>\n",
       "      <td>[nailed, transatlantic, wifi, service, able, join, daily, scrum, onboard]</td>\n",
       "    </tr>\n",
       "    <tr>\n",
       "      <th>1848</th>\n",
       "      <td>@AmericanAir Average price of ticket out: $2500 one way.</td>\n",
       "      <td>[average, price, ticket, one, way]</td>\n",
       "    </tr>\n",
       "    <tr>\n",
       "      <th>1849</th>\n",
       "      <td>@AmericanAir Really annoyed been over a month since my damaged bag claim never heard back! done as told...</td>\n",
       "      <td>[really, annoyed, month, since, damaged, bag, claim, never, heard, back, done, told]</td>\n",
       "    </tr>\n",
       "    <tr>\n",
       "      <th>1850</th>\n",
       "      <td>@AmericanAir terrible service wait ages trying to call that number almost two months gone no response</td>\n",
       "      <td>[terrible, service, wait, age, trying, call, number, almost, two, month, gone, response]</td>\n",
       "    </tr>\n",
       "    <tr>\n",
       "      <th>1851</th>\n",
       "      <td>@AmericanAir charges their patrons to change their flights every time an airport closes #stcroix</td>\n",
       "      <td>[charge, patron, change, flight, every, time, airport, close]</td>\n",
       "    </tr>\n",
       "  </tbody>\n",
       "</table>\n",
       "<p>1852 rows × 2 columns</p>\n",
       "</div>"
      ],
      "text/plain": [
       "                                                                                                                                                                 question  \\\n",
       "0                                                                                                       @AmericanAir Erica on the lax team is amazing give her a raise ty   \n",
       "1                                                                              @AmericanAir Could you have someone on your lax team available to guide me to my gate ASAP   \n",
       "2     Ben Tennyson and an American Airlines pilot. 🎃 #trunkortreat #halloween #2017 #diycostume #parenting @americanair … https://t.co/f1nNHQ0iLa https://t.co/lDViDkRdB1   \n",
       "3                                    @AmericanAir Right, but I earned those. I also shouldn’t have to pay to pass them to my own spouse. You need to change your program.   \n",
       "4                                                            Thank you, @AmericanAir for playing #ThisIsUs and for having great flight attendants on my flight back home!   \n",
       "...                                                                                                                                                                   ...   \n",
       "1847                                                @AmericanAir and @172 have nailed in the transatlantic WiFi service. I am able to join my @172377 daily scrum onboard   \n",
       "1848                                                                                                             @AmericanAir Average price of ticket out: $2500 one way.   \n",
       "1849                                                           @AmericanAir Really annoyed been over a month since my damaged bag claim never heard back! done as told...   \n",
       "1850                                                                @AmericanAir terrible service wait ages trying to call that number almost two months gone no response   \n",
       "1851                                                                     @AmericanAir charges their patrons to change their flights every time an airport closes #stcroix   \n",
       "\n",
       "                                                                                  question_lem  \n",
       "0                                                     [erica, lax, team, amazing, give, raise]  \n",
       "1                                    [could, someone, lax, team, available, guide, gate, asap]  \n",
       "2                                                    [ben, tennyson, american, airline, pilot]  \n",
       "3                               [right, earned, also, pay, pas, spouse, need, change, program]  \n",
       "4                                                      [playing, great, attendant, back, home]  \n",
       "...                                                                                        ...  \n",
       "1847                 [nailed, transatlantic, wifi, service, able, join, daily, scrum, onboard]  \n",
       "1848                                                        [average, price, ticket, one, way]  \n",
       "1849      [really, annoyed, month, since, damaged, bag, claim, never, heard, back, done, told]  \n",
       "1850  [terrible, service, wait, age, trying, call, number, almost, two, month, gone, response]  \n",
       "1851                             [charge, patron, change, flight, every, time, airport, close]  \n",
       "\n",
       "[1852 rows x 2 columns]"
      ]
     },
     "execution_count": 14,
     "metadata": {},
     "output_type": "execute_result"
    }
   ],
   "source": [
    "data[[\"question\",\"question_lem\"]]"
   ]
  },
  {
   "cell_type": "markdown",
   "metadata": {},
   "source": [
    "#### Making bigrams and trigrams"
   ]
  },
  {
   "cell_type": "code",
   "execution_count": 15,
   "metadata": {},
   "outputs": [
    {
     "name": "stdout",
     "output_type": "stream",
     "text": [
      "['god', 'going', 'ten', 'minute']\n",
      "['give', 'grief', 'thing', 'poorly', 'credit', 'guacamole', 'admiral_club', 'outstanding', 'addition']\n",
      "['aware', 'fit', 'overhead', 'return_trip', 'luggage', 'going', 'pre', 'security', 'gate', 'chck', 'empty', 'overhead', 'flt']\n",
      "['despite', 'flying', 'ewr', 'forced', 'mia', 'check', 'guitar', 'amp', 'charged', 'gate', 'security', 'flt', 'full']\n",
      "['fifteen', 'empty', 'business_class', 'seat', 'one', 'person', 'got', 'upgraded']\n",
      "['still_waiting', 'compensate', 'crap', 'put', 'honeymoon', 'almost', 'year', 'ago']\n",
      "['really', 'hour', 'international', 'seat', 'back', 'entertainment', 'screen', 'mon']\n",
      "['still', 'rather', 'screen', 'though', 'rather', 'cause', 'neck', 'problem', 'looking', 'tablet']\n",
      "['say', 'attenants', 'bdl', 'ord', 'awesome', 'gate_agent', 'bdl', 'also', 'need', 'shout', 'awesome', 'customer_service', 'treated', 'nonrev', 'well']\n"
     ]
    }
   ],
   "source": [
    "bigram = gensim.models.Phrases(data[\"question_lem\"], min_count=3, threshold=10)\n",
    "bigram_mod = gensim.models.phrases.Phraser(bigram)\n",
    "\n",
    "#example\n",
    "for i in range(15,24):\n",
    "    print(bigram_mod[data[\"question_lem\"][i]])"
   ]
  },
  {
   "cell_type": "code",
   "execution_count": 16,
   "metadata": {},
   "outputs": [],
   "source": [
    "def bigrams(text):\n",
    "    return [bigram_mod[doc] for doc in text]"
   ]
  },
  {
   "cell_type": "code",
   "execution_count": 17,
   "metadata": {},
   "outputs": [],
   "source": [
    "data[\"question_lem_bigrams\"] = bigrams(data[\"question_lem\"])"
   ]
  },
  {
   "cell_type": "code",
   "execution_count": 18,
   "metadata": {},
   "outputs": [],
   "source": [
    "data = data[['responce', 'question','question_lem_bigrams']]"
   ]
  },
  {
   "cell_type": "markdown",
   "metadata": {},
   "source": [
    "#### prev preprocessing"
   ]
  },
  {
   "cell_type": "code",
   "execution_count": 19,
   "metadata": {},
   "outputs": [],
   "source": [
    "def lemmatize(text):\n",
    "    return WordNetLemmatizer().lemmatize(text)\n",
    "\n",
    "def preprocess(text):\n",
    "    result = []\n",
    "    text = \" \".join(filter(lambda x:x[0]!='@', text.split()))\n",
    "    text = \" \".join(filter(lambda x:x[0]!='#', text.split()))\n",
    "    text = \" \".join(filter(lambda x:x[0:4]!='http', text.split()))\n",
    "    text = \" \".join(w for w in nltk.wordpunct_tokenize(text) \\\n",
    "        if w.lower() in words or not w.isalpha())\n",
    "    for token in gensim.utils.simple_preprocess(text):\n",
    "        if token not in stop_words and len(token) > 2:\n",
    "            result.append(lemmatize(token))\n",
    "    return result"
   ]
  },
  {
   "cell_type": "code",
   "execution_count": 20,
   "metadata": {},
   "outputs": [
    {
     "data": {
      "text/plain": [
       "0                                                  [lax, team, amazing, give, raise]\n",
       "1                                [could, someone, lax, team, available, guide, gate]\n",
       "2                                                                       [ben, pilot]\n",
       "3                             [right, also, pay, pas, spouse, need, change, program]\n",
       "4                                                                [great, back, home]\n",
       "                                            ...                                     \n",
       "1847                              [transatlantic, service, able, join, daily, scrum]\n",
       "1848                                              [average, price, ticket, one, way]\n",
       "1849                     [really, month, since, bag, claim, never, back, done, told]\n",
       "1850    [terrible, service, wait, trying, call, number, almost, two, gone, response]\n",
       "1851                                                  [change, every, time, airport]\n",
       "Name: question_prepro, Length: 1852, dtype: object"
      ]
     },
     "execution_count": 20,
     "metadata": {},
     "output_type": "execute_result"
    }
   ],
   "source": [
    "data['question_prepro'] = data['question'].apply(preprocess)\n",
    "data['question_prepro']"
   ]
  },
  {
   "cell_type": "markdown",
   "metadata": {},
   "source": [
    "We need to clean the responce too"
   ]
  },
  {
   "cell_type": "code",
   "execution_count": 21,
   "metadata": {},
   "outputs": [],
   "source": [
    "def response_preprocess(text):\n",
    "    text = \" \".join(filter(lambda x:x[0]!='@', text.split()))\n",
    "    text = \" \".join(filter(lambda x:x[0]!='#', text.split()))\n",
    "    return text"
   ]
  },
  {
   "cell_type": "code",
   "execution_count": 22,
   "metadata": {},
   "outputs": [
    {
     "data": {
      "text/plain": [
       "0                                                                                                       We'll be sure to pass along your kind words!\n",
       "1                               Our apologies for the delay in responding to you. Have you made it to LAX? Let us know if you still need assistance.\n",
       "2                                                                                               Aww, that's definitely a future pilot in the making!\n",
       "3                                                                                                                  We're sorry for your frustration.\n",
       "4                                                         We're glad you got to kick back and enjoy a show while flying! Thanks for your kind words.\n",
       "                                                                            ...                                                                     \n",
       "1847                           We know staying connected is important, why not take your office to 35k feet? We're so glad you're enjoying the WiFi!\n",
       "1848             We've capped our fares for nonstop flights at $99 for Puerto Rico through the 8th of Oct. Book travel here: https://t.co/iJWiiSmxCO\n",
       "1849                                                          Please give our Baggage team a call at 800-866-4010 for updates that may be available.\n",
       "1850    Our apologies for the hold. Our Central Baggage team will help at that number. If we can get an update, then please DM your bag file number.\n",
       "1851                    We're providing waivers for St Croix, Gillian. Please take a look at our Travel Alert for STX here: https://t.co/kNkPUiCR67.\n",
       "Name: responce, Length: 1852, dtype: object"
      ]
     },
     "execution_count": 22,
     "metadata": {},
     "output_type": "execute_result"
    }
   ],
   "source": [
    "data['responce'] = data['responce'].apply(response_preprocess)\n",
    "data['responce']"
   ]
  },
  {
   "cell_type": "markdown",
   "metadata": {},
   "source": [
    "Drop empty questions"
   ]
  },
  {
   "cell_type": "code",
   "execution_count": 23,
   "metadata": {},
   "outputs": [],
   "source": [
    "pd.set_option('display.max_colwidth', None)"
   ]
  },
  {
   "cell_type": "code",
   "execution_count": 24,
   "metadata": {},
   "outputs": [
    {
     "data": {
      "text/html": [
       "<div>\n",
       "<style scoped>\n",
       "    .dataframe tbody tr th:only-of-type {\n",
       "        vertical-align: middle;\n",
       "    }\n",
       "\n",
       "    .dataframe tbody tr th {\n",
       "        vertical-align: top;\n",
       "    }\n",
       "\n",
       "    .dataframe thead th {\n",
       "        text-align: right;\n",
       "    }\n",
       "</style>\n",
       "<table border=\"1\" class=\"dataframe\">\n",
       "  <thead>\n",
       "    <tr style=\"text-align: right;\">\n",
       "      <th></th>\n",
       "      <th>responce</th>\n",
       "      <th>question</th>\n",
       "      <th>question_lem_bigrams</th>\n",
       "      <th>question_prepro</th>\n",
       "    </tr>\n",
       "  </thead>\n",
       "  <tbody>\n",
       "    <tr>\n",
       "      <th>0</th>\n",
       "      <td>We'll be sure to pass along your kind words!</td>\n",
       "      <td>@AmericanAir Erica on the lax team is amazing give her a raise ty</td>\n",
       "      <td>[erica, lax, team, amazing, give, raise]</td>\n",
       "      <td>[lax, team, amazing, give, raise]</td>\n",
       "    </tr>\n",
       "    <tr>\n",
       "      <th>1</th>\n",
       "      <td>Our apologies for the delay in responding to you. Have you made it to LAX? Let us know if you still need assistance.</td>\n",
       "      <td>@AmericanAir Could you have someone on your lax team available to guide me to my gate ASAP</td>\n",
       "      <td>[could, someone, lax, team, available, guide, gate, asap]</td>\n",
       "      <td>[could, someone, lax, team, available, guide, gate]</td>\n",
       "    </tr>\n",
       "    <tr>\n",
       "      <th>2</th>\n",
       "      <td>Aww, that's definitely a future pilot in the making!</td>\n",
       "      <td>Ben Tennyson and an American Airlines pilot. 🎃 #trunkortreat #halloween #2017 #diycostume #parenting @americanair … https://t.co/f1nNHQ0iLa https://t.co/lDViDkRdB1</td>\n",
       "      <td>[ben, tennyson, american_airline, pilot]</td>\n",
       "      <td>[ben, pilot]</td>\n",
       "    </tr>\n",
       "    <tr>\n",
       "      <th>3</th>\n",
       "      <td>We're sorry for your frustration.</td>\n",
       "      <td>@AmericanAir Right, but I earned those. I also shouldn’t have to pay to pass them to my own spouse. You need to change your program.</td>\n",
       "      <td>[right, earned, also, pay, pas, spouse, need, change, program]</td>\n",
       "      <td>[right, also, pay, pas, spouse, need, change, program]</td>\n",
       "    </tr>\n",
       "    <tr>\n",
       "      <th>4</th>\n",
       "      <td>We're glad you got to kick back and enjoy a show while flying! Thanks for your kind words.</td>\n",
       "      <td>Thank you, @AmericanAir for playing #ThisIsUs and for having great flight attendants on my flight back home!</td>\n",
       "      <td>[playing, great, attendant, back, home]</td>\n",
       "      <td>[great, back, home]</td>\n",
       "    </tr>\n",
       "    <tr>\n",
       "      <th>...</th>\n",
       "      <td>...</td>\n",
       "      <td>...</td>\n",
       "      <td>...</td>\n",
       "      <td>...</td>\n",
       "    </tr>\n",
       "    <tr>\n",
       "      <th>1847</th>\n",
       "      <td>We know staying connected is important, why not take your office to 35k feet? We're so glad you're enjoying the WiFi!</td>\n",
       "      <td>@AmericanAir and @172 have nailed in the transatlantic WiFi service. I am able to join my @172377 daily scrum onboard</td>\n",
       "      <td>[nailed, transatlantic, wifi, service, able, join, daily, scrum, onboard]</td>\n",
       "      <td>[transatlantic, service, able, join, daily, scrum]</td>\n",
       "    </tr>\n",
       "    <tr>\n",
       "      <th>1848</th>\n",
       "      <td>We've capped our fares for nonstop flights at $99 for Puerto Rico through the 8th of Oct. Book travel here: https://t.co/iJWiiSmxCO</td>\n",
       "      <td>@AmericanAir Average price of ticket out: $2500 one way.</td>\n",
       "      <td>[average, price, ticket, one_way]</td>\n",
       "      <td>[average, price, ticket, one, way]</td>\n",
       "    </tr>\n",
       "    <tr>\n",
       "      <th>1849</th>\n",
       "      <td>Please give our Baggage team a call at 800-866-4010 for updates that may be available.</td>\n",
       "      <td>@AmericanAir Really annoyed been over a month since my damaged bag claim never heard back! done as told...</td>\n",
       "      <td>[really, annoyed, month, since, damaged, bag, claim, never, heard, back, done, told]</td>\n",
       "      <td>[really, month, since, bag, claim, never, back, done, told]</td>\n",
       "    </tr>\n",
       "    <tr>\n",
       "      <th>1850</th>\n",
       "      <td>Our apologies for the hold. Our Central Baggage team will help at that number. If we can get an update, then please DM your bag file number.</td>\n",
       "      <td>@AmericanAir terrible service wait ages trying to call that number almost two months gone no response</td>\n",
       "      <td>[terrible, service, wait, age, trying, call, number, almost, two, month, gone, response]</td>\n",
       "      <td>[terrible, service, wait, trying, call, number, almost, two, gone, response]</td>\n",
       "    </tr>\n",
       "    <tr>\n",
       "      <th>1851</th>\n",
       "      <td>We're providing waivers for St Croix, Gillian. Please take a look at our Travel Alert for STX here: https://t.co/kNkPUiCR67.</td>\n",
       "      <td>@AmericanAir charges their patrons to change their flights every time an airport closes #stcroix</td>\n",
       "      <td>[charge, patron, change, flight, every, time, airport, close]</td>\n",
       "      <td>[change, every, time, airport]</td>\n",
       "    </tr>\n",
       "  </tbody>\n",
       "</table>\n",
       "<p>1716 rows × 4 columns</p>\n",
       "</div>"
      ],
      "text/plain": [
       "                                                                                                                                          responce  \\\n",
       "0                                                                                                     We'll be sure to pass along your kind words!   \n",
       "1                             Our apologies for the delay in responding to you. Have you made it to LAX? Let us know if you still need assistance.   \n",
       "2                                                                                             Aww, that's definitely a future pilot in the making!   \n",
       "3                                                                                                                We're sorry for your frustration.   \n",
       "4                                                       We're glad you got to kick back and enjoy a show while flying! Thanks for your kind words.   \n",
       "...                                                                                                                                            ...   \n",
       "1847                         We know staying connected is important, why not take your office to 35k feet? We're so glad you're enjoying the WiFi!   \n",
       "1848           We've capped our fares for nonstop flights at $99 for Puerto Rico through the 8th of Oct. Book travel here: https://t.co/iJWiiSmxCO   \n",
       "1849                                                        Please give our Baggage team a call at 800-866-4010 for updates that may be available.   \n",
       "1850  Our apologies for the hold. Our Central Baggage team will help at that number. If we can get an update, then please DM your bag file number.   \n",
       "1851                  We're providing waivers for St Croix, Gillian. Please take a look at our Travel Alert for STX here: https://t.co/kNkPUiCR67.   \n",
       "\n",
       "                                                                                                                                                                 question  \\\n",
       "0                                                                                                       @AmericanAir Erica on the lax team is amazing give her a raise ty   \n",
       "1                                                                              @AmericanAir Could you have someone on your lax team available to guide me to my gate ASAP   \n",
       "2     Ben Tennyson and an American Airlines pilot. 🎃 #trunkortreat #halloween #2017 #diycostume #parenting @americanair … https://t.co/f1nNHQ0iLa https://t.co/lDViDkRdB1   \n",
       "3                                    @AmericanAir Right, but I earned those. I also shouldn’t have to pay to pass them to my own spouse. You need to change your program.   \n",
       "4                                                            Thank you, @AmericanAir for playing #ThisIsUs and for having great flight attendants on my flight back home!   \n",
       "...                                                                                                                                                                   ...   \n",
       "1847                                                @AmericanAir and @172 have nailed in the transatlantic WiFi service. I am able to join my @172377 daily scrum onboard   \n",
       "1848                                                                                                             @AmericanAir Average price of ticket out: $2500 one way.   \n",
       "1849                                                           @AmericanAir Really annoyed been over a month since my damaged bag claim never heard back! done as told...   \n",
       "1850                                                                @AmericanAir terrible service wait ages trying to call that number almost two months gone no response   \n",
       "1851                                                                     @AmericanAir charges their patrons to change their flights every time an airport closes #stcroix   \n",
       "\n",
       "                                                                          question_lem_bigrams  \\\n",
       "0                                                     [erica, lax, team, amazing, give, raise]   \n",
       "1                                    [could, someone, lax, team, available, guide, gate, asap]   \n",
       "2                                                     [ben, tennyson, american_airline, pilot]   \n",
       "3                               [right, earned, also, pay, pas, spouse, need, change, program]   \n",
       "4                                                      [playing, great, attendant, back, home]   \n",
       "...                                                                                        ...   \n",
       "1847                 [nailed, transatlantic, wifi, service, able, join, daily, scrum, onboard]   \n",
       "1848                                                         [average, price, ticket, one_way]   \n",
       "1849      [really, annoyed, month, since, damaged, bag, claim, never, heard, back, done, told]   \n",
       "1850  [terrible, service, wait, age, trying, call, number, almost, two, month, gone, response]   \n",
       "1851                             [charge, patron, change, flight, every, time, airport, close]   \n",
       "\n",
       "                                                                   question_prepro  \n",
       "0                                                [lax, team, amazing, give, raise]  \n",
       "1                              [could, someone, lax, team, available, guide, gate]  \n",
       "2                                                                     [ben, pilot]  \n",
       "3                           [right, also, pay, pas, spouse, need, change, program]  \n",
       "4                                                              [great, back, home]  \n",
       "...                                                                            ...  \n",
       "1847                            [transatlantic, service, able, join, daily, scrum]  \n",
       "1848                                            [average, price, ticket, one, way]  \n",
       "1849                   [really, month, since, bag, claim, never, back, done, told]  \n",
       "1850  [terrible, service, wait, trying, call, number, almost, two, gone, response]  \n",
       "1851                                                [change, every, time, airport]  \n",
       "\n",
       "[1716 rows x 4 columns]"
      ]
     },
     "execution_count": 24,
     "metadata": {},
     "output_type": "execute_result"
    }
   ],
   "source": [
    "data = data[data['question_prepro'].map(lambda d: len(d)) > 1]\n",
    "data"
   ]
  },
  {
   "cell_type": "markdown",
   "metadata": {},
   "source": [
    "#### Building LDA"
   ]
  },
  {
   "cell_type": "code",
   "execution_count": 25,
   "metadata": {},
   "outputs": [],
   "source": [
    "import gensim.corpora as corpora\n",
    "from pprint import pprint"
   ]
  },
  {
   "cell_type": "code",
   "execution_count": 31,
   "metadata": {},
   "outputs": [],
   "source": [
    "id2word = corpora.Dictionary(data[\"question_prepro\"])\n",
    "#id2word.filter_extremes(no_below=3)\n",
    "\n",
    "corpus = [id2word.doc2bow(text) for text in data[\"question_prepro\"]]"
   ]
  },
  {
   "cell_type": "code",
   "execution_count": 45,
   "metadata": {},
   "outputs": [
    {
     "name": "stdout",
     "output_type": "stream",
     "text": [
      "[(0, 1), (1, 1), (2, 1), (3, 1), (4, 1)]\n",
      "[(2, 1), (4, 1), (5, 1), (6, 1), (7, 1), (8, 1), (9, 1)]\n",
      "[(10, 1), (11, 1)]\n",
      "[(12, 1), (13, 1), (14, 1), (15, 1), (16, 1), (17, 1), (18, 1), (19, 1)]\n",
      "[(20, 1), (21, 1), (22, 1)]\n",
      "[(23, 1), (24, 1), (25, 1), (26, 1), (27, 1), (28, 1)]\n",
      "[(29, 2), (30, 1), (31, 1)]\n",
      "[(32, 1), (33, 1), (34, 1), (35, 1), (36, 1)]\n",
      "[(16, 1), (36, 1), (37, 1), (38, 1), (39, 1), (40, 1)]\n",
      "[(16, 1), (41, 1), (42, 1), (43, 1), (44, 1), (45, 1), (46, 1), (47, 1)]\n",
      "[(5, 1), (36, 1), (48, 1), (49, 1), (50, 1), (51, 1), (52, 1)]\n",
      "[(47, 1), (53, 1), (54, 1)]\n",
      "[(55, 1), (56, 1), (57, 1)]\n",
      "[(58, 1), (59, 1), (60, 1)]\n",
      "[(61, 1), (62, 1), (63, 1)]\n",
      "[(1, 1), (29, 1), (64, 1), (65, 1), (66, 1), (67, 1), (68, 1)]\n",
      "[(7, 1), (62, 1), (69, 1), (70, 1), (71, 1), (72, 1), (73, 1), (74, 1), (75, 1)]\n",
      "[(7, 1), (74, 1), (76, 1), (77, 1), (78, 1), (79, 1), (80, 1), (81, 1)]\n",
      "[(43, 1), (70, 1), (82, 1), (83, 1), (84, 1), (85, 1), (86, 1)]\n",
      "[(36, 1), (87, 1), (88, 1), (89, 1), (90, 1), (91, 1), (92, 1), (93, 1), (94, 1)]\n"
     ]
    }
   ],
   "source": [
    "for i in range(20):\n",
    "    print(corpus[i])"
   ]
  },
  {
   "cell_type": "code",
   "execution_count": 51,
   "metadata": {},
   "outputs": [
    {
     "name": "stderr",
     "output_type": "stream",
     "text": [
      "D:\\IDES\\anaconda3\\lib\\site-packages\\ipykernel\\ipkernel.py:287: DeprecationWarning: `should_run_async` will not call `transform_cell` automatically in the future. Please pass the result to `transformed_cell` argument and any exception that happen during thetransform in `preprocessing_exc_tuple` in IPython 7.17 and above.\n",
      "  and should_run_async(code)\n"
     ]
    }
   ],
   "source": [
    "lda_model = gensim.models.LdaModel(corpus=corpus,\n",
    "                                       id2word=id2word,\n",
    "                                       num_topics=20,\n",
    "                                       random_state=100,\n",
    "                                       update_every=1,\n",
    "                                       chunksize=100,\n",
    "                                       passes=10,\n",
    "                                       alpha='auto',\n",
    "                                       per_word_topics=True)"
   ]
  },
  {
   "cell_type": "code",
   "execution_count": 52,
   "metadata": {},
   "outputs": [
    {
     "name": "stdout",
     "output_type": "stream",
     "text": [
      "[[(0, 1), (1, 1), (2, 1), (3, 1), (4, 1)]]\n"
     ]
    },
    {
     "name": "stderr",
     "output_type": "stream",
     "text": [
      "D:\\IDES\\anaconda3\\lib\\site-packages\\ipykernel\\ipkernel.py:287: DeprecationWarning: `should_run_async` will not call `transform_cell` automatically in the future. Please pass the result to `transformed_cell` argument and any exception that happen during thetransform in `preprocessing_exc_tuple` in IPython 7.17 and above.\n",
      "  and should_run_async(code)\n"
     ]
    },
    {
     "data": {
      "text/plain": [
       "'raise'"
      ]
     },
     "execution_count": 52,
     "metadata": {},
     "output_type": "execute_result"
    }
   ],
   "source": [
    "print(corpus[:1])\n",
    "id2word[3]"
   ]
  },
  {
   "cell_type": "code",
   "execution_count": 53,
   "metadata": {},
   "outputs": [
    {
     "name": "stdout",
     "output_type": "stream",
     "text": [
      "[(0,\n",
      "  '0.220*\"way\" + 0.089*\"good\" + 0.071*\"need\" + 0.069*\"change\" + 0.068*\"trip\" + '\n",
      "  '0.049*\"hey\" + 0.047*\"working\" + 0.041*\"program\" + 0.032*\"right\" + '\n",
      "  '0.027*\"also\"'),\n",
      " (1,\n",
      "  '0.105*\"know\" + 0.093*\"number\" + 0.089*\"call\" + 0.057*\"issue\" + 0.042*\"rude\" '\n",
      "  '+ 0.041*\"due\" + 0.038*\"fix\" + 0.037*\"left\" + 0.035*\"pilot\" + '\n",
      "  '0.027*\"credit\"'),\n",
      " (2,\n",
      "  '0.194*\"today\" + 0.071*\"crew\" + 0.063*\"give\" + 0.052*\"year\" + 0.050*\"team\" + '\n",
      "  '0.049*\"family\" + 0.038*\"lax\" + 0.035*\"awful\" + 0.032*\"whole\" + '\n",
      "  '0.030*\"terminal\"'),\n",
      " (3,\n",
      "  '0.161*\"without\" + 0.082*\"claim\" + 0.061*\"look\" + 0.057*\"free\" + '\n",
      "  '0.055*\"luggage\" + 0.041*\"least\" + 0.038*\"landed\" + 0.029*\"via\" + '\n",
      "  '0.027*\"send\" + 0.026*\"line\"'),\n",
      " (4,\n",
      "  '0.220*\"bag\" + 0.117*\"like\" + 0.093*\"say\" + 0.068*\"could\" + 0.051*\"next\" + '\n",
      "  '0.041*\"keep\" + 0.030*\"enough\" + 0.027*\"small\" + 0.027*\"tell\" + 0.013*\"dog\"'),\n",
      " (5,\n",
      "  '0.255*\"gate\" + 0.118*\"got\" + 0.097*\"early\" + 0.067*\"nothing\" + 0.057*\"said\" '\n",
      "  '+ 0.035*\"food\" + 0.024*\"tonight\" + 0.023*\"landing\" + 0.022*\"might\" + '\n",
      "  '0.015*\"taxi\"'),\n",
      " (6,\n",
      "  '0.154*\"really\" + 0.140*\"want\" + 0.128*\"first\" + 0.078*\"let\" + '\n",
      "  '0.061*\"booked\" + 0.058*\"use\" + 0.025*\"confirmation\" + 0.019*\"may\" + '\n",
      "  '0.014*\"leg\" + 0.011*\"medium\"'),\n",
      " (7,\n",
      "  '0.212*\"time\" + 0.189*\"service\" + 0.106*\"customer\" + 0.049*\"paying\" + '\n",
      "  '0.047*\"flying\" + 0.041*\"even\" + 0.031*\"every\" + 0.027*\"two\" + 0.023*\"agent\" '\n",
      "  '+ 0.017*\"best\"'),\n",
      " (8,\n",
      "  '0.166*\"pay\" + 0.135*\"ticket\" + 0.114*\"told\" + 0.089*\"well\" + 0.048*\"though\" '\n",
      "  '+ 0.029*\"guess\" + 0.024*\"rather\" + 0.014*\"cost\" + 0.012*\"looking\" + '\n",
      "  '0.012*\"additional\"'),\n",
      " (9,\n",
      "  '0.238*\"home\" + 0.083*\"awesome\" + 0.000*\"preferred\" + 0.000*\"sky\" + '\n",
      "  '0.000*\"find\" + 0.000*\"closed\" + 0.000*\"door\" + 0.000*\"second\" + '\n",
      "  '0.000*\"getting\" + 0.000*\"meeting\"'),\n",
      " (10,\n",
      "  '0.127*\"international\" + 0.078*\"boarding\" + 0.067*\"bad\" + 0.039*\"believe\" + '\n",
      "  '0.038*\"making\" + 0.037*\"helpful\" + 0.033*\"policy\" + 0.030*\"platinum\" + '\n",
      "  '0.030*\"bring\" + 0.027*\"wife\"'),\n",
      " (11,\n",
      "  '0.173*\"day\" + 0.142*\"great\" + 0.094*\"able\" + 0.065*\"refund\" + '\n",
      "  '0.049*\"attendant\" + 0.037*\"received\" + 0.030*\"sorry\" + 0.027*\"long\" + '\n",
      "  '0.022*\"try\" + 0.021*\"week\"'),\n",
      " (12,\n",
      "  '0.112*\"amazing\" + 0.042*\"world\" + 0.023*\"flagship\" + 0.000*\"entire\" + '\n",
      "  '0.000*\"reply\" + 0.000*\"wish\" + 0.000*\"stare\" + 0.000*\"sometimes\" + '\n",
      "  '0.000*\"faced\" + 0.000*\"morning\"'),\n",
      " (13,\n",
      "  '0.132*\"help\" + 0.115*\"seat\" + 0.093*\"would\" + 0.049*\"ever\" + 0.039*\"staff\" '\n",
      "  '+ 0.035*\"better\" + 0.031*\"lounge\" + 0.029*\"night\" + 0.028*\"row\" + '\n",
      "  '0.028*\"system\"'),\n",
      " (14,\n",
      "  '0.153*\"trying\" + 0.120*\"wait\" + 0.084*\"made\" + 0.073*\"much\" + 0.048*\"hold\" '\n",
      "  '+ 0.039*\"problem\" + 0.034*\"booking\" + 0.021*\"complimentary\" + '\n",
      "  '0.008*\"address\" + 0.007*\"however\"'),\n",
      " (15,\n",
      "  '0.159*\"still\" + 0.156*\"hour\" + 0.084*\"since\" + 0.072*\"waiting\" + '\n",
      "  '0.061*\"almost\" + 0.053*\"already\" + 0.046*\"tomorrow\" + 0.039*\"ago\" + '\n",
      "  '0.020*\"put\" + 0.016*\"reservation\"'),\n",
      " (16,\n",
      "  '0.199*\"one\" + 0.090*\"make\" + 0.086*\"people\" + 0.079*\"price\" + 0.064*\"delay\" '\n",
      "  '+ 0.063*\"going\" + 0.041*\"yes\" + 0.038*\"take\" + 0.037*\"see\" + '\n",
      "  '0.020*\"giving\"'),\n",
      " (17,\n",
      "  '0.167*\"never\" + 0.103*\"new\" + 0.058*\"late\" + 0.050*\"board\" + '\n",
      "  '0.049*\"ridiculous\" + 0.045*\"baggage\" + 0.041*\"disappointed\" + 0.032*\"job\" + '\n",
      "  '0.021*\"taking\" + 0.019*\"fantastic\"'),\n",
      " (18,\n",
      "  '0.122*\"done\" + 0.067*\"love\" + 0.065*\"nice\" + 0.065*\"work\" + 0.046*\"book\" + '\n",
      "  '0.038*\"anyone\" + 0.034*\"money\" + 0.032*\"flyer\" + 0.030*\"away\" + '\n",
      "  '0.029*\"charging\"'),\n",
      " (19,\n",
      "  '0.181*\"check\" + 0.144*\"back\" + 0.110*\"airport\" + 0.104*\"class\" + '\n",
      "  '0.051*\"someone\" + 0.050*\"carry\" + 0.046*\"gone\" + 0.023*\"person\" + '\n",
      "  '0.023*\"available\" + 0.018*\"charge\"')]\n"
     ]
    },
    {
     "name": "stderr",
     "output_type": "stream",
     "text": [
      "D:\\IDES\\anaconda3\\lib\\site-packages\\ipykernel\\ipkernel.py:287: DeprecationWarning: `should_run_async` will not call `transform_cell` automatically in the future. Please pass the result to `transformed_cell` argument and any exception that happen during thetransform in `preprocessing_exc_tuple` in IPython 7.17 and above.\n",
      "  and should_run_async(code)\n"
     ]
    }
   ],
   "source": [
    "pprint(lda_model.print_topics())\n",
    "doc_lda=lda_model[corpus]"
   ]
  },
  {
   "cell_type": "markdown",
   "metadata": {},
   "source": [
    "display the topic's top 10 words"
   ]
  },
  {
   "cell_type": "code",
   "execution_count": 24,
   "metadata": {},
   "outputs": [
    {
     "name": "stdout",
     "output_type": "stream",
     "text": [
      "(0, '0.031*\"check\" + 0.014*\"gate\" + 0.011*\"today\" + 0.011*\"give\" + 0.011*\"fly\" + 0.008*\"hey\" + 0.008*\"charlotte\" + 0.008*\"new\" + 0.008*\"yes\" + 0.008*\"try\"')\n",
      "(1, '0.021*\"want\" + 0.013*\"return\" + 0.013*\"take\" + 0.013*\"travel\" + 0.013*\"give\" + 0.010*\"bag\" + 0.010*\"day\" + 0.010*\"change\" + 0.010*\"work\" + 0.010*\"know\"')\n",
      "(2, '0.022*\"customer_service\" + 0.021*\"time\" + 0.017*\"would\" + 0.017*\"go\" + 0.015*\"book\" + 0.013*\"frequent_flyer\" + 0.013*\"chance\" + 0.013*\"know\" + 0.013*\"seat\" + 0.013*\"pay\"')\n",
      "(3, '0.041*\"seat\" + 0.016*\"pay\" + 0.013*\"another\" + 0.013*\"fly\" + 0.012*\"say\" + 0.011*\"time\" + 0.011*\"get\" + 0.010*\"board\" + 0.010*\"help\" + 0.009*\"gate\"')\n",
      "(4, '0.030*\"delay\" + 0.024*\"make\" + 0.014*\"get\" + 0.011*\"tell\" + 0.011*\"gate\" + 0.011*\"use\" + 0.011*\"minutes\" + 0.011*\"help\" + 0.010*\"today\" + 0.010*\"amp\"')\n",
      "(5, '0.017*\"baggage\" + 0.017*\"miami\" + 0.014*\"could\" + 0.014*\"get\" + 0.014*\"make\" + 0.014*\"today\" + 0.014*\"still\" + 0.010*\"special\" + 0.010*\"amp\" + 0.010*\"ord\"')\n",
      "(6, '0.019*\"check\" + 0.017*\"get\" + 0.017*\"gate\" + 0.017*\"today\" + 0.014*\"back\" + 0.014*\"crew\" + 0.011*\"already\" + 0.011*\"go\" + 0.010*\"way\" + 0.008*\"two\"')\n",
      "(7, '0.019*\"day\" + 0.014*\"trip\" + 0.011*\"way\" + 0.011*\"gate\" + 0.011*\"still\" + 0.011*\"try\" + 0.011*\"make\" + 0.011*\"today\" + 0.010*\"help\" + 0.010*\"change\"')\n",
      "(8, '0.019*\"time\" + 0.016*\"fly\" + 0.014*\"gate\" + 0.012*\"check\" + 0.012*\"board\" + 0.012*\"charge\" + 0.012*\"call\" + 0.012*\"hey\" + 0.012*\"hours\" + 0.011*\"cancel\"')\n",
      "(9, '0.016*\"flight\" + 0.013*\"end\" + 0.013*\"upgrade\" + 0.010*\"customer_service\" + 0.010*\"issue\" + 0.009*\"fare\" + 0.009*\"wrong\" + 0.009*\"seat\" + 0.009*\"buy\" + 0.009*\"family\"')\n",
      "(10, '0.018*\"delay\" + 0.013*\"amp\" + 0.013*\"service\" + 0.013*\"try\" + 0.012*\"say\" + 0.011*\"gate\" + 0.011*\"time\" + 0.010*\"issue\" + 0.010*\"ticket\" + 0.010*\"nothing\"')\n",
      "(11, '0.025*\"pay\" + 0.022*\"gate\" + 0.016*\"dfw\" + 0.013*\"one\" + 0.013*\"without\" + 0.010*\"suppose\" + 0.010*\"customer\" + 0.010*\"years\" + 0.010*\"need\" + 0.010*\"flight\"')\n",
      "(12, '0.024*\"time\" + 0.019*\"fly\" + 0.019*\"service\" + 0.017*\"delay\" + 0.012*\"first_class\" + 0.012*\"know\" + 0.009*\"book\" + 0.009*\"early\" + 0.009*\"check\" + 0.009*\"late\"')\n",
      "(13, '0.034*\"delay\" + 0.015*\"another\" + 0.015*\"go\" + 0.012*\"gate\" + 0.012*\"seat\" + 0.012*\"ticket\" + 0.012*\"great\" + 0.012*\"need\" + 0.011*\"time\" + 0.010*\"cool\"')\n",
      "(14, '0.015*\"fly\" + 0.015*\"dfw\" + 0.011*\"class\" + 0.011*\"board\" + 0.011*\"charge\" + 0.011*\"bag\" + 0.011*\"airlines\" + 0.011*\"ord\" + 0.011*\"good\" + 0.011*\"go\"')\n",
      "(15, '0.016*\"bag\" + 0.015*\"get\" + 0.014*\"book\" + 0.011*\"amp\" + 0.011*\"ticket\" + 0.010*\"tell\" + 0.009*\"basic_economy\" + 0.009*\"even\" + 0.009*\"today\" + 0.009*\"without\"')\n",
      "(16, '0.015*\"service\" + 0.014*\"today\" + 0.012*\"rude\" + 0.012*\"hours\" + 0.010*\"staff\" + 0.010*\"fly\" + 0.010*\"even\" + 0.010*\"flight\" + 0.010*\"good\" + 0.009*\"time\"')\n",
      "(17, '0.018*\"try\" + 0.016*\"hours\" + 0.016*\"get\" + 0.016*\"ticket\" + 0.013*\"charge\" + 0.012*\"take\" + 0.011*\"bag\" + 0.011*\"still\" + 0.011*\"go\" + 0.011*\"check_bag\"')\n",
      "(18, '0.023*\"flight\" + 0.015*\"book\" + 0.015*\"would\" + 0.013*\"get\" + 0.012*\"gate\" + 0.011*\"bag\" + 0.011*\"next\" + 0.010*\"pilot\" + 0.009*\"say\" + 0.009*\"every\"')\n",
      "(19, '0.022*\"time\" + 0.020*\"pilot\" + 0.015*\"service\" + 0.015*\"plan\" + 0.012*\"fee\" + 0.012*\"passengers\" + 0.012*\"part\" + 0.012*\"miss\" + 0.012*\"much\" + 0.009*\"stop\"')\n",
      "(20, '0.019*\"bag\" + 0.016*\"time\" + 0.013*\"customer_service\" + 0.013*\"happen\" + 0.013*\"need\" + 0.009*\"prefer\" + 0.009*\"one\" + 0.009*\"delay\" + 0.009*\"hour\" + 0.009*\"never\"')\n",
      "(21, '0.021*\"time\" + 0.015*\"change\" + 0.015*\"know\" + 0.012*\"say\" + 0.012*\"contact\" + 0.012*\"make\" + 0.011*\"need\" + 0.011*\"delay\" + 0.010*\"give\" + 0.009*\"go\"')\n",
      "(22, '0.013*\"go\" + 0.013*\"need\" + 0.013*\"guy\" + 0.013*\"bag\" + 0.011*\"hey\" + 0.011*\"help\" + 0.010*\"way\" + 0.009*\"possible\" + 0.009*\"make\" + 0.009*\"receive\"')\n",
      "(23, '0.017*\"bag\" + 0.017*\"pay\" + 0.015*\"make\" + 0.015*\"check\" + 0.012*\"baggage\" + 0.012*\"gate\" + 0.010*\"customer_service\" + 0.010*\"still\" + 0.008*\"say\" + 0.007*\"staff\"')\n",
      "(24, '0.021*\"seat\" + 0.012*\"time\" + 0.011*\"lose\" + 0.011*\"wait\" + 0.011*\"flight\" + 0.010*\"amp\" + 0.010*\"way\" + 0.009*\"hours\" + 0.008*\"start\" + 0.008*\"date\"')\n",
      "(25, '0.027*\"bag\" + 0.023*\"back\" + 0.020*\"board\" + 0.015*\"agent\" + 0.014*\"yet\" + 0.012*\"tell\" + 0.010*\"make\" + 0.010*\"would\" + 0.010*\"still\" + 0.009*\"days\"')\n",
      "(26, '0.023*\"upgrade\" + 0.017*\"delay\" + 0.016*\"flight\" + 0.016*\"help\" + 0.016*\"see\" + 0.014*\"book\" + 0.013*\"make\" + 0.012*\"wifi\" + 0.012*\"pay\" + 0.012*\"much\"')\n",
      "(27, '0.019*\"try\" + 0.019*\"gate\" + 0.018*\"passengers\" + 0.016*\"pilot\" + 0.012*\"flight\" + 0.012*\"book\" + 0.012*\"say\" + 0.012*\"work\" + 0.012*\"response\" + 0.012*\"bring\"')\n",
      "(28, '0.013*\"lounge\" + 0.011*\"need\" + 0.011*\"delay\" + 0.010*\"tell\" + 0.009*\"take\" + 0.008*\"cancel\" + 0.008*\"like\" + 0.008*\"one\" + 0.008*\"really\" + 0.008*\"give\"')\n",
      "(29, '0.018*\"take\" + 0.017*\"great\" + 0.015*\"today\" + 0.014*\"make\" + 0.014*\"new\" + 0.014*\"travel\" + 0.013*\"bag\" + 0.011*\"delay\" + 0.011*\"get\" + 0.010*\"back\"')\n",
      "(30, '0.022*\"day\" + 0.016*\"try\" + 0.014*\"wait\" + 0.013*\"ticket\" + 0.012*\"one\" + 0.012*\"buy\" + 0.012*\"say\" + 0.012*\"much\" + 0.012*\"seat\" + 0.010*\"tomorrow\"')\n",
      "(31, '0.020*\"know\" + 0.017*\"app\" + 0.016*\"allow\" + 0.016*\"cancel\" + 0.016*\"day\" + 0.016*\"flight\" + 0.016*\"use\" + 0.016*\"seat\" + 0.012*\"need\" + 0.012*\"send\"')\n",
      "(32, '0.041*\"delay\" + 0.016*\"need\" + 0.016*\"work\" + 0.013*\"new\" + 0.013*\"hours\" + 0.012*\"give\" + 0.011*\"first\" + 0.011*\"good\" + 0.011*\"jfk\" + 0.011*\"fly\"')\n",
      "(33, '0.016*\"hour\" + 0.014*\"flight\" + 0.014*\"still\" + 0.014*\"make\" + 0.014*\"charge\" + 0.011*\"hey\" + 0.011*\"know\" + 0.011*\"gate\" + 0.011*\"time\" + 0.009*\"way\"')\n",
      "(34, '0.020*\"upgrade\" + 0.015*\"back\" + 0.013*\"help\" + 0.013*\"time\" + 0.012*\"tell\" + 0.011*\"cancel\" + 0.010*\"train\" + 0.010*\"entire\" + 0.010*\"pick_seat\" + 0.010*\"price\"')\n",
      "(35, '0.020*\"want\" + 0.020*\"check\" + 0.017*\"airport\" + 0.014*\"luggage\" + 0.011*\"miami\" + 0.011*\"food\" + 0.011*\"free\" + 0.011*\"fly\" + 0.011*\"travel\" + 0.010*\"ticket\"')\n",
      "(36, '0.022*\"take\" + 0.019*\"delay\" + 0.014*\"upgrade\" + 0.012*\"seat\" + 0.011*\"nice\" + 0.011*\"seriously\" + 0.011*\"still\" + 0.011*\"book\" + 0.010*\"guy\" + 0.008*\"thanksgiving\"')\n",
      "(37, '0.018*\"seat\" + 0.015*\"together\" + 0.015*\"help\" + 0.012*\"never\" + 0.012*\"nothing\" + 0.012*\"happen\" + 0.011*\"flight\" + 0.010*\"family\" + 0.009*\"even\" + 0.009*\"still\"')\n",
      "(38, '0.026*\"amp\" + 0.018*\"gate\" + 0.017*\"ticket\" + 0.013*\"get\" + 0.013*\"fly\" + 0.013*\"customer_service\" + 0.011*\"time\" + 0.011*\"pay\" + 0.009*\"issue\" + 0.008*\"bad\"')\n",
      "(39, '0.018*\"send\" + 0.014*\"luggage\" + 0.014*\"damage\" + 0.014*\"take\" + 0.014*\"pilot\" + 0.014*\"land\" + 0.011*\"guy\" + 0.011*\"pay\" + 0.009*\"see\" + 0.009*\"supply\"')\n"
     ]
    }
   ],
   "source": [
    "topwords = np.array(lda_model.show_topics(num_topics=40, num_words=10))\n",
    "for i in enumerate(topwords[:,1]):\n",
    "    print(i)"
   ]
  },
  {
   "cell_type": "code",
   "execution_count": 27,
   "metadata": {},
   "outputs": [
    {
     "name": "stderr",
     "output_type": "stream",
     "text": [
      "ERROR: Could not find a version that satisfies the requirement pyLDAvis.gensim (from versions: none)\n",
      "ERROR: No matching distribution found for pyLDAvis.gensim\n"
     ]
    }
   ],
   "source": [
    "#!pip install pyLDAvis.gensim"
   ]
  },
  {
   "cell_type": "code",
   "execution_count": 54,
   "metadata": {},
   "outputs": [
    {
     "name": "stderr",
     "output_type": "stream",
     "text": [
      "D:\\IDES\\anaconda3\\lib\\site-packages\\ipykernel\\ipkernel.py:287: DeprecationWarning: `should_run_async` will not call `transform_cell` automatically in the future. Please pass the result to `transformed_cell` argument and any exception that happen during thetransform in `preprocessing_exc_tuple` in IPython 7.17 and above.\n",
      "  and should_run_async(code)\n"
     ]
    }
   ],
   "source": [
    "import pyLDAvis\n",
    "import pyLDAvis.gensim_models\n",
    "import matplotlib.pyplot as plt\n",
    "%matplotlib inline"
   ]
  },
  {
   "cell_type": "code",
   "execution_count": 55,
   "metadata": {},
   "outputs": [
    {
     "name": "stderr",
     "output_type": "stream",
     "text": [
      "D:\\IDES\\anaconda3\\lib\\site-packages\\ipykernel\\ipkernel.py:287: DeprecationWarning: `should_run_async` will not call `transform_cell` automatically in the future. Please pass the result to `transformed_cell` argument and any exception that happen during thetransform in `preprocessing_exc_tuple` in IPython 7.17 and above.\n",
      "  and should_run_async(code)\n"
     ]
    },
    {
     "data": {
      "text/html": [
       "\n",
       "<link rel=\"stylesheet\" type=\"text/css\" href=\"https://cdn.jsdelivr.net/gh/bmabey/pyLDAvis@3.3.1/pyLDAvis/js/ldavis.v1.0.0.css\">\n",
       "\n",
       "\n",
       "<div id=\"ldavis_el662816572918093929581128936\"></div>\n",
       "<script type=\"text/javascript\">\n",
       "\n",
       "var ldavis_el662816572918093929581128936_data = {\"mdsDat\": {\"x\": [0.439671202680285, 0.37786521041232546, -0.41346210136007705, -0.3202473463304911, 0.1014441942661984, -0.08661959833861753, -0.2347270147110978, 0.030643183554122183, 0.05658018948950996, 0.18173853483188177, 0.25468915276032505, -0.09164855128672636, 0.18778088586895858, -0.2285860373663367, 0.17289079956802156, -0.07038974418101467, -0.1502646244283644, -0.19691502192598975, 0.016170306345509335, -0.02661361984842149], \"y\": [-0.160154709615015, 0.18604938938895474, 0.07971714166644718, -0.1223490457074637, -0.35212252723732707, -0.3597533403982336, -0.27445484292738515, -0.17294023220494703, 0.3130089518457031, -0.2207155618578055, -0.05734566777718097, 0.3352919875985144, 0.09580310677717302, 0.22745006042877125, 0.2662365663494942, 0.17632072565663928, -0.07983188619680746, 0.06754511144438785, 0.03566088067048162, 0.016583892095598542], \"topics\": [1, 2, 3, 4, 5, 6, 7, 8, 9, 10, 11, 12, 13, 14, 15, 16, 17, 18, 19, 20], \"cluster\": [1, 1, 1, 1, 1, 1, 1, 1, 1, 1, 1, 1, 1, 1, 1, 1, 1, 1, 1, 1], \"Freq\": [12.839855929160137, 8.174770298781118, 7.765620190788004, 6.405738370233646, 5.837427183479078, 5.830195012380885, 5.38584037603593, 5.216647163376042, 5.208117631746332, 4.993535914896817, 4.747789195180445, 4.747632003801297, 4.320969799314432, 3.806294849862326, 3.798637517349336, 3.417189703972981, 3.349963013174521, 2.7017831412899094, 0.9508176378080148, 0.5011750673687515]}, \"tinfo\": {\"Term\": [\"time\", \"service\", \"way\", \"gate\", \"one\", \"bag\", \"check\", \"customer\", \"day\", \"today\", \"still\", \"hour\", \"back\", \"help\", \"really\", \"great\", \"pay\", \"want\", \"without\", \"seat\", \"never\", \"got\", \"first\", \"international\", \"airport\", \"good\", \"like\", \"make\", \"class\", \"ticket\", \"time\", \"service\", \"customer\", \"paying\", \"flying\", \"even\", \"every\", \"two\", \"agent\", \"best\", \"business\", \"full\", \"phone\", \"seriously\", \"air\", \"big\", \"suitcase\", \"poor\", \"flown\", \"shout\", \"treat\", \"longer\", \"come\", \"mind\", \"plenty\", \"joke\", \"space\", \"past\", \"forced\", \"schedule\", \"way\", \"good\", \"need\", \"change\", \"trip\", \"hey\", \"working\", \"program\", \"right\", \"also\", \"return\", \"end\", \"cancel\", \"overhead\", \"pas\", \"literally\", \"bought\", \"idea\", \"security\", \"aware\", \"worst\", \"doubt\", \"fact\", \"handle\", \"breeze\", \"relax\", \"provide\", \"find\", \"average\", \"tick\", \"transit\", \"connection\", \"one\", \"make\", \"people\", \"price\", \"delay\", \"going\", \"yes\", \"take\", \"see\", \"giving\", \"sent\", \"leave\", \"used\", \"real\", \"twitter\", \"favorite\", \"le\", \"mess\", \"average\", \"anything\", \"sure\", \"connection\", \"award\", \"especially\", \"stop\", \"limited\", \"maximum\", \"transit\", \"rebate\", \"power\", \"outlet\", \"premium\", \"help\", \"seat\", \"would\", \"ever\", \"staff\", \"better\", \"lounge\", \"night\", \"row\", \"system\", \"hope\", \"record\", \"screwed\", \"exit\", \"complaint\", \"handled\", \"uncomfortable\", \"mention\", \"excited\", \"fine\", \"citizen\", \"smaller\", \"company\", \"notify\", \"worst\", \"extra\", \"lady\", \"redeem\", \"rep\", \"experience\", \"traveling\", \"another\", \"lost\", \"sure\", \"gate\", \"got\", \"early\", \"nothing\", \"said\", \"food\", \"tonight\", \"landing\", \"might\", \"taxi\", \"meal\", \"cause\", \"case\", \"spoke\", \"ride\", \"con\", \"area\", \"according\", \"breeze\", \"relax\", \"min\", \"tarmac\", \"blah\", \"contact\", \"car\", \"sitting\", \"close\", \"hub\", \"upgrade\", \"hotel\", \"lost\", \"later\", \"find\", \"another\", \"check\", \"back\", \"airport\", \"class\", \"someone\", \"carry\", \"gone\", \"person\", \"available\", \"charge\", \"empty\", \"kudos\", \"especially\", \"sure\", \"outlet\", \"premium\", \"rebate\", \"pillow\", \"power\", \"terrible\", \"month\", \"response\", \"yet\", \"traveling\", \"hell\", \"hotel\", \"nope\", \"went\", \"everyone\", \"overnight\", \"stay\", \"upgrade\", \"travel\", \"worst\", \"still\", \"hour\", \"since\", \"waiting\", \"almost\", \"already\", \"tomorrow\", \"ago\", \"put\", \"reservation\", \"crap\", \"window\", \"seen\", \"include\", \"loyalty\", \"respond\", \"honeymoon\", \"interested\", \"straight\", \"contact\", \"connection\", \"limited\", \"award\", \"maximum\", \"transit\", \"response\", \"together\", \"departure\", \"car\", \"month\", \"terrible\", \"day\", \"great\", \"able\", \"refund\", \"attendant\", \"received\", \"sorry\", \"long\", \"try\", \"week\", \"option\", \"offering\", \"order\", \"as\", \"cheese\", \"shot\", \"plate\", \"daily\", \"join\", \"scrum\", \"transatlantic\", \"travel\", \"share\", \"lost\", \"another\", \"quick\", \"high\", \"later\", \"switch\", \"boston\", \"yet\", \"checked\", \"experience\", \"award\", \"know\", \"number\", \"call\", \"issue\", \"rude\", \"due\", \"fix\", \"left\", \"pilot\", \"credit\", \"stuck\", \"status\", \"kept\", \"telling\", \"computer\", \"husband\", \"previous\", \"addition\", \"baby\", \"poorly\", \"save\", \"somewhere\", \"red\", \"terrible\", \"response\", \"opposite\", \"yah\", \"seating\", \"middle\", \"group\", \"checked\", \"experience\", \"think\", \"sure\", \"bag\", \"like\", \"say\", \"could\", \"next\", \"keep\", \"enough\", \"small\", \"tell\", \"dog\", \"woman\", \"size\", \"attention\", \"numerous\", \"checked\", \"month\", \"machine\", \"ruby\", \"city\", \"constantly\", \"cooler\", \"suffice\", \"fit\", \"member\", \"freak\", \"mode\", \"nervous\", \"basic\", \"possible\", \"room\", \"second\", \"switch\", \"car\", \"sure\", \"think\", \"contact\", \"upgrade\", \"really\", \"want\", \"first\", \"let\", \"booked\", \"use\", \"confirmation\", \"may\", \"leg\", \"medium\", \"social\", \"resolution\", \"premium\", \"outlet\", \"rebate\", \"pillow\", \"power\", \"city\", \"month\", \"second\", \"comfort\", \"six\", \"extra\", \"voucher\", \"tarmac\", \"room\", \"direct\", \"flew\", \"barcelona\", \"united\", \"penalty\", \"coming\", \"contact\", \"provide\", \"miss\", \"sure\", \"experience\", \"worst\", \"especially\", \"international\", \"boarding\", \"bad\", \"believe\", \"making\", \"helpful\", \"policy\", \"platinum\", \"bring\", \"wife\", \"card\", \"missing\", \"club\", \"san\", \"point\", \"allow\", \"reason\", \"select\", \"wonderful\", \"entertainment\", \"responsive\", \"site\", \"ended\", \"perfect\", \"maximum\", \"transit\", \"connection\", \"limited\", \"award\", \"dealing\", \"happy\", \"today\", \"crew\", \"give\", \"year\", \"team\", \"family\", \"lax\", \"awful\", \"whole\", \"terminal\", \"several\", \"la\", \"smile\", \"dub\", \"maintenance\", \"another\", \"turned\", \"aircraft\", \"malfunction\", \"minor\", \"unaccompanied\", \"around\", \"ground\", \"halfway\", \"old\", \"passenger\", \"wow\", \"gold\", \"youth\", \"ahead\", \"connection\", \"took\", \"last\", \"upgrade\", \"hotel\", \"worst\", \"pay\", \"ticket\", \"told\", \"well\", \"though\", \"guess\", \"rather\", \"cost\", \"looking\", \"additional\", \"screen\", \"courtesy\", \"average\", \"especially\", \"sure\", \"buy\", \"month\", \"fee\", \"travel\", \"checked\", \"weighing\", \"voucher\", \"true\", \"operator\", \"rudely\", \"party\", \"plus\", \"bachelor\", \"load\", \"wow\", \"hopefully\", \"member\", \"another\", \"different\", \"upgrade\", \"worst\", \"miss\", \"without\", \"claim\", \"look\", \"free\", \"luggage\", \"least\", \"landed\", \"via\", \"send\", \"line\", \"finally\", \"fare\", \"receive\", \"hello\", \"reasonable\", \"pro\", \"lower\", \"demand\", \"insane\", \"decent\", \"worst\", \"doubt\", \"tick\", \"find\", \"month\", \"lodged\", \"central\", \"department\", \"lost\", \"advisable\", \"checked\", \"travel\", \"last\", \"never\", \"new\", \"late\", \"board\", \"ridiculous\", \"baggage\", \"disappointed\", \"job\", \"taking\", \"fantastic\", \"personal\", \"item\", \"broke\", \"dad\", \"sick\", \"den\", \"month\", \"yesterday\", \"preferred\", \"york\", \"experience\", \"short\", \"cleaning\", \"brand\", \"dirty\", \"saw\", \"together\", \"plastic\", \"happy\", \"travel\", \"miss\", \"checked\", \"done\", \"love\", \"nice\", \"work\", \"book\", \"anyone\", \"money\", \"flyer\", \"away\", \"charging\", \"frequent\", \"wedding\", \"god\", \"round\", \"suck\", \"dress\", \"gift\", \"think\", \"month\", \"paramount\", \"worth\", \"added\", \"safety\", \"understand\", \"else\", \"maybe\", \"something\", \"cancellation\", \"gold\", \"hurricane\", \"everyone\", \"upgrade\", \"sure\", \"trying\", \"wait\", \"made\", \"much\", \"hold\", \"problem\", \"booking\", \"complimentary\", \"address\", \"however\", \"standing\", \"screw\", \"terrible\", \"response\", \"payment\", \"respect\", \"min\", \"counting\", \"boy\", \"bit\", \"yesterday\", \"fun\", \"stayed\", \"serving\", \"browser\", \"flier\", \"fearful\", \"unbelievable\", \"awake\", \"special\", \"switch\", \"little\", \"second\", \"tarmac\", \"hear\", \"connection\", \"sure\", \"find\", \"miss\", \"upgrade\", \"home\", \"awesome\", \"sky\", \"preferred\", \"door\", \"closed\", \"bachelor\", \"party\", \"cargo\", \"crawling\", \"misled\", \"wheel\", \"holding\", \"prevent\", \"unreasonable\", \"formula\", \"til\", \"prefer\", \"totally\", \"meeting\", \"phi\", \"agree\", \"exciting\", \"kirk\", \"explanation\", \"onto\", \"thats\", \"barely\", \"witch\", \"feedback\", \"second\", \"went\", \"getting\", \"group\", \"thanksgiving\", \"find\", \"happy\", \"life\", \"lady\", \"amazing\", \"world\", \"flagship\", \"reply\", \"entire\", \"student\", \"faced\", \"sometimes\", \"stare\", \"public\", \"airplane\", \"cushion\", \"wish\", \"center\", \"personality\", \"exceptional\", \"beware\", \"boycott\", \"purse\", \"plat\", \"temperament\", \"star\", \"inform\", \"care\", \"epic\", \"ife\", \"traveller\", \"stunning\", \"science\", \"sort\", \"morning\", \"second\", \"start\", \"forward\", \"moving\", \"desk\", \"yesterday\", \"response\", \"took\", \"another\", \"hotel\"], \"Freq\": [332.0, 297.0, 220.0, 182.0, 189.0, 134.0, 129.0, 166.0, 111.0, 103.0, 105.0, 103.0, 103.0, 104.0, 90.0, 91.0, 78.0, 82.0, 75.0, 90.0, 70.0, 84.0, 75.0, 74.0, 79.0, 89.0, 72.0, 86.0, 75.0, 64.0, 330.916074640043, 296.06996600604333, 165.32848163666793, 76.22505415207323, 73.39434346495052, 64.61238635481372, 48.75691560066158, 41.99472250401582, 36.06655358769964, 26.256635002591832, 25.1158148763195, 22.271665860747845, 22.094387723195027, 14.881699611788333, 13.97891197822246, 13.281540666742751, 11.980721398353626, 11.30100054829959, 10.431601880285415, 9.477647355922196, 9.345184040743778, 8.40369839143301, 7.8623071057350575, 7.722198146452101, 7.31934765086905, 7.0046139865828465, 6.3492911684017015, 3.983757143007183, 3.700563854700673, 3.3686706467868777, 219.51448579550387, 88.69340878933491, 70.80229744277811, 68.31271061648356, 68.17320608345463, 48.461357282061535, 46.57912193753212, 40.33647215643743, 31.37621441783636, 26.47542210164324, 23.46799091698501, 20.65432241735587, 17.465615843120506, 13.205427162869517, 11.588712861688656, 9.98204942361035, 6.759585694278986, 6.217765153623553, 4.185901607504181, 0.4567492463204277, 0.073963310177015, 0.07388422988503114, 0.07387788983963203, 0.07387330326964617, 0.07387330326964617, 0.07387333949847702, 0.07387651314405966, 0.07387976649307017, 0.07386584013049063, 0.07385957254275323, 0.07386847758937667, 0.07386981081035203, 187.89036269474283, 84.77574175803746, 80.91497479796207, 75.15322284950129, 60.70989402968701, 59.54976371789325, 38.74028703534592, 36.046247603124364, 34.836299852107786, 19.148231072113983, 18.255517080755048, 14.362628339117967, 13.627695122080242, 12.934982149542318, 9.407149054652146, 9.223354738478697, 6.013804279544184, 3.446270738311007, 0.07720122992106668, 0.07717959629677115, 0.07719124940715369, 0.07716388903280602, 0.07715118968924087, 0.0771461718998322, 0.07712134451108452, 0.07713062294746707, 0.07713884826755397, 0.07713888268311919, 0.0771248755480758, 0.07712570840475405, 0.07712510957391927, 0.07712535736598884, 102.95062314086738, 89.64139345337392, 72.807431942729, 38.249472638392994, 30.63977986192779, 27.379787378814246, 24.108072340399747, 22.850270500045088, 21.790089284770843, 21.63824549250486, 21.614886138972103, 16.49171667571388, 14.632061549443257, 14.462620115884194, 11.038699361301672, 8.604793824061494, 7.4834976154255965, 6.7779829285234285, 5.156525692763842, 4.8546633529707695, 3.093778931102477, 0.5644571626137601, 0.09114367938635089, 0.09113592354972024, 0.0911808176933795, 0.09112903073444233, 0.09111703927985673, 0.09111096406375511, 0.09112003714350313, 0.09113302788597087, 0.09111556305912176, 0.09113077381046401, 0.09112020747666486, 0.09112026425438544, 181.6040558384428, 83.56515937271169, 68.66999636715958, 47.69824374406747, 40.80422847103811, 25.176496140884183, 17.135954799830515, 16.08070385920159, 15.383293538831124, 10.457304984663429, 9.316589079842135, 5.790580972811666, 4.31452268712205, 3.1714149659998676, 2.3164224297414573, 1.4814594923466546, 1.1280399903752287, 0.6942847416515054, 0.07516593892630322, 0.07516595444843932, 0.07514333869613077, 0.07514416136934446, 0.07512682314331243, 0.07513492569836053, 0.07512893932786842, 0.07512875306223513, 0.07511542989540956, 0.07511876715467267, 0.0751336218389275, 0.07512145248421925, 0.07512678175094949, 0.07512263216656342, 0.07512994309267003, 0.07512921872631835, 128.60632608894025, 102.40808772308746, 77.99438175230097, 74.20264927153129, 36.026075539200086, 35.56001008643966, 32.417595832037364, 16.156816633382437, 16.057787216582966, 12.453038128539028, 5.535129839121752, 4.019920363225157, 0.07185987772233422, 0.07186987709621892, 0.07176750107759892, 0.07176406976790413, 0.07176248847156887, 0.07176257115373019, 0.071762746853323, 0.07176178567319765, 0.07175462849860834, 0.07175565685798976, 0.07173518785542786, 0.0717308573772287, 0.07172511613465202, 0.07172952929501249, 0.07172198971542708, 0.07172298190136293, 0.07172769995219327, 0.07171958159747863, 0.0717220155536025, 0.07173400963462905, 0.07172806685428414, 0.0717322164652554, 104.21353584271857, 102.06079500124898, 55.20595664793645, 46.91357186469641, 40.19040816536137, 34.51918536340357, 29.949197568585408, 25.504666802723683, 13.069790107939987, 10.435230384558249, 9.339811290458067, 8.243713937955516, 4.437581672455428, 4.228554042672524, 1.982938086630951, 1.005393275861763, 0.6673980952269798, 0.6422150023426498, 0.42997301586196723, 0.06953713468809147, 0.06954874929037874, 0.06953409379139729, 0.06953124384582987, 0.06953312948820697, 0.06953314380954148, 0.06953558798396445, 0.069513709758612, 0.06950935607292108, 0.06950576619173736, 0.06951835464477127, 0.06951860765501426, 109.72549554080486, 89.92330287899023, 59.463097102720624, 41.01025160989513, 31.22425551199765, 23.727134518109573, 19.045413187004606, 17.205891580135845, 13.729100585831315, 13.361626893067456, 6.615823800580787, 6.511520058914691, 6.053832158139441, 3.149764194339229, 1.6827307124736526, 1.4581652313286495, 0.45083341308214914, 0.08147511905436841, 0.08147511905436841, 0.08147511905436841, 0.08147511905436841, 0.08142986117708292, 0.08139897410921748, 0.08141070009785621, 0.0814237484968856, 0.08139454449679007, 0.08139316660064877, 0.08140071266273805, 0.08139696737456874, 0.08139201064751009, 0.08139920529984522, 0.08140242347338329, 0.08140264541638592, 0.08140020404335703, 66.6643681056262, 59.07294127480209, 56.69851006117832, 36.23517660290407, 26.780836543551867, 26.29125912575361, 23.822152343430822, 23.412457215142243, 21.956190172555033, 16.998689093158774, 15.042813848801497, 13.79731735448519, 9.56232993384979, 8.504306168457994, 8.287939392866347, 7.8682713868753575, 5.075279476942684, 4.081459583181921, 3.520255064544465, 3.1191761527896325, 2.848690650526351, 2.774713027853986, 0.6540555966903251, 0.08181172603659614, 0.08181071046108061, 0.08170988227739842, 0.08170988227739842, 0.08170993767242654, 0.08171045469268899, 0.0817120334509904, 0.08172049042528332, 0.08171758218630704, 0.08171439697219017, 0.08172025038016147, 133.5916939216427, 71.08285966066309, 56.621753910636606, 41.642730739183165, 30.777283445524745, 24.79979087461052, 18.48935009498421, 16.673908420293433, 16.308836532289487, 7.712476615151182, 6.168654579973831, 4.338582133569319, 1.529523677996161, 0.8625115402992368, 0.07562134069679946, 0.07560825727436911, 0.07557678801405791, 0.07557678801405791, 0.07558361299287646, 0.07557396419013689, 0.07557396419013689, 0.07557396419013689, 0.07557426516196546, 0.07557754044362935, 0.07557177771832342, 0.07557177771832342, 0.07557177771832342, 0.07557714209856212, 0.07557748733095372, 0.07557698276053522, 0.0755798862534697, 0.0755766021196932, 0.07557739880982767, 0.07559165071112191, 0.07557819549996213, 0.07557708013377389, 0.07557880629573188, 89.05537532958198, 81.12684901697082, 73.96789167909513, 45.32594321442489, 35.5016919417436, 33.368411804502564, 14.335158078103216, 10.806017733436994, 8.060817122326188, 6.535635167842573, 6.406848843186296, 0.929843550114326, 0.07353667646794734, 0.07353258606164316, 0.0735299096229503, 0.0735299517053197, 0.07353002745358458, 0.07351119138504808, 0.07352296603200187, 0.07350736188943409, 0.0734945015173502, 0.0734945015173502, 0.07350200901204838, 0.0735009822022354, 0.07350022471958648, 0.07349541891300278, 0.07348909814112121, 0.07349126117490758, 0.07348565580330557, 0.07348616920821206, 0.07348722126744667, 0.07348740642987196, 0.07349543574595052, 0.07349651305460676, 0.07349493917399179, 0.07350785846139284, 0.0734986508389715, 0.073500872788075, 0.07349700962656551, 73.39219560486272, 44.95405454921099, 38.73905553390809, 22.543760027141886, 21.71497513537585, 21.115160308191868, 18.9052554271644, 17.590460981249763, 17.13731148506484, 15.612050215416058, 15.250138200433549, 13.670114835694932, 13.350442694585666, 12.147757894022748, 11.492037985108292, 8.549621406101243, 6.5166769270512335, 6.226301763496669, 5.4636910582225635, 5.123668691726853, 3.866952456478446, 3.8617740052234426, 2.8924887464524365, 0.7010452272854606, 0.0759721778934766, 0.07597218630967181, 0.07589422709333513, 0.07587603969546149, 0.07587483617954481, 0.07582858918680271, 0.07584277889194614, 102.36739838962612, 37.53545449365822, 33.07012516413185, 27.46756597430983, 26.518115805351105, 25.839404023040533, 20.103066926738975, 18.44496956577315, 16.776926416913913, 16.000601001235832, 12.201301201811704, 6.223587069133086, 0.8351604401876965, 0.6210823561288752, 0.07757331105018013, 0.07758782645649945, 0.07756010547735981, 0.07755950800944798, 0.07755744751113669, 0.07756039655147069, 0.07756039655147069, 0.07756045783023088, 0.07755845861067978, 0.0775569266416751, 0.07756261024668246, 0.07755854286897504, 0.07755757006865706, 0.0775571870764059, 0.07755376312568044, 0.07755720239609594, 0.07758042704620685, 0.07756016675611999, 0.07756705295679601, 0.07756058804759627, 0.07755825945470916, 0.07755903309905653, 76.77891436220982, 62.714500729604445, 52.771938719470775, 41.39728691506963, 22.051513380109693, 13.36066921748992, 11.140827777066878, 6.4467666615201145, 5.730935524342809, 5.682289803994657, 3.883125798641511, 3.2433698866866014, 0.06739996497029728, 0.06740279216164026, 0.06741072044285268, 0.06736237479614034, 0.06737689535883748, 0.06735843427169093, 0.06736819111818725, 0.06735686885786857, 0.0673403577905266, 0.0673495815866265, 0.0673404117703136, 0.0673357357712666, 0.0673357357712666, 0.06733613387219557, 0.06733630930650325, 0.0673341568624975, 0.06733696381142036, 0.06733578300358022, 0.06733703128615408, 0.0673383875283019, 0.06734485835526592, 0.06733757783149724, 0.06733931867962728, 0.06733946712404147, 0.06733709876088781, 74.34421828333797, 37.90711563010046, 28.084700872971197, 26.373737996254018, 25.3579134774849, 18.95937590388067, 17.472243092891762, 13.606840198385182, 12.701261998409722, 11.959235016122848, 11.370381504929233, 11.332067450617854, 7.291673682873415, 5.877790179290182, 4.838319223635991, 3.320977171561279, 3.077808425014946, 2.1174598142135976, 1.53165961448972, 0.9890062537899857, 0.06162257740524697, 0.06156467260680608, 0.061537730276469756, 0.06153943395294441, 0.06152591228353293, 0.06149608784437782, 0.061496114779974256, 0.061496114779974256, 0.06150596647437117, 0.06149302392028309, 0.061507259383000154, 0.06150080830765344, 0.061496397603736846, 69.53297694631104, 42.9665245602394, 24.214146051211955, 20.7423920590087, 20.19716716832717, 18.810110629836164, 17.204147188654737, 13.15476803715341, 8.609722774672512, 7.749309007555247, 6.00510514396994, 2.4563245259996838, 2.152274453441109, 0.633077306793958, 0.5484158453180383, 0.3794542763527902, 0.06853232342465405, 0.0685091163717031, 0.06849929078050328, 0.06849593481408855, 0.06851275099236886, 0.06849519577455318, 0.06849309980996925, 0.06849401452283681, 0.06849316644468145, 0.06849401452283681, 0.06849935135751438, 0.06849316644468145, 0.06850600877103385, 0.06850978271882516, 0.06849543808259756, 0.0684957773138597, 49.78846467218976, 27.29662644126696, 26.557428956720017, 26.43032584730054, 18.753135978327098, 15.415454784209333, 14.058604842961385, 13.051090058293868, 12.221826871968434, 11.859555797415005, 10.944335420102243, 7.632561788111264, 4.32801358615274, 4.058310946362062, 3.1800622253149937, 2.747439839662861, 2.4030035406071955, 0.06703494047641319, 0.0670438482675018, 0.06701362116307444, 0.06701479699149814, 0.06701363897865661, 0.06701363897865661, 0.06701621629954492, 0.06701362710160183, 0.06701421501581367, 0.06701488013088162, 0.06701180991221975, 0.06700968985794066, 0.06700664339338835, 0.06701449412660113, 0.06701227311735636, 0.06701379338036882, 50.30114104666809, 39.467761140056176, 27.762980412948764, 24.105881215982876, 15.79808916970189, 12.961255902730306, 11.036229889930448, 7.036473590849735, 2.665486630801238, 2.439313288872549, 1.1706415437400202, 1.1697012711311459, 0.05670840045360797, 0.056711868044117465, 0.05660320410284739, 0.0566039943686403, 0.05660988065142507, 0.056602691627454405, 0.056602054625330425, 0.05660289757550953, 0.05660849648891506, 0.056600536357110105, 0.05659992330243439, 0.056600536357110105, 0.056599698196420654, 0.056600536357110105, 0.056600536357110105, 0.05659963593305515, 0.0565999328814137, 0.05659974130182754, 0.056604023105578216, 0.0566065136401983, 0.05660548389992269, 0.05660416679026784, 0.05660147030759263, 0.056605354583702035, 0.0566046601077022, 0.05660237073164759, 0.056601364938820245, 0.05660176725595118, 27.561875307451817, 9.591867688888588, 0.033290756418544586, 0.03329122836639542, 0.03328930686443131, 0.03328930686443131, 0.03328740895985973, 0.03328740895985973, 0.033286552711616076, 0.0332857133186528, 0.0332857133186528, 0.0332857133186528, 0.0332857133186528, 0.033285524539512466, 0.033285524539512466, 0.03328527171030666, 0.033285524539512466, 0.0332857133186528, 0.03328740895985973, 0.03328740895985973, 0.033285524539512466, 0.03328480650456798, 0.03328480650456798, 0.03328480650456798, 0.03328501888110086, 0.0332857133186528, 0.03328480650456798, 0.03328499191265224, 0.03328499191265224, 0.03328499191265224, 0.033288191044869686, 0.033286036940036234, 0.033287803373420785, 0.033286707780195636, 0.033286781943429336, 0.03328930686443131, 0.03328724714916802, 0.033285524539512466, 0.033285524539512466, 6.841923314025325, 2.5944958454931735, 1.4197672686947547, 0.02124918004318773, 0.021249427029568023, 0.02124791135055803, 0.02124791312743846, 0.02124791312743846, 0.02124791312743846, 0.02124791135055803, 0.02124791312743846, 0.02124674038635218, 0.02124791312743846, 0.021245947897678724, 0.021245787978439686, 0.021245787978439686, 0.02124490131510324, 0.02124490131510324, 0.02124490131510324, 0.021244903091983673, 0.021244711188896828, 0.021244903091983673, 0.021244263415027522, 0.02124597988152653, 0.0212439044851799, 0.0212439044851799, 0.0212439044851799, 0.0212438991545386, 0.021243778326669103, 0.021243778326669103, 0.02124791312743846, 0.02124674038635218, 0.02124674038635218, 0.021244263415027522, 0.021244263415027522, 0.021244903091983673, 0.021245423717950764, 0.02124791135055803, 0.021244903091983673, 0.021245947897678724, 0.02124490131510324], \"Total\": [332.0, 297.0, 220.0, 182.0, 189.0, 134.0, 129.0, 166.0, 111.0, 103.0, 105.0, 103.0, 103.0, 104.0, 90.0, 91.0, 78.0, 82.0, 75.0, 90.0, 70.0, 84.0, 75.0, 74.0, 79.0, 89.0, 72.0, 86.0, 75.0, 64.0, 332.2151289036467, 297.369020269647, 166.62753590027145, 77.5241084349733, 74.69339772855407, 65.91144061841727, 50.05596986426511, 43.29377678713974, 37.36560785130317, 27.55568926619537, 26.414869139923038, 23.570720124351382, 23.393441986798564, 16.18075387539187, 15.277966241825995, 14.580594930346287, 13.279775661957162, 12.600054829171714, 11.73065614388895, 10.776701619525731, 10.644238313199427, 9.702752660714319, 9.161361369338593, 9.0212524510029, 8.618401914472585, 8.303668250186384, 7.648345432005239, 5.282811406610721, 4.999618147986198, 4.667724917636181, 220.813081015258, 89.99200400339872, 72.10089265684192, 69.61130583054737, 69.47180129751844, 49.759952496125315, 47.8777171515959, 41.63506737050121, 32.674809631900146, 27.774017315707024, 24.766586131048793, 21.952917631419655, 18.76421105718429, 14.5040223769333, 12.887308075752438, 11.280644637674133, 8.058180921968662, 7.516360367687338, 5.484496821567966, 1.7553444603842128, 1.3732367036028528, 1.372648397455252, 1.3726666249472863, 1.3726078959052526, 1.3726305110714216, 1.3726313388117493, 1.372695988115195, 1.3728536033805265, 1.3727200824451204, 1.3726648714412855, 1.3729146644192465, 1.372971065836952, 189.18568606008722, 86.07106512338187, 82.21029816330649, 76.44854624136593, 62.005217395031394, 60.84508708323764, 40.03561040069031, 37.34157096846875, 36.13162321745217, 20.44355443745838, 19.550840446099446, 15.657951704462363, 14.923018487424638, 14.230305514886714, 10.702472419996543, 10.518678103823094, 7.309127644888582, 4.741594103655406, 1.3727200824451204, 1.3726576589777777, 1.3731575315133142, 1.372971065836952, 1.372830651382329, 1.3728358615386262, 1.3725669250878667, 1.372736719207622, 1.3729134434807884, 1.3729146644192465, 1.372709507332897, 1.3727308337840296, 1.3727228373797324, 1.3727392121357498, 104.23193030333427, 90.92270061584081, 74.08873910519588, 39.53077980085986, 31.92108702439466, 28.661094541281116, 25.389379502866618, 24.13157766251196, 23.071396447237714, 22.91955265497173, 22.896193301438974, 17.77302383818075, 15.913368711910126, 15.743927278351062, 12.32000652376854, 9.886100991317852, 8.764804777892463, 8.059290090990297, 6.437832869645972, 6.13597051543764, 4.375086093569347, 1.8457643250806306, 1.3725674383133684, 1.3724935332571875, 1.3732367036028528, 1.3726250147599162, 1.372522437521976, 1.3724567976210083, 1.3726021449237082, 1.372807964235243, 1.3725600284186998, 1.3729101546311733, 1.37268240640909, 1.3731575315133142, 182.90135663963463, 84.86246017390356, 69.96729716835145, 48.99554454525931, 42.101529272229946, 26.473796942076028, 18.43325560102236, 17.378004660393437, 16.680594340022967, 11.754605785855272, 10.613889881033979, 7.087881781249278, 5.611823488313895, 4.468715767191713, 3.613723230933302, 2.7787602935384994, 2.425340791567074, 1.9915855428433507, 1.3726305110714216, 1.3726313388117493, 1.3725963806680577, 1.3726335785960126, 1.37248542670758, 1.3726581380958478, 1.3726047799299042, 1.3726089557012726, 1.3724479586712373, 1.3725100791554103, 1.372804375182812, 1.3725843421057702, 1.37268240640909, 1.3726114554715287, 1.3728536033805265, 1.3729101546311733, 129.90701708021405, 103.70877871436132, 79.29507274357482, 75.50334026280514, 37.326766530473904, 36.86070107771348, 33.71828695443563, 17.457507624656262, 17.35847820785679, 13.753729119812851, 6.835820830395579, 5.3206113544989835, 1.3728358615386262, 1.3731575315133142, 1.3727228373797324, 1.3727392121357498, 1.372709507332897, 1.3727213408052141, 1.3727308337840296, 1.3729109097383199, 1.3728696664725522, 1.3730054428216674, 1.372636563969803, 1.3725600284186998, 1.3724576973347429, 1.3725843421057702, 1.3724421138221006, 1.3725102727393657, 1.3726154304092826, 1.372462505242439, 1.3725146396009786, 1.372804375182812, 1.3728557772324466, 1.3732367036028528, 105.51645576227413, 103.36371492080454, 56.508876567491996, 48.21649178425195, 41.49332811458638, 35.822105282959114, 31.252117488140957, 26.807586722279233, 14.372710027495536, 11.738150304113798, 10.64273122336381, 9.546633982934962, 5.74050159201098, 5.531473962228076, 3.2858580061865013, 2.3083131954173135, 1.9703180147825308, 1.9451349218982006, 1.73289294109529, 1.3726581380958478, 1.372971065836952, 1.372736719207622, 1.372830651382329, 1.3729134434807884, 1.3729146644192465, 1.3730054428216674, 1.3726011838136891, 1.3725766369667658, 1.3726047799299042, 1.3728696664725522, 1.3729109097383199, 111.01651623668688, 91.21432357487225, 60.754117798602636, 42.30127230577714, 32.515276207879666, 25.018155213991587, 20.33643388288662, 18.49691227601786, 15.020121281713326, 14.652647588949467, 7.906844496462801, 7.802540754796705, 7.344852854021455, 4.440784890221242, 2.9737514083556653, 2.749185940560856, 1.7418541089641624, 1.3726090987930402, 1.3726090987930402, 1.3726090987930402, 1.3726090987930402, 1.3728557772324466, 1.3724706275328247, 1.37268240640909, 1.3729101546311733, 1.3724320981632285, 1.3724523882729418, 1.3726114554715287, 1.372552969598708, 1.3724751229670213, 1.372636563969803, 1.3727503510743353, 1.372807964235243, 1.372830651382329, 67.9550821748845, 60.36365534884986, 57.98922413522609, 37.525890672162355, 28.071550612810153, 27.581973195011894, 25.112866412689108, 24.70317128440053, 23.24690424181332, 18.28940316241706, 16.333527918059783, 15.088031423743475, 10.853044003108076, 9.79502023771628, 9.578653462124633, 9.158985456133644, 6.365993569168192, 5.372173665790404, 4.810969133802754, 4.40989022204792, 4.139404725462411, 4.0654270971122735, 1.9447696659486124, 1.3729109097383199, 1.3730054428216674, 1.3724321360443745, 1.3724321360443745, 1.3724449432689219, 1.3725034265810545, 1.3725755558751662, 1.3727503510743353, 1.372807964235243, 1.3726842631471403, 1.3731575315133142, 134.8885328375725, 72.3796985765929, 57.918592833812184, 42.939569655112976, 32.074122361454556, 26.096629790540334, 19.786189010914025, 17.970747336223248, 17.6056754482193, 9.009315531080995, 7.465493517569774, 5.635421060867255, 2.826362593925975, 2.159350456229051, 1.3727503510743353, 1.3728696664725522, 1.3724416087243743, 1.3724416087243743, 1.3725784279303153, 1.3724215345581394, 1.3724215345581394, 1.3724215345581394, 1.3724710356008598, 1.3725419110429338, 1.372443756070406, 1.372443756070406, 1.372443756070406, 1.3725418314165416, 1.3725547925350057, 1.3725493278374683, 1.3726032706481528, 1.372552969598708, 1.3726047799299042, 1.3731575315133142, 1.3726842631471403, 1.3726581380958478, 1.372804375182812, 90.35429942528124, 82.42577311267009, 75.2668157747944, 46.624867310124145, 36.80061603744286, 34.66733590020182, 15.634082173802476, 12.104941829136253, 9.359741218025448, 7.834559263541833, 7.7057729388855565, 2.228767645813585, 1.3727392121357498, 1.3727228373797324, 1.372709507332897, 1.3727213408052141, 1.3727308337840296, 1.3725784279303153, 1.3728696664725522, 1.3726032706481528, 1.3724347227260347, 1.3724347227260347, 1.3726250147599162, 1.3726438103770269, 1.3726335785960126, 1.3725493278374683, 1.37243562828259, 1.372542186873534, 1.3724412179122265, 1.3724513302768315, 1.372471339660939, 1.3724779385915822, 1.3726581380958478, 1.372695988115195, 1.3726647505728404, 1.3731575315133142, 1.372807964235243, 1.3732367036028528, 1.3728358615386262, 74.68878588921179, 46.25064480896703, 40.03564579366414, 23.840350286897934, 23.011565395131896, 22.411750567947916, 20.201845686920446, 18.88705124100581, 18.433901744820886, 16.908640475172106, 16.546728460189595, 14.966705095450981, 14.647032954341716, 13.444348153778797, 12.788628244864341, 9.846211665857293, 7.813267186807283, 7.5228920232527186, 6.760281317978613, 6.420258976724122, 5.163542716234496, 5.158364279086316, 4.189079006208487, 1.9976354870415094, 1.3729134434807884, 1.3729146644192465, 1.372971065836952, 1.372736719207622, 1.372830651382329, 1.3724774106791378, 1.3727424026346144, 103.66225460431946, 38.830310708351554, 34.364981378825185, 28.762422189003168, 27.81297202004444, 27.13426023773387, 21.39792314143231, 19.739825780466486, 18.07178263160725, 17.29545721592917, 13.496157416505039, 7.518443298854369, 2.13001666846514, 1.9159385708222099, 1.372563401653484, 1.3729101546311733, 1.372466832324711, 1.372470884460851, 1.3724457473929943, 1.3724990256473029, 1.3724990256473029, 1.3725026658880375, 1.372468546755028, 1.3724416104551447, 1.3725526186201606, 1.3724912812801735, 1.3724800860692639, 1.3724740667256103, 1.3724186526820654, 1.3724883821130034, 1.372971065836952, 1.3725522050953824, 1.372727948871725, 1.372804375182812, 1.3725843421057702, 1.3732367036028528, 78.08398692511247, 64.0195732925071, 54.07701128237343, 42.70235947797228, 23.356585943012348, 14.665741780392576, 12.445900339969533, 7.75183922442277, 7.036008087245464, 6.987362469922999, 5.188198361544166, 4.54844247770966, 1.3727200824451204, 1.3728358615386262, 1.3731575315133142, 1.3725618346829052, 1.3728696664725522, 1.3725467665201565, 1.3728557772324466, 1.3727503510743353, 1.372430987902915, 1.3726438103770269, 1.3724641839684484, 1.3724292462553402, 1.3724292462553402, 1.3724406774919828, 1.3724652351202389, 1.3724314769544912, 1.3725032864160707, 1.3724800860692639, 1.3725071335935264, 1.3725419110429338, 1.3729101546311733, 1.3725616908664668, 1.372804375182812, 1.3732367036028528, 1.3726647505728404, 75.65513314828951, 39.21803051538359, 29.39561572498662, 27.68465284826944, 26.66882832950032, 20.27029075589609, 18.783157944907185, 14.917755050400604, 14.012176850425144, 13.27014986813827, 12.681296356944655, 12.642982302633277, 8.602588540579188, 7.188705031305604, 6.149234080825458, 4.631892023576701, 4.3887233592229915, 3.428374666229019, 2.8425744665051416, 2.299921105805407, 1.3732367036028528, 1.372648397455252, 1.3726648714412855, 1.3728536033805265, 1.3728696664725522, 1.3724441308641444, 1.3724513666198113, 1.3724583470635943, 1.37268240640909, 1.3724177291071609, 1.3727503510743353, 1.3728557772324466, 1.372727948871725, 70.836894232739, 44.270441846667346, 25.518063337639905, 22.04630934543665, 21.50108445475512, 20.114027916264114, 18.508064475082687, 14.458685323581362, 9.913640061100464, 9.0532262939832, 7.309022430397891, 3.7602418124276347, 3.4561917398690594, 1.9369945980113985, 1.852333131745989, 1.6833715627807408, 1.3728696664725522, 1.3726129849472375, 1.3724993618534989, 1.3724503180415422, 1.372807964235243, 1.3724651577823639, 1.372438214322889, 1.3724627021357012, 1.372465963494372, 1.3724905490905892, 1.3726011838136891, 1.3724805370090138, 1.3727424026346144, 1.3728557772324466, 1.3726647505728404, 1.3727503510743353, 51.09386830929816, 28.60203007837536, 27.86283259382842, 27.735729484408942, 20.0585396154355, 16.720858421317736, 15.364008480069785, 14.356493695402268, 13.527230509076833, 13.164959434523405, 12.249739057210643, 8.937965425219664, 5.633417223261142, 5.363714597599342, 4.485465862423395, 4.052843510673192, 3.708407177715596, 1.3726842631471403, 1.3728696664725522, 1.372436877779719, 1.3724719729732089, 1.37245400365185, 1.3724604003865841, 1.3725310480547188, 1.3724781510951394, 1.372529072257993, 1.3725729816955288, 1.3725172178712555, 1.3724740667256103, 1.3724264238807515, 1.3726154304092826, 1.372804375182812, 1.3731575315133142, 51.616945882094306, 40.78356597548239, 29.078785248374984, 25.421686051409097, 17.113894005128113, 14.277060738156525, 12.352034725356667, 8.352278426275953, 3.9812914818656298, 3.7551181242987677, 2.4864463791662392, 2.485506106557365, 1.3729109097383199, 1.3730054428216674, 1.3724254732995071, 1.3724480805482864, 1.3725963806680577, 1.372429137171707, 1.3724275255833571, 1.372474471099409, 1.3726129849472375, 1.3724319763926325, 1.3724200061842533, 1.3724364118213486, 1.3724195731375586, 1.3724400128893637, 1.372449095394269, 1.372432097613902, 1.3724403770485902, 1.372441991126232, 1.372552969598708, 1.3726222705644737, 1.3726032706481528, 1.3726335785960126, 1.3725071179377126, 1.372971065836952, 1.3731575315133142, 1.3728536033805265, 1.3726647505728404, 1.372804375182812, 28.900990766460787, 10.930983147897555, 1.3724538889216458, 1.3724993618534989, 1.3724286710659943, 1.3724905156518739, 1.3724314769544912, 1.3724406774919828, 1.3724422283945172, 1.3724145882905565, 1.3724145882905565, 1.3724145882905565, 1.3724205522480508, 1.3724270965641387, 1.3724270965641387, 1.3724189441062187, 1.3724298021779608, 1.37243759448602, 1.3725104160522112, 1.372512059651318, 1.3724344068661012, 1.3724094240275946, 1.3724094240275946, 1.3724094240275946, 1.372426791749108, 1.3724591650611968, 1.3724234522378036, 1.372431611703184, 1.372431611703184, 1.37243594974719, 1.3726032706481528, 1.3725102727393657, 1.3726522050495658, 1.3725755558751662, 1.3725949294675974, 1.3728536033805265, 1.3727424026346144, 1.3725144319966092, 1.372522437521976, 8.193076136684748, 3.9456486681525966, 2.770920091354178, 1.3724798669700553, 1.3725144075002853, 1.3724355523263885, 1.372437300037469, 1.372437300037469, 1.372437300037469, 1.3724540832626897, 1.3724618790106509, 1.3724459707859493, 1.3725270047468519, 1.3724134679894597, 1.3724209977747388, 1.3724300419733233, 1.3724125215443805, 1.3724125215443805, 1.3724125215443805, 1.3724200498162489, 1.3724109651098688, 1.3724290962621903, 1.3724102726915, 1.372529643058817, 1.3723992916267358, 1.3723992916267358, 1.3723992916267358, 1.3724076304306987, 1.3724029207603656, 1.3724041307471657, 1.3726786569048384, 1.3726032706481528, 1.3726365076737261, 1.3724386849502128, 1.3724409208307176, 1.3725374629427063, 1.3726129849472375, 1.3730054428216674, 1.3725522050953824, 1.3729101546311733, 1.3725843421057702], \"Category\": [\"Default\", \"Default\", \"Default\", \"Default\", \"Default\", \"Default\", \"Default\", \"Default\", \"Default\", \"Default\", \"Default\", \"Default\", \"Default\", \"Default\", \"Default\", \"Default\", \"Default\", \"Default\", \"Default\", \"Default\", \"Default\", \"Default\", \"Default\", \"Default\", \"Default\", \"Default\", \"Default\", \"Default\", \"Default\", \"Default\", \"Topic1\", \"Topic1\", \"Topic1\", \"Topic1\", \"Topic1\", \"Topic1\", \"Topic1\", \"Topic1\", \"Topic1\", \"Topic1\", \"Topic1\", \"Topic1\", \"Topic1\", \"Topic1\", \"Topic1\", \"Topic1\", \"Topic1\", \"Topic1\", \"Topic1\", \"Topic1\", \"Topic1\", \"Topic1\", \"Topic1\", \"Topic1\", \"Topic1\", \"Topic1\", \"Topic1\", \"Topic1\", \"Topic1\", \"Topic1\", \"Topic2\", \"Topic2\", \"Topic2\", \"Topic2\", \"Topic2\", \"Topic2\", \"Topic2\", \"Topic2\", \"Topic2\", \"Topic2\", \"Topic2\", \"Topic2\", \"Topic2\", \"Topic2\", \"Topic2\", \"Topic2\", \"Topic2\", \"Topic2\", \"Topic2\", \"Topic2\", \"Topic2\", \"Topic2\", \"Topic2\", \"Topic2\", \"Topic2\", \"Topic2\", \"Topic2\", \"Topic2\", \"Topic2\", \"Topic2\", \"Topic2\", \"Topic2\", \"Topic3\", \"Topic3\", \"Topic3\", \"Topic3\", \"Topic3\", \"Topic3\", \"Topic3\", \"Topic3\", \"Topic3\", \"Topic3\", \"Topic3\", \"Topic3\", \"Topic3\", \"Topic3\", \"Topic3\", \"Topic3\", \"Topic3\", \"Topic3\", \"Topic3\", \"Topic3\", \"Topic3\", \"Topic3\", \"Topic3\", \"Topic3\", \"Topic3\", \"Topic3\", \"Topic3\", \"Topic3\", \"Topic3\", \"Topic3\", \"Topic3\", \"Topic3\", \"Topic4\", \"Topic4\", \"Topic4\", \"Topic4\", \"Topic4\", \"Topic4\", \"Topic4\", \"Topic4\", \"Topic4\", \"Topic4\", \"Topic4\", \"Topic4\", \"Topic4\", \"Topic4\", \"Topic4\", \"Topic4\", \"Topic4\", \"Topic4\", \"Topic4\", \"Topic4\", \"Topic4\", \"Topic4\", \"Topic4\", \"Topic4\", \"Topic4\", \"Topic4\", \"Topic4\", \"Topic4\", \"Topic4\", \"Topic4\", \"Topic4\", \"Topic4\", \"Topic4\", \"Topic4\", \"Topic5\", \"Topic5\", \"Topic5\", \"Topic5\", \"Topic5\", \"Topic5\", \"Topic5\", \"Topic5\", \"Topic5\", \"Topic5\", \"Topic5\", \"Topic5\", \"Topic5\", \"Topic5\", \"Topic5\", \"Topic5\", \"Topic5\", \"Topic5\", \"Topic5\", \"Topic5\", \"Topic5\", \"Topic5\", \"Topic5\", \"Topic5\", \"Topic5\", \"Topic5\", \"Topic5\", \"Topic5\", \"Topic5\", \"Topic5\", \"Topic5\", \"Topic5\", \"Topic5\", \"Topic5\", \"Topic6\", \"Topic6\", \"Topic6\", \"Topic6\", \"Topic6\", \"Topic6\", \"Topic6\", \"Topic6\", \"Topic6\", \"Topic6\", \"Topic6\", \"Topic6\", \"Topic6\", \"Topic6\", \"Topic6\", \"Topic6\", \"Topic6\", \"Topic6\", \"Topic6\", \"Topic6\", \"Topic6\", \"Topic6\", \"Topic6\", \"Topic6\", \"Topic6\", \"Topic6\", \"Topic6\", \"Topic6\", \"Topic6\", \"Topic6\", \"Topic6\", \"Topic6\", \"Topic6\", \"Topic6\", \"Topic7\", \"Topic7\", \"Topic7\", \"Topic7\", \"Topic7\", \"Topic7\", \"Topic7\", \"Topic7\", \"Topic7\", \"Topic7\", \"Topic7\", \"Topic7\", \"Topic7\", \"Topic7\", \"Topic7\", \"Topic7\", \"Topic7\", \"Topic7\", \"Topic7\", \"Topic7\", \"Topic7\", \"Topic7\", \"Topic7\", \"Topic7\", \"Topic7\", \"Topic7\", \"Topic7\", \"Topic7\", \"Topic7\", \"Topic7\", \"Topic7\", \"Topic8\", \"Topic8\", \"Topic8\", \"Topic8\", \"Topic8\", \"Topic8\", \"Topic8\", \"Topic8\", \"Topic8\", \"Topic8\", \"Topic8\", \"Topic8\", \"Topic8\", \"Topic8\", \"Topic8\", \"Topic8\", \"Topic8\", \"Topic8\", \"Topic8\", \"Topic8\", \"Topic8\", \"Topic8\", \"Topic8\", \"Topic8\", \"Topic8\", \"Topic8\", \"Topic8\", \"Topic8\", \"Topic8\", \"Topic8\", \"Topic8\", \"Topic8\", \"Topic8\", \"Topic8\", \"Topic9\", \"Topic9\", \"Topic9\", \"Topic9\", \"Topic9\", \"Topic9\", \"Topic9\", \"Topic9\", \"Topic9\", \"Topic9\", \"Topic9\", \"Topic9\", \"Topic9\", \"Topic9\", \"Topic9\", \"Topic9\", \"Topic9\", \"Topic9\", \"Topic9\", \"Topic9\", \"Topic9\", \"Topic9\", \"Topic9\", \"Topic9\", \"Topic9\", \"Topic9\", \"Topic9\", \"Topic9\", \"Topic9\", \"Topic9\", \"Topic9\", \"Topic9\", \"Topic9\", \"Topic9\", \"Topic10\", \"Topic10\", \"Topic10\", \"Topic10\", \"Topic10\", \"Topic10\", \"Topic10\", \"Topic10\", \"Topic10\", \"Topic10\", \"Topic10\", \"Topic10\", \"Topic10\", \"Topic10\", \"Topic10\", \"Topic10\", \"Topic10\", \"Topic10\", \"Topic10\", \"Topic10\", \"Topic10\", \"Topic10\", \"Topic10\", \"Topic10\", \"Topic10\", \"Topic10\", \"Topic10\", \"Topic10\", \"Topic10\", \"Topic10\", \"Topic10\", \"Topic10\", \"Topic10\", \"Topic10\", \"Topic10\", \"Topic10\", \"Topic10\", \"Topic11\", \"Topic11\", \"Topic11\", \"Topic11\", \"Topic11\", \"Topic11\", \"Topic11\", \"Topic11\", \"Topic11\", \"Topic11\", \"Topic11\", \"Topic11\", \"Topic11\", \"Topic11\", \"Topic11\", \"Topic11\", \"Topic11\", \"Topic11\", \"Topic11\", \"Topic11\", \"Topic11\", \"Topic11\", \"Topic11\", \"Topic11\", \"Topic11\", \"Topic11\", \"Topic11\", \"Topic11\", \"Topic11\", \"Topic11\", \"Topic11\", \"Topic11\", \"Topic11\", \"Topic11\", \"Topic11\", \"Topic11\", \"Topic11\", \"Topic11\", \"Topic11\", \"Topic12\", \"Topic12\", \"Topic12\", \"Topic12\", \"Topic12\", \"Topic12\", \"Topic12\", \"Topic12\", \"Topic12\", \"Topic12\", \"Topic12\", \"Topic12\", \"Topic12\", \"Topic12\", \"Topic12\", \"Topic12\", \"Topic12\", \"Topic12\", \"Topic12\", \"Topic12\", \"Topic12\", \"Topic12\", \"Topic12\", \"Topic12\", \"Topic12\", \"Topic12\", \"Topic12\", \"Topic12\", \"Topic12\", \"Topic12\", \"Topic12\", \"Topic13\", \"Topic13\", \"Topic13\", \"Topic13\", \"Topic13\", \"Topic13\", \"Topic13\", \"Topic13\", \"Topic13\", \"Topic13\", \"Topic13\", \"Topic13\", \"Topic13\", \"Topic13\", \"Topic13\", \"Topic13\", \"Topic13\", \"Topic13\", \"Topic13\", \"Topic13\", \"Topic13\", \"Topic13\", \"Topic13\", \"Topic13\", \"Topic13\", \"Topic13\", \"Topic13\", \"Topic13\", \"Topic13\", \"Topic13\", \"Topic13\", \"Topic13\", \"Topic13\", \"Topic13\", \"Topic13\", \"Topic13\", \"Topic14\", \"Topic14\", \"Topic14\", \"Topic14\", \"Topic14\", \"Topic14\", \"Topic14\", \"Topic14\", \"Topic14\", \"Topic14\", \"Topic14\", \"Topic14\", \"Topic14\", \"Topic14\", \"Topic14\", \"Topic14\", \"Topic14\", \"Topic14\", \"Topic14\", \"Topic14\", \"Topic14\", \"Topic14\", \"Topic14\", \"Topic14\", \"Topic14\", \"Topic14\", \"Topic14\", \"Topic14\", \"Topic14\", \"Topic14\", \"Topic14\", \"Topic14\", \"Topic14\", \"Topic14\", \"Topic14\", \"Topic14\", \"Topic14\", \"Topic15\", \"Topic15\", \"Topic15\", \"Topic15\", \"Topic15\", \"Topic15\", \"Topic15\", \"Topic15\", \"Topic15\", \"Topic15\", \"Topic15\", \"Topic15\", \"Topic15\", \"Topic15\", \"Topic15\", \"Topic15\", \"Topic15\", \"Topic15\", \"Topic15\", \"Topic15\", \"Topic15\", \"Topic15\", \"Topic15\", \"Topic15\", \"Topic15\", \"Topic15\", \"Topic15\", \"Topic15\", \"Topic15\", \"Topic15\", \"Topic15\", \"Topic15\", \"Topic15\", \"Topic16\", \"Topic16\", \"Topic16\", \"Topic16\", \"Topic16\", \"Topic16\", \"Topic16\", \"Topic16\", \"Topic16\", \"Topic16\", \"Topic16\", \"Topic16\", \"Topic16\", \"Topic16\", \"Topic16\", \"Topic16\", \"Topic16\", \"Topic16\", \"Topic16\", \"Topic16\", \"Topic16\", \"Topic16\", \"Topic16\", \"Topic16\", \"Topic16\", \"Topic16\", \"Topic16\", \"Topic16\", \"Topic16\", \"Topic16\", \"Topic16\", \"Topic16\", \"Topic17\", \"Topic17\", \"Topic17\", \"Topic17\", \"Topic17\", \"Topic17\", \"Topic17\", \"Topic17\", \"Topic17\", \"Topic17\", \"Topic17\", \"Topic17\", \"Topic17\", \"Topic17\", \"Topic17\", \"Topic17\", \"Topic17\", \"Topic17\", \"Topic17\", \"Topic17\", \"Topic17\", \"Topic17\", \"Topic17\", \"Topic17\", \"Topic17\", \"Topic17\", \"Topic17\", \"Topic17\", \"Topic17\", \"Topic17\", \"Topic17\", \"Topic17\", \"Topic17\", \"Topic18\", \"Topic18\", \"Topic18\", \"Topic18\", \"Topic18\", \"Topic18\", \"Topic18\", \"Topic18\", \"Topic18\", \"Topic18\", \"Topic18\", \"Topic18\", \"Topic18\", \"Topic18\", \"Topic18\", \"Topic18\", \"Topic18\", \"Topic18\", \"Topic18\", \"Topic18\", \"Topic18\", \"Topic18\", \"Topic18\", \"Topic18\", \"Topic18\", \"Topic18\", \"Topic18\", \"Topic18\", \"Topic18\", \"Topic18\", \"Topic18\", \"Topic18\", \"Topic18\", \"Topic18\", \"Topic18\", \"Topic18\", \"Topic18\", \"Topic18\", \"Topic18\", \"Topic18\", \"Topic19\", \"Topic19\", \"Topic19\", \"Topic19\", \"Topic19\", \"Topic19\", \"Topic19\", \"Topic19\", \"Topic19\", \"Topic19\", \"Topic19\", \"Topic19\", \"Topic19\", \"Topic19\", \"Topic19\", \"Topic19\", \"Topic19\", \"Topic19\", \"Topic19\", \"Topic19\", \"Topic19\", \"Topic19\", \"Topic19\", \"Topic19\", \"Topic19\", \"Topic19\", \"Topic19\", \"Topic19\", \"Topic19\", \"Topic19\", \"Topic19\", \"Topic19\", \"Topic19\", \"Topic19\", \"Topic19\", \"Topic19\", \"Topic19\", \"Topic19\", \"Topic19\", \"Topic20\", \"Topic20\", \"Topic20\", \"Topic20\", \"Topic20\", \"Topic20\", \"Topic20\", \"Topic20\", \"Topic20\", \"Topic20\", \"Topic20\", \"Topic20\", \"Topic20\", \"Topic20\", \"Topic20\", \"Topic20\", \"Topic20\", \"Topic20\", \"Topic20\", \"Topic20\", \"Topic20\", \"Topic20\", \"Topic20\", \"Topic20\", \"Topic20\", \"Topic20\", \"Topic20\", \"Topic20\", \"Topic20\", \"Topic20\", \"Topic20\", \"Topic20\", \"Topic20\", \"Topic20\", \"Topic20\", \"Topic20\", \"Topic20\", \"Topic20\", \"Topic20\", \"Topic20\", \"Topic20\"], \"logprob\": [30.0, 29.0, 28.0, 27.0, 26.0, 25.0, 24.0, 23.0, 22.0, 21.0, 20.0, 19.0, 18.0, 17.0, 16.0, 15.0, 14.0, 13.0, 12.0, 11.0, 10.0, 9.0, 8.0, 7.0, 6.0, 5.0, 4.0, 3.0, 2.0, 1.0, -1.5532, -1.6645, -2.2472, -3.0214, -3.0593, -3.1867, -3.4683, -3.6176, -3.7697, -4.0872, -4.1316, -4.2518, -4.2598, -4.655, -4.7175, -4.7687, -4.8718, -4.9302, -5.0103, -5.1062, -5.1202, -5.2264, -5.293, -5.311, -5.3646, -5.4085, -5.5068, -5.9729, -6.0466, -6.1406, -1.5122, -2.4184, -2.6437, -2.6795, -2.6815, -3.0228, -3.0624, -3.2063, -3.4575, -3.6274, -3.748, -3.8757, -4.0434, -4.323, -4.4536, -4.6028, -4.9926, -5.0762, -5.4719, -7.6872, -9.5078, -9.5089, -9.5089, -9.509, -9.509, -9.509, -9.509, -9.5089, -9.5091, -9.5092, -9.5091, -9.509, -1.6164, -2.4122, -2.4589, -2.5327, -2.7461, -2.7654, -3.1954, -3.2674, -3.3016, -3.9, -3.9478, -4.1876, -4.2401, -4.2923, -4.6108, -4.6305, -5.0582, -5.615, -9.4136, -9.4139, -9.4137, -9.4141, -9.4142, -9.4143, -9.4146, -9.4145, -9.4144, -9.4144, -9.4146, -9.4146, -9.4146, -9.4146, -2.0255, -2.1639, -2.3719, -3.0156, -3.2374, -3.3499, -3.4772, -3.5308, -3.5783, -3.5853, -3.5864, -3.8569, -3.9765, -3.9882, -4.2583, -4.5074, -4.647, -4.7461, -5.0195, -5.0798, -5.5303, -7.2316, -9.0551, -9.0551, -9.0546, -9.0552, -9.0553, -9.0554, -9.0553, -9.0552, -9.0554, -9.0552, -9.0553, -9.0553, -1.365, -2.1412, -2.3375, -2.7019, -2.858, -3.3409, -3.7257, -3.7892, -3.8336, -4.2195, -4.335, -4.8106, -5.1048, -5.4127, -5.7268, -6.1738, -6.4464, -6.9317, -9.1549, -9.1549, -9.1552, -9.1552, -9.1554, -9.1553, -9.1554, -9.1554, -9.1556, -9.1555, -9.1553, -9.1555, -9.1554, -9.1555, -9.1554, -9.1554, -1.7088, -1.9366, -2.209, -2.2588, -2.9814, -2.9944, -3.0869, -3.7833, -3.7894, -4.0436, -4.8545, -5.1743, -9.1986, -9.1985, -9.1999, -9.2, -9.2, -9.2, -9.2, -9.2, -9.2001, -9.2001, -9.2004, -9.2004, -9.2005, -9.2004, -9.2006, -9.2005, -9.2005, -9.2006, -9.2006, -9.2004, -9.2005, -9.2004, -1.8399, -1.8607, -2.4752, -2.638, -2.7927, -2.9448, -3.0868, -3.2475, -3.916, -4.1411, -4.252, -4.3769, -4.9962, -5.0445, -5.8017, -6.4809, -6.8907, -6.9292, -7.3304, -9.1522, -9.152, -9.1523, -9.1523, -9.1523, -9.1523, -9.1522, -9.1525, -9.1526, -9.1527, -9.1525, -9.1525, -1.7564, -1.9554, -2.369, -2.7406, -3.0132, -3.2878, -3.5076, -3.6091, -3.8349, -3.862, -4.5649, -4.5808, -4.6537, -5.3071, -5.934, -6.0772, -7.2511, -8.9619, -8.9619, -8.9619, -8.9619, -8.9624, -8.9628, -8.9626, -8.9625, -8.9628, -8.9629, -8.9628, -8.9628, -8.9629, -8.9628, -8.9627, -8.9627, -8.9628, -2.2531, -2.374, -2.415, -2.8627, -3.1651, -3.1835, -3.2821, -3.2995, -3.3637, -3.6196, -3.7419, -3.8283, -4.1949, -4.3122, -4.338, -4.3899, -4.8284, -5.0463, -5.1942, -5.3152, -5.4059, -5.4322, -6.8773, -8.9561, -8.9561, -8.9573, -8.9573, -8.9573, -8.9573, -8.9573, -8.9572, -8.9572, -8.9573, -8.9572, -1.5159, -2.1468, -2.3743, -2.6816, -2.9839, -3.1999, -3.4935, -3.5968, -3.619, -4.3678, -4.5912, -4.9431, -5.9857, -6.5586, -8.9927, -8.9929, -8.9933, -8.9933, -8.9932, -8.9933, -8.9933, -8.9933, -8.9933, -8.9933, -8.9934, -8.9934, -8.9934, -8.9933, -8.9933, -8.9933, -8.9933, -8.9933, -8.9933, -8.9931, -8.9933, -8.9933, -8.9933, -1.871, -1.9642, -2.0566, -2.5463, -2.7906, -2.8526, -3.6975, -3.9801, -4.2732, -4.483, -4.5029, -6.433, -8.9702, -8.9703, -8.9703, -8.9703, -8.9703, -8.9705, -8.9704, -8.9706, -8.9708, -8.9708, -8.9707, -8.9707, -8.9707, -8.9708, -8.9708, -8.9708, -8.9709, -8.9709, -8.9709, -8.9709, -8.9708, -8.9707, -8.9708, -8.9706, -8.9707, -8.9707, -8.9707, -2.0644, -2.5545, -2.7033, -3.2447, -3.2822, -3.3102, -3.4208, -3.4928, -3.5189, -3.6121, -3.6356, -3.745, -3.7686, -3.863, -3.9185, -4.2143, -4.4858, -4.5314, -4.6621, -4.7263, -5.0077, -5.0091, -5.2981, -6.7154, -8.9376, -8.9376, -8.9386, -8.9388, -8.9389, -8.9395, -8.9393, -1.6375, -2.6407, -2.7674, -2.953, -2.9882, -3.0141, -3.2652, -3.3512, -3.446, -3.4934, -3.7645, -4.4377, -6.4462, -6.7423, -8.8226, -8.8224, -8.8227, -8.8227, -8.8228, -8.8227, -8.8227, -8.8227, -8.8227, -8.8228, -8.8227, -8.8227, -8.8228, -8.8228, -8.8228, -8.8228, -8.8225, -8.8227, -8.8226, -8.8227, -8.8228, -8.8227, -1.7983, -2.0006, -2.1732, -2.416, -3.0458, -3.5469, -3.7286, -4.2756, -4.3933, -4.4018, -4.7826, -4.9626, -8.8363, -8.8363, -8.8362, -8.8369, -8.8367, -8.8369, -8.8368, -8.837, -8.8372, -8.8371, -8.8372, -8.8373, -8.8373, -8.8373, -8.8373, -8.8373, -8.8372, -8.8373, -8.8372, -8.8372, -8.8371, -8.8372, -8.8372, -8.8372, -8.8372, -1.8285, -2.502, -2.802, -2.8648, -2.9041, -3.1949, -3.2766, -3.5266, -3.5955, -3.6557, -3.7062, -3.7096, -4.1505, -4.366, -4.5606, -4.9369, -5.013, -5.387, -5.7108, -6.1482, -8.9239, -8.9249, -8.9253, -8.9253, -8.9255, -8.926, -8.926, -8.926, -8.9258, -8.926, -8.9258, -8.9259, -8.926, -1.7896, -2.2709, -2.8444, -2.9992, -3.0258, -3.097, -3.1862, -3.4546, -3.8785, -3.9838, -4.2388, -5.1327, -5.2648, -6.4885, -6.6321, -7.0004, -8.7118, -8.7122, -8.7123, -8.7123, -8.7121, -8.7124, -8.7124, -8.7124, -8.7124, -8.7124, -8.7123, -8.7124, -8.7122, -8.7121, -8.7124, -8.7123, -2.1037, -2.7047, -2.7322, -2.737, -3.0801, -3.2761, -3.3683, -3.4426, -3.5083, -3.5384, -3.6187, -3.9791, -4.5464, -4.6107, -4.8546, -5.0008, -5.1348, -8.714, -8.7139, -8.7144, -8.7143, -8.7144, -8.7144, -8.7143, -8.7144, -8.7143, -8.7143, -8.7144, -8.7144, -8.7145, -8.7143, -8.7144, -8.7144, -1.8784, -2.121, -2.4728, -2.614, -3.0366, -3.2345, -3.3953, -3.8453, -4.8161, -4.9047, -5.6389, -5.6397, -8.6663, -8.6662, -8.6681, -8.6681, -8.668, -8.6682, -8.6682, -8.6682, -8.6681, -8.6682, -8.6682, -8.6682, -8.6682, -8.6682, -8.6682, -8.6682, -8.6682, -8.6682, -8.6681, -8.6681, -8.6681, -8.6681, -8.6682, -8.6681, -8.6681, -8.6682, -8.6682, -8.6682, -1.4357, -2.4912, -8.1546, -8.1546, -8.1546, -8.1546, -8.1547, -8.1547, -8.1547, -8.1547, -8.1547, -8.1547, -8.1547, -8.1547, -8.1547, -8.1548, -8.1547, -8.1547, -8.1547, -8.1547, -8.1547, -8.1548, -8.1548, -8.1548, -8.1548, -8.1547, -8.1548, -8.1548, -8.1548, -8.1548, -8.1547, -8.1547, -8.1547, -8.1547, -8.1547, -8.1546, -8.1547, -8.1547, -8.1547, -2.1887, -3.1584, -3.7613, -7.9632, -7.9632, -7.9632, -7.9632, -7.9632, -7.9632, -7.9632, -7.9632, -7.9633, -7.9632, -7.9633, -7.9633, -7.9633, -7.9634, -7.9634, -7.9634, -7.9634, -7.9634, -7.9634, -7.9634, -7.9633, -7.9634, -7.9634, -7.9634, -7.9634, -7.9634, -7.9634, -7.9632, -7.9633, -7.9633, -7.9634, -7.9634, -7.9634, -7.9634, -7.9632, -7.9634, -7.9633, -7.9634], \"loglift\": [30.0, 29.0, 28.0, 27.0, 26.0, 25.0, 24.0, 23.0, 22.0, 21.0, 20.0, 19.0, 18.0, 17.0, 16.0, 15.0, 14.0, 13.0, 12.0, 11.0, 10.0, 9.0, 8.0, 7.0, 6.0, 5.0, 4.0, 3.0, 2.0, 1.0, 2.0487, 2.0482, 2.0448, 2.0357, 2.0351, 2.0327, 2.0263, 2.0222, 2.0172, 2.0043, 2.0022, 1.9959, 1.9955, 1.9689, 1.9638, 1.9593, 1.9497, 1.9438, 1.9353, 1.9242, 1.9225, 1.9089, 1.8997, 1.8971, 1.8892, 1.8825, 1.8665, 1.7704, 1.7517, 1.7265, 2.4982, 2.4896, 2.4859, 2.4853, 2.4852, 2.4777, 2.4766, 2.4724, 2.4636, 2.4562, 2.4503, 2.4431, 2.4324, 2.4103, 2.3979, 2.3818, 2.3284, 2.3144, 2.2339, 1.1578, -0.4172, -0.4179, -0.418, -0.418, -0.418, -0.418, -0.418, -0.4181, -0.4182, -0.4182, -0.4183, -0.4183, 2.5486, 2.5403, 2.5396, 2.5384, 2.5344, 2.5339, 2.5226, 2.5202, 2.519, 2.49, 2.4869, 2.4691, 2.4647, 2.46, 2.4265, 2.4241, 2.3604, 2.2364, -0.3227, -0.3229, -0.3231, -0.3233, -0.3234, -0.3235, -0.3236, -0.3236, -0.3236, -0.3236, -0.3237, -0.3237, -0.3237, -0.3237, 2.7356, 2.7338, 2.7305, 2.715, 2.707, 2.7022, 2.6962, 2.6934, 2.6908, 2.6904, 2.6904, 2.6732, 2.664, 2.6631, 2.6382, 2.6092, 2.5899, 2.5748, 2.526, 2.5137, 2.4014, 1.5632, 0.036, 0.0359, 0.0359, 0.0358, 0.0357, 0.0357, 0.0357, 0.0357, 0.0357, 0.0356, 0.0356, 0.0353, 2.8338, 2.8255, 2.8222, 2.814, 2.8096, 2.7906, 2.7679, 2.7633, 2.7599, 2.7239, 2.7105, 2.6387, 2.578, 2.498, 2.3962, 2.2119, 2.0754, 1.7871, -0.0639, -0.0639, -0.0642, -0.0642, -0.0643, -0.0643, -0.0644, -0.0644, -0.0644, -0.0644, -0.0645, -0.0645, -0.0645, -0.0645, -0.0645, -0.0646, 2.8321, 2.8295, 2.8256, 2.8247, 2.8067, 2.8062, 2.8028, 2.7647, 2.7642, 2.7428, 2.6311, 2.5618, -0.1078, -0.1079, -0.109, -0.1091, -0.1091, -0.1091, -0.1091, -0.1092, -0.1093, -0.1094, -0.1094, -0.1094, -0.1094, -0.1094, -0.1094, -0.1095, -0.1095, -0.1095, -0.1095, -0.1095, -0.1096, -0.1099, 2.909, 2.9087, 2.8981, 2.894, 2.8895, 2.8843, 2.8788, 2.8716, 2.8264, 2.8037, 2.7908, 2.7747, 2.664, 2.6528, 2.4163, 2.0903, 1.8388, 1.8132, 1.5276, -0.0612, -0.0613, -0.0613, -0.0615, -0.0615, -0.0615, -0.0615, -0.0615, -0.0616, -0.0617, -0.0617, -0.0617, 2.9416, 2.9391, 2.9318, 2.9223, 2.9128, 2.9003, 2.8877, 2.881, 2.8634, 2.8611, 2.7751, 2.7724, 2.76, 2.6098, 2.3839, 2.3192, 1.6017, 0.1291, 0.1291, 0.1291, 0.1291, 0.1284, 0.1283, 0.1283, 0.1283, 0.1283, 0.1283, 0.1282, 0.1282, 0.1282, 0.1282, 0.1281, 0.1281, 0.1281, 2.9358, 2.9333, 2.9324, 2.92, 2.9079, 2.907, 2.9022, 2.9013, 2.8978, 2.8818, 2.8726, 2.8655, 2.8283, 2.8137, 2.8102, 2.8031, 2.7284, 2.6802, 2.6426, 2.6087, 2.5813, 2.573, 1.8652, 0.1347, 0.1346, 0.1338, 0.1338, 0.1338, 0.1337, 0.1337, 0.1337, 0.1336, 0.1337, 0.1334, 2.9874, 2.9789, 2.9744, 2.9664, 2.9558, 2.9461, 2.9292, 2.9221, 2.9205, 2.8416, 2.8062, 2.7355, 2.383, 2.0793, 0.0982, 0.0979, 0.0978, 0.0978, 0.0978, 0.0978, 0.0978, 0.0978, 0.0978, 0.0978, 0.0978, 0.0978, 0.0978, 0.0978, 0.0978, 0.0978, 0.0978, 0.0977, 0.0977, 0.0975, 0.0977, 0.0977, 0.0976, 3.033, 3.0316, 3.0301, 3.0192, 3.0116, 3.0093, 2.9608, 2.934, 2.8981, 2.8662, 2.8629, 2.1733, 0.1207, 0.1207, 0.1206, 0.1206, 0.1206, 0.1205, 0.1204, 0.1204, 0.1204, 0.1204, 0.1203, 0.1203, 0.1203, 0.1203, 0.1203, 0.1202, 0.1202, 0.1202, 0.1202, 0.1202, 0.1202, 0.1202, 0.1202, 0.12, 0.1201, 0.1199, 0.1201, 3.03, 3.0191, 3.0146, 2.9916, 2.9895, 2.9879, 2.9812, 2.9764, 2.9746, 2.9677, 2.9659, 2.9569, 2.9548, 2.9461, 2.9406, 2.9063, 2.8661, 2.8584, 2.8346, 2.8219, 2.7584, 2.758, 2.6772, 2.0004, 0.1532, 0.1532, 0.1521, 0.1521, 0.152, 0.1516, 0.1516, 3.1291, 3.1078, 3.1033, 3.0956, 3.094, 3.0928, 3.0793, 3.0738, 3.0673, 3.0639, 3.0408, 2.9527, 2.2054, 2.0152, 0.2685, 0.2684, 0.2684, 0.2684, 0.2684, 0.2684, 0.2684, 0.2684, 0.2684, 0.2684, 0.2683, 0.2683, 0.2683, 0.2683, 0.2683, 0.2683, 0.2683, 0.2683, 0.2683, 0.2681, 0.2683, 0.2678, 3.2517, 3.2479, 3.2441, 3.2375, 3.211, 3.1753, 3.1577, 3.0842, 3.0634, 3.0618, 2.9788, 2.9303, 0.2546, 0.2546, 0.2544, 0.2542, 0.2542, 0.2541, 0.254, 0.2539, 0.2539, 0.2539, 0.2539, 0.2539, 0.2539, 0.2539, 0.2538, 0.2538, 0.2538, 0.2538, 0.2538, 0.2538, 0.2537, 0.2538, 0.2536, 0.2533, 0.2537, 3.253, 3.2365, 3.2249, 3.222, 3.2201, 3.2037, 3.1982, 3.1785, 3.1723, 3.1665, 3.1614, 3.1611, 3.1052, 3.0692, 3.0308, 2.9378, 2.9157, 2.7887, 2.6522, 2.4266, 0.1666, 0.1661, 0.1657, 0.1656, 0.1653, 0.1652, 0.1651, 0.1651, 0.1651, 0.1651, 0.1651, 0.1649, 0.165, 3.3578, 3.3465, 3.3239, 3.3154, 3.3138, 3.3093, 3.3033, 3.2818, 3.2353, 3.2208, 3.1799, 2.9505, 2.9027, 2.2581, 2.1592, 1.8865, 0.379, 0.3788, 0.3788, 0.3788, 0.3788, 0.3788, 0.3787, 0.3787, 0.3787, 0.3787, 0.3787, 0.3787, 0.3787, 0.3787, 0.3786, 0.3786, 3.3703, 3.3495, 3.3482, 3.348, 3.3289, 3.3149, 3.3074, 3.3009, 3.2947, 3.2918, 3.2835, 3.2383, 3.1326, 3.1173, 3.0523, 3.0075, 2.9623, 0.3769, 0.3769, 0.3768, 0.3768, 0.3768, 0.3768, 0.3767, 0.3767, 0.3767, 0.3767, 0.3767, 0.3767, 0.3767, 0.3767, 0.3765, 0.3763, 3.5854, 3.5785, 3.565, 3.5581, 3.5313, 3.5146, 3.4986, 3.4398, 3.21, 3.1799, 2.858, 2.8575, 0.4245, 0.4245, 0.423, 0.423, 0.423, 0.423, 0.423, 0.4229, 0.4229, 0.4229, 0.4229, 0.4229, 0.4229, 0.4229, 0.4229, 0.4229, 0.4229, 0.4229, 0.4229, 0.4229, 0.4229, 0.4229, 0.4229, 0.4226, 0.4225, 0.4227, 0.4228, 0.4227, 4.6082, 4.5249, 0.9365, 0.9365, 0.9365, 0.9365, 0.9364, 0.9364, 0.9364, 0.9364, 0.9364, 0.9364, 0.9364, 0.9364, 0.9364, 0.9364, 0.9364, 0.9364, 0.9364, 0.9364, 0.9364, 0.9364, 0.9364, 0.9364, 0.9364, 0.9364, 0.9364, 0.9364, 0.9364, 0.9364, 0.9363, 0.9363, 0.9363, 0.9363, 0.9363, 0.9362, 0.9362, 0.9363, 0.9363, 5.1157, 4.8767, 4.6273, 1.1279, 1.1279, 1.1279, 1.1279, 1.1279, 1.1279, 1.1279, 1.1279, 1.1278, 1.1278, 1.1278, 1.1278, 1.1278, 1.1278, 1.1278, 1.1278, 1.1278, 1.1278, 1.1277, 1.1277, 1.1277, 1.1277, 1.1277, 1.1277, 1.1277, 1.1277, 1.1277, 1.1277, 1.1277, 1.1277, 1.1277, 1.1277, 1.1277, 1.1276, 1.1275, 1.1277, 1.1274, 1.1276]}, \"token.table\": {\"Topic\": [8, 5, 9, 14, 18, 1, 7, 1, 6, 12, 7, 7, 2, 20, 17, 5, 8, 8, 10, 6, 17, 19, 13, 9, 6, 12, 10, 16, 12, 1, 4, 1, 16, 12, 17, 11, 18, 2, 12, 16, 1, 9, 2, 12, 6, 5, 5, 2, 6, 17, 6, 8, 4, 15, 6, 12, 1, 4, 18, 9, 5, 11, 14, 10, 14, 7, 9, 13, 1, 16, 8, 15, 3, 15, 16, 10, 17, 17, 13, 9, 5, 6, 2, 12, 10, 12, 1, 4, 1, 4, 4, 13, 16, 15, 3, 15, 4, 11, 9, 20, 1, 17, 1, 5, 1, 15, 17, 1, 5, 17, 13, 3, 17, 3, 6, 2, 5, 8, 14, 4, 15, 4, 12, 2, 18, 19, 7, 4, 7, 18, 9, 2, 7, 15, 7, 12, 9, 16, 16, 1, 10, 9, 9, 6, 13, 15, 5, 16, 13, 3, 15, 3, 9, 11, 11, 10, 15, 2, 8, 1, 15, 14, 4, 17, 15, 7, 15, 18, 3, 12, 11, 5, 11, 4, 3, 5, 1, 12, 17, 18, 2, 16, 16, 10, 17, 4, 5, 9, 10, 8, 3, 8, 8, 2, 2, 1, 14, 1, 3, 12, 6, 16, 1, 9, 12, 1, 12, 12, 1, 9, 9, 3, 15, 18, 2, 7, 14, 3, 11, 12, 15, 15, 8, 4, 9, 8, 7, 11, 7, 12, 2, 5, 16, 2, 17, 4, 9, 5, 12, 9, 10, 1, 14, 18, 4, 4, 2, 3, 7, 12, 15, 3, 1, 1, 13, 8, 1, 16, 7, 12, 10, 10, 4, 13, 11, 6, 9, 8, 1, 5, 4, 18, 9, 7, 9, 17, 1, 4, 3, 16, 5, 13, 10, 9, 13, 14, 14, 1, 13, 14, 7, 5, 1, 2, 8, 18, 3, 1, 4, 11, 3, 15, 18, 7, 11, 2, 17, 8, 14, 13, 12, 7, 15, 10, 12, 17, 2, 20, 4, 13, 3], \"Freq\": [0.9711275899945175, 0.5021125020682355, 0.7445775674512717, 0.8586931085694943, 0.7535243309023439, 0.9634528131661174, 0.9698746951508297, 0.916352332398317, 0.9836676769594142, 0.9140571323698418, 0.9640104040229681, 0.9770503359178558, 0.9361267296861745, 0.8543799524402423, 0.8970831294687729, 0.41231319057388005, 0.6755562528160508, 0.9533980213425818, 0.7076232909033404, 0.9217397866569941, 0.8870995428035284, 0.9148307946960271, 0.9118621511752081, 0.8314333118238619, 0.9835232972989905, 0.9741319073757008, 0.9934128363702907, 0.9446143795314456, 0.9647509253519748, 0.943543808642673, 0.9420435762183258, 0.891595991940176, 0.9525403853750594, 0.9729594081524122, 0.9472274833696801, 0.9782444936077084, 0.8905415378584416, 0.8686824070822499, 0.92221387719918, 0.5786715988377924, 0.9464366401957818, 0.9829412421018205, 0.9059800035393002, 0.9065236089471748, 0.9766498994172992, 0.7127807936813464, 0.8465152474569726, 0.9768528141898427, 0.8724906456615809, 0.911510594444488, 0.993017951604154, 0.6725511737061771, 0.6857007921305831, 0.9689420784425723, 0.9800890893360155, 0.8875517683700235, 0.8732326646097099, 0.892856670065726, 0.8380946662384079, 0.8351904609174082, 0.35987271098025897, 0.8954794943741147, 0.7740098609239128, 0.978118791998627, 0.6595664372369135, 0.8456475890551901, 0.9294999869068086, 0.9786169440005801, 0.9902324913377729, 0.5162637010070358, 0.9908435584979115, 0.4347975230436485, 0.9837881804586344, 0.5833668121809642, 0.9185185205555672, 0.8879697877603482, 0.9785910062108354, 0.740221030518321, 0.5219374019757105, 0.9426446692618066, 0.9861750102190743, 0.8777292660042977, 0.9565926658397419, 0.7161478681958028, 0.9097254650742107, 0.7787847839358039, 0.9861717387775834, 0.961276255905618, 0.9789042172766097, 0.7766588697222515, 0.8892317496442531, 0.9581982251295531, 0.8836628777651149, 0.8700478840114269, 0.8556208214726984, 0.8674192046601035, 0.814867018578459, 0.9831690000200775, 0.9556854086506511, 0.3608909557226854, 0.8524672343421702, 0.9055135798348387, 0.9773286825870726, 0.944329974831315, 0.8000611009885154, 0.939148492939302, 0.8979783119155504, 0.9333613858183043, 0.9950718974632291, 0.539315103265444, 0.9602798743354987, 0.9293882851010791, 0.7100485977646852, 0.986110841092535, 0.9490399095079299, 0.9889767539418141, 0.9898369647528935, 0.9866871393956511, 0.8864195343586646, 0.9103690128093936, 0.8346426754013424, 0.988180874135698, 0.9370084651054913, 0.9646311459750216, 0.9349128839529836, 0.9688249176735362, 0.5075322828585986, 0.9608584147748853, 0.9868066378820711, 0.5326064144449466, 0.8734591880635111, 0.7982586925706574, 0.7231345618390657, 0.7035875483884645, 0.514103154872223, 0.9773890301053118, 0.9593376560867535, 0.5318806874041933, 0.8991135576342946, 0.843000923097196, 0.9579781067769201, 0.9214004842453617, 0.9859453900382821, 0.7517933059737006, 0.7980375406853513, 0.9050661262532446, 0.9207040919068186, 0.9405102449369378, 0.9346701484909279, 0.8208913965534477, 0.9373323860425338, 0.8941143940308705, 0.9310545490377569, 0.854724485821596, 0.9651501997996824, 0.9809380447317988, 0.9042851903890016, 0.8864741618225305, 0.919072315763822, 0.8245082895281223, 0.9525229973733692, 0.8527562682704288, 0.9452771383125079, 0.943988938058401, 0.6835700850670934, 0.608669028373858, 0.9374240102009165, 0.96290129593927, 0.9875560373065384, 0.9560410003508109, 0.908719773731032, 0.8479454847258358, 0.8934771905516805, 0.8685628536718754, 0.6326986103022251, 0.8992485336094653, 0.8867948262672367, 0.9354096249451187, 0.911220533245658, 0.944075855215343, 0.9847312201517181, 0.9881856165236532, 0.9713027068700245, 0.9665112469999991, 0.9690328472195776, 0.9531080114886211, 0.9796809168160244, 0.9774093311452212, 0.46310222461356965, 0.8971436638375349, 0.993732686204861, 0.8853089248348711, 0.816898598140721, 0.8963030849066225, 0.931148687488746, 0.7571725909038781, 0.9861176795934858, 0.9803402004132468, 0.9852780224576939, 0.5005918279320299, 0.9165111277054384, 0.8209032134100825, 0.9404345034995315, 0.946362568157761, 0.9530338945086395, 0.8122155440726362, 0.8601391634335278, 0.9405081245770245, 0.8730120740850065, 0.680289043251245, 0.7854233507580061, 0.98105201063219, 0.6476834919142674, 0.9105515650890604, 0.9607286003418438, 0.9044919138513551, 0.8838251713035111, 0.9135432817236666, 0.9850112342866298, 0.8959120215189253, 0.8131093944839407, 0.8137085677154461, 0.9593033456990395, 0.9002407325661789, 0.5141997109010973, 0.9692379865936226, 0.8519229811272191, 0.4486784442866236, 0.4332167757760501, 0.7746619365467344, 0.9286705837574399, 0.5534458153519045, 0.9301856398027801, 0.9487430944275481, 0.7457518343332986, 0.9535616992370659, 0.9618278794930137, 0.9738363595985452, 0.892568376148989, 0.7247418889837769, 0.9841399317754848, 0.6427113964374862, 0.770980544932264, 0.40233254602020835, 0.9426036857157386, 0.9898518124781694, 0.7293285291496328, 0.9686805319915552, 0.6968032210925218, 0.797565614587373, 0.9277644821907572, 0.9206765330434247, 0.9270272643360832, 0.9953962242993382, 0.8891419705378271, 0.3637440397341738, 0.8351349343934121, 0.5398596952468322, 0.9732984150606878, 0.7754396129442233, 0.7097961193665315, 0.9459818048709342, 0.5417809773500286, 0.46947989412711305, 0.7786370098867391, 0.9644553586126803, 0.7379298480425193, 0.934283764273379, 0.7844833962248124, 0.6713338140736791, 0.9711448728644251, 0.4021804002607618, 0.9278877811699623, 0.9856282534196309, 0.9183564062369333, 0.6688268492091852, 0.9036297227803809, 0.9598791185493639, 0.9640729906730069, 0.9078401015702152, 0.8507303589911411, 0.9707700414231696, 0.9087978502760765, 0.9188342424597543, 0.9250984116952948, 0.941918483021351, 0.9840740379844669, 0.9963423432651705, 0.9839647072054886, 0.9800837498812646, 0.9599349551717227, 0.9222462037068011, 0.8455278560270035, 0.978814407140311, 0.932083019665407, 0.968674127179322, 0.8409271845619862, 0.9701163334975189, 0.7986487066610035, 0.951904700580349, 0.9381480034885402, 0.938479010595099, 0.9562675324527874, 0.974770213691713, 0.9827023386153605, 0.9963177860137651, 0.8950582844532975, 0.8872116742781804, 0.9601342993974272, 0.9406930321454443, 0.9462617661954363, 0.8379916957432704, 0.9781226589735117, 0.8036977040940714, 0.7396141913063237, 0.9374190072994242, 0.9816675229352149, 0.7603312540760601, 0.9853049313789776, 0.9387248341804467, 0.9741327685446641], \"Term\": [\"able\", \"according\", \"addition\", \"additional\", \"address\", \"agent\", \"ago\", \"air\", \"airport\", \"allow\", \"almost\", \"already\", \"also\", \"amazing\", \"anyone\", \"area\", \"as\", \"attendant\", \"attention\", \"available\", \"away\", \"awesome\", \"awful\", \"baby\", \"back\", \"bad\", \"bag\", \"baggage\", \"believe\", \"best\", \"better\", \"big\", \"board\", \"boarding\", \"book\", \"booked\", \"booking\", \"bought\", \"bring\", \"broke\", \"business\", \"call\", \"cancel\", \"card\", \"carry\", \"case\", \"cause\", \"change\", \"charge\", \"charging\", \"check\", \"cheese\", \"citizen\", \"claim\", \"class\", \"club\", \"come\", \"complaint\", \"complimentary\", \"computer\", \"con\", \"confirmation\", \"cost\", \"could\", \"courtesy\", \"crap\", \"credit\", \"crew\", \"customer\", \"dad\", \"day\", \"decent\", \"delay\", \"demand\", \"disappointed\", \"dog\", \"done\", \"dress\", \"dub\", \"due\", \"early\", \"empty\", \"end\", \"ended\", \"enough\", \"entertainment\", \"even\", \"ever\", \"every\", \"excited\", \"exit\", \"family\", \"fantastic\", \"fare\", \"favorite\", \"finally\", \"fine\", \"first\", \"fix\", \"flagship\", \"flown\", \"flyer\", \"flying\", \"food\", \"forced\", \"free\", \"frequent\", \"full\", \"gate\", \"gift\", \"give\", \"giving\", \"god\", \"going\", \"gone\", \"good\", \"got\", \"great\", \"guess\", \"handled\", \"hello\", \"help\", \"helpful\", \"hey\", \"hold\", \"home\", \"honeymoon\", \"hope\", \"hour\", \"however\", \"husband\", \"idea\", \"include\", \"insane\", \"interested\", \"international\", \"issue\", \"item\", \"job\", \"joke\", \"keep\", \"kept\", \"know\", \"kudos\", \"la\", \"landed\", \"landing\", \"late\", \"lax\", \"le\", \"least\", \"leave\", \"left\", \"leg\", \"let\", \"like\", \"line\", \"literally\", \"long\", \"longer\", \"look\", \"looking\", \"lounge\", \"love\", \"lower\", \"loyalty\", \"luggage\", \"made\", \"make\", \"making\", \"may\", \"meal\", \"medium\", \"mention\", \"mess\", \"might\", \"mind\", \"missing\", \"money\", \"much\", \"need\", \"never\", \"new\", \"next\", \"nice\", \"night\", \"nothing\", \"number\", \"numerous\", \"offering\", \"one\", \"option\", \"order\", \"overhead\", \"pas\", \"past\", \"pay\", \"paying\", \"people\", \"perfect\", \"person\", \"personal\", \"phone\", \"pilot\", \"platinum\", \"plenty\", \"point\", \"policy\", \"poor\", \"poorly\", \"previous\", \"price\", \"pro\", \"problem\", \"program\", \"put\", \"rather\", \"real\", \"really\", \"reason\", \"reasonable\", \"receive\", \"received\", \"record\", \"red\", \"refund\", \"reservation\", \"resolution\", \"respond\", \"responsive\", \"return\", \"ride\", \"ridiculous\", \"right\", \"round\", \"row\", \"rude\", \"said\", \"san\", \"save\", \"say\", \"schedule\", \"screen\", \"screw\", \"screwed\", \"seat\", \"security\", \"see\", \"seen\", \"select\", \"send\", \"sent\", \"seriously\", \"service\", \"several\", \"shot\", \"shout\", \"sick\", \"since\", \"site\", \"size\", \"small\", \"smaller\", \"smile\", \"social\", \"someone\", \"somewhere\", \"sorry\", \"space\", \"spoke\", \"staff\", \"standing\", \"status\", \"still\", \"stuck\", \"suck\", \"suitcase\", \"system\", \"take\", \"taking\", \"taxi\", \"team\", \"tell\", \"telling\", \"terminal\", \"though\", \"ticket\", \"time\", \"today\", \"told\", \"tomorrow\", \"tonight\", \"treat\", \"trip\", \"try\", \"trying\", \"twitter\", \"two\", \"uncomfortable\", \"use\", \"used\", \"via\", \"wait\", \"waiting\", \"want\", \"way\", \"wedding\", \"week\", \"well\", \"whole\", \"wife\", \"window\", \"without\", \"woman\", \"wonderful\", \"work\", \"working\", \"world\", \"would\", \"year\", \"yes\"]}, \"R\": 30, \"lambda.step\": 0.01, \"plot.opts\": {\"xlab\": \"PC1\", \"ylab\": \"PC2\"}, \"topic.order\": [8, 1, 17, 14, 6, 20, 16, 12, 2, 5, 7, 11, 3, 9, 4, 18, 19, 15, 10, 13]};\n",
       "\n",
       "function LDAvis_load_lib(url, callback){\n",
       "  var s = document.createElement('script');\n",
       "  s.src = url;\n",
       "  s.async = true;\n",
       "  s.onreadystatechange = s.onload = callback;\n",
       "  s.onerror = function(){console.warn(\"failed to load library \" + url);};\n",
       "  document.getElementsByTagName(\"head\")[0].appendChild(s);\n",
       "}\n",
       "\n",
       "if(typeof(LDAvis) !== \"undefined\"){\n",
       "   // already loaded: just create the visualization\n",
       "   !function(LDAvis){\n",
       "       new LDAvis(\"#\" + \"ldavis_el662816572918093929581128936\", ldavis_el662816572918093929581128936_data);\n",
       "   }(LDAvis);\n",
       "}else if(typeof define === \"function\" && define.amd){\n",
       "   // require.js is available: use it to load d3/LDAvis\n",
       "   require.config({paths: {d3: \"https://d3js.org/d3.v5\"}});\n",
       "   require([\"d3\"], function(d3){\n",
       "      window.d3 = d3;\n",
       "      LDAvis_load_lib(\"https://cdn.jsdelivr.net/gh/bmabey/pyLDAvis@3.3.1/pyLDAvis/js/ldavis.v3.0.0.js\", function(){\n",
       "        new LDAvis(\"#\" + \"ldavis_el662816572918093929581128936\", ldavis_el662816572918093929581128936_data);\n",
       "      });\n",
       "    });\n",
       "}else{\n",
       "    // require.js not available: dynamically load d3 & LDAvis\n",
       "    LDAvis_load_lib(\"https://d3js.org/d3.v5.js\", function(){\n",
       "         LDAvis_load_lib(\"https://cdn.jsdelivr.net/gh/bmabey/pyLDAvis@3.3.1/pyLDAvis/js/ldavis.v3.0.0.js\", function(){\n",
       "                 new LDAvis(\"#\" + \"ldavis_el662816572918093929581128936\", ldavis_el662816572918093929581128936_data);\n",
       "            })\n",
       "         });\n",
       "}\n",
       "</script>"
      ],
      "text/plain": [
       "PreparedData(topic_coordinates=              x         y  topics  cluster       Freq\n",
       "topic                                                \n",
       "7      0.439671 -0.160155       1        1  12.839856\n",
       "0      0.377865  0.186049       2        1   8.174770\n",
       "16    -0.413462  0.079717       3        1   7.765620\n",
       "13    -0.320247 -0.122349       4        1   6.405738\n",
       "5      0.101444 -0.352123       5        1   5.837427\n",
       "19    -0.086620 -0.359753       6        1   5.830195\n",
       "15    -0.234727 -0.274455       7        1   5.385840\n",
       "11     0.030643 -0.172940       8        1   5.216647\n",
       "1      0.056580  0.313009       9        1   5.208118\n",
       "4      0.181739 -0.220716      10        1   4.993536\n",
       "6      0.254689 -0.057346      11        1   4.747789\n",
       "10    -0.091649  0.335292      12        1   4.747632\n",
       "2      0.187781  0.095803      13        1   4.320970\n",
       "8     -0.228586  0.227450      14        1   3.806295\n",
       "3      0.172891  0.266237      15        1   3.798638\n",
       "17    -0.070390  0.176321      16        1   3.417190\n",
       "18    -0.150265 -0.079832      17        1   3.349963\n",
       "14    -0.196915  0.067545      18        1   2.701783\n",
       "9      0.016170  0.035661      19        1   0.950818\n",
       "12    -0.026614  0.016584      20        1   0.501175, topic_info=          Term        Freq       Total Category  logprob  loglift\n",
       "121       time  332.000000  332.000000  Default  30.0000  30.0000\n",
       "110    service  297.000000  297.000000  Default  29.0000  29.0000\n",
       "158        way  220.000000  220.000000  Default  28.0000  28.0000\n",
       "7         gate  182.000000  182.000000  Default  27.0000  27.0000\n",
       "86         one  189.000000  189.000000  Default  26.0000  26.0000\n",
       "..         ...         ...         ...      ...      ...      ...\n",
       "536  yesterday    0.021245    1.372613  Topic20  -7.9634   1.1276\n",
       "649   response    0.021248    1.373005  Topic20  -7.9632   1.1275\n",
       "507       took    0.021245    1.372552  Topic20  -7.9634   1.1277\n",
       "450    another    0.021246    1.372910  Topic20  -7.9633   1.1274\n",
       "426      hotel    0.021245    1.372584  Topic20  -7.9634   1.1276\n",
       "\n",
       "[723 rows x 6 columns], token_table=      Topic      Freq        Term\n",
       "term                             \n",
       "338       8  0.971128        able\n",
       "323       5  0.502113   according\n",
       "64        9  0.744578    addition\n",
       "41       14  0.858693  additional\n",
       "319      18  0.753524     address\n",
       "...     ...       ...         ...\n",
       "269       2  0.981668     working\n",
       "368      20  0.760331       world\n",
       "137       4  0.985305       would\n",
       "94       13  0.938725        year\n",
       "116       3  0.974133         yes\n",
       "\n",
       "[321 rows x 3 columns], R=30, lambda_step=0.01, plot_opts={'xlab': 'PC1', 'ylab': 'PC2'}, topic_order=[8, 1, 17, 14, 6, 20, 16, 12, 2, 5, 7, 11, 3, 9, 4, 18, 19, 15, 10, 13])"
      ]
     },
     "execution_count": 55,
     "metadata": {},
     "output_type": "execute_result"
    }
   ],
   "source": [
    "pyLDAvis.enable_notebook()\n",
    "vis = pyLDAvis.gensim_models.prepare(lda_model, corpus, id2word,mds='mmds')\n",
    "vis"
   ]
  },
  {
   "cell_type": "code",
   "execution_count": 62,
   "metadata": {},
   "outputs": [
    {
     "name": "stderr",
     "output_type": "stream",
     "text": [
      "D:\\IDES\\anaconda3\\lib\\site-packages\\ipykernel\\ipkernel.py:287: DeprecationWarning: `should_run_async` will not call `transform_cell` automatically in the future. Please pass the result to `transformed_cell` argument and any exception that happen during thetransform in `preprocessing_exc_tuple` in IPython 7.17 and above.\n",
      "  and should_run_async(code)\n"
     ]
    },
    {
     "name": "stdout",
     "output_type": "stream",
     "text": [
      "\n",
      "Perplexity:  -16.11437959881851\n",
      "\n",
      "Coherence Score:  nan\n"
     ]
    },
    {
     "name": "stderr",
     "output_type": "stream",
     "text": [
      "D:\\IDES\\anaconda3\\lib\\site-packages\\gensim\\topic_coherence\\direct_confirmation_measure.py:204: RuntimeWarning: divide by zero encountered in double_scalars\n",
      "  m_lr_i = np.log(numerator / denominator)\n",
      "D:\\IDES\\anaconda3\\lib\\site-packages\\gensim\\topic_coherence\\indirect_confirmation_measure.py:323: RuntimeWarning: invalid value encountered in double_scalars\n",
      "  return cv1.T.dot(cv2)[0, 0] / (_magnitude(cv1) * _magnitude(cv2))\n"
     ]
    }
   ],
   "source": [
    "from gensim.models import CoherenceModel\n",
    "# Compute Perplexity\n",
    "print('\\nPerplexity: ', lda_model.log_perplexity(corpus))  # a measure of how good the model is. lower the better.\n",
    "\n",
    "# Compute Coherence Score\n",
    "coherence_model_lda = CoherenceModel(model=lda_model, texts=data['question_lem_bigrams'], dictionary=id2word, coherence='c_v')\n",
    "coherence_lda = coherence_model_lda.get_coherence()\n",
    "print('\\nCoherence Score: ', coherence_lda)"
   ]
  },
  {
   "cell_type": "markdown",
   "metadata": {},
   "source": [
    "#### Try to extract topic from new text "
   ]
  },
  {
   "cell_type": "code",
   "execution_count": 63,
   "metadata": {},
   "outputs": [
    {
     "name": "stderr",
     "output_type": "stream",
     "text": [
      "D:\\IDES\\anaconda3\\lib\\site-packages\\ipykernel\\ipkernel.py:287: DeprecationWarning: `should_run_async` will not call `transform_cell` automatically in the future. Please pass the result to `transformed_cell` argument and any exception that happen during thetransform in `preprocessing_exc_tuple` in IPython 7.17 and above.\n",
      "  and should_run_async(code)\n"
     ]
    }
   ],
   "source": [
    "from operator import itemgetter"
   ]
  },
  {
   "cell_type": "code",
   "execution_count": 64,
   "metadata": {},
   "outputs": [
    {
     "name": "stderr",
     "output_type": "stream",
     "text": [
      "D:\\IDES\\anaconda3\\lib\\site-packages\\ipykernel\\ipkernel.py:287: DeprecationWarning: `should_run_async` will not call `transform_cell` automatically in the future. Please pass the result to `transformed_cell` argument and any exception that happen during thetransform in `preprocessing_exc_tuple` in IPython 7.17 and above.\n",
      "  and should_run_async(code)\n"
     ]
    },
    {
     "ename": "TypeError",
     "evalue": "'>' not supported between instances of 'tuple' and 'int'",
     "output_type": "error",
     "traceback": [
      "\u001b[1;31m---------------------------------------------------------------------------\u001b[0m",
      "\u001b[1;31mTypeError\u001b[0m                                 Traceback (most recent call last)",
      "\u001b[1;32m<ipython-input-64-c96145bcb811>\u001b[0m in \u001b[0;36m<module>\u001b[1;34m\u001b[0m\n\u001b[0;32m      6\u001b[0m   \u001b[1;32mreturn\u001b[0m \u001b[0mmax\u001b[0m\u001b[1;33m(\u001b[0m\u001b[0mresult\u001b[0m\u001b[1;33m,\u001b[0m \u001b[0mkey\u001b[0m\u001b[1;33m=\u001b[0m\u001b[0mitemgetter\u001b[0m\u001b[1;33m(\u001b[0m\u001b[1;36m1\u001b[0m\u001b[1;33m)\u001b[0m\u001b[1;33m)\u001b[0m\u001b[1;33m[\u001b[0m\u001b[1;36m0\u001b[0m\u001b[1;33m]\u001b[0m\u001b[1;33m\u001b[0m\u001b[1;33m\u001b[0m\u001b[0m\n\u001b[0;32m      7\u001b[0m \u001b[1;33m\u001b[0m\u001b[0m\n\u001b[1;32m----> 8\u001b[1;33m \u001b[0mget_highest_topic\u001b[0m\u001b[1;33m(\u001b[0m\u001b[1;34m'@AmericanAir terrible service wait ages trying to call customer service almost two months gone no response'\u001b[0m\u001b[1;33m)\u001b[0m\u001b[1;33m\u001b[0m\u001b[1;33m\u001b[0m\u001b[0m\n\u001b[0m",
      "\u001b[1;32m<ipython-input-64-c96145bcb811>\u001b[0m in \u001b[0;36mget_highest_topic\u001b[1;34m(text)\u001b[0m\n\u001b[0;32m      4\u001b[0m \u001b[1;33m\u001b[0m\u001b[0m\n\u001b[0;32m      5\u001b[0m   \u001b[0mresult\u001b[0m \u001b[1;33m=\u001b[0m \u001b[0mlda_model\u001b[0m\u001b[1;33m[\u001b[0m\u001b[0mid2word\u001b[0m\u001b[1;33m.\u001b[0m\u001b[0mdoc2bow\u001b[0m\u001b[1;33m(\u001b[0m\u001b[0mtext_lem\u001b[0m\u001b[1;33m)\u001b[0m\u001b[1;33m]\u001b[0m\u001b[1;33m\u001b[0m\u001b[1;33m\u001b[0m\u001b[0m\n\u001b[1;32m----> 6\u001b[1;33m   \u001b[1;32mreturn\u001b[0m \u001b[0mmax\u001b[0m\u001b[1;33m(\u001b[0m\u001b[0mresult\u001b[0m\u001b[1;33m,\u001b[0m \u001b[0mkey\u001b[0m\u001b[1;33m=\u001b[0m\u001b[0mitemgetter\u001b[0m\u001b[1;33m(\u001b[0m\u001b[1;36m1\u001b[0m\u001b[1;33m)\u001b[0m\u001b[1;33m)\u001b[0m\u001b[1;33m[\u001b[0m\u001b[1;36m0\u001b[0m\u001b[1;33m]\u001b[0m\u001b[1;33m\u001b[0m\u001b[1;33m\u001b[0m\u001b[0m\n\u001b[0m\u001b[0;32m      7\u001b[0m \u001b[1;33m\u001b[0m\u001b[0m\n\u001b[0;32m      8\u001b[0m \u001b[0mget_highest_topic\u001b[0m\u001b[1;33m(\u001b[0m\u001b[1;34m'@AmericanAir terrible service wait ages trying to call customer service almost two months gone no response'\u001b[0m\u001b[1;33m)\u001b[0m\u001b[1;33m\u001b[0m\u001b[1;33m\u001b[0m\u001b[0m\n",
      "\u001b[1;31mTypeError\u001b[0m: '>' not supported between instances of 'tuple' and 'int'"
     ]
    }
   ],
   "source": [
    "def get_highest_topic(text):\n",
    "  text_cleaned = gensim.utils.simple_preprocess(question_preprocess(text))\n",
    "  text_lem = bigram_mod[lemmat(\" \".join([w for w in text_cleaned if w not in stop_words]))]\n",
    "\n",
    "  result = lda_model[id2word.doc2bow(text_lem)]\n",
    "  return max(result, key=itemgetter(1))[0]\n",
    "\n",
    "get_highest_topic('@AmericanAir terrible service wait ages trying to call customer service almost two months gone no response')"
   ]
  },
  {
   "cell_type": "code",
   "execution_count": 81,
   "metadata": {},
   "outputs": [
    {
     "name": "stderr",
     "output_type": "stream",
     "text": [
      "D:\\IDES\\anaconda3\\lib\\site-packages\\ipykernel\\ipkernel.py:287: DeprecationWarning: `should_run_async` will not call `transform_cell` automatically in the future. Please pass the result to `transformed_cell` argument and any exception that happen during thetransform in `preprocessing_exc_tuple` in IPython 7.17 and above.\n",
      "  and should_run_async(code)\n"
     ]
    },
    {
     "data": {
      "text/plain": [
       "7"
      ]
     },
     "execution_count": 81,
     "metadata": {},
     "output_type": "execute_result"
    }
   ],
   "source": [
    "\n",
    "def get_highest_topic(text):\n",
    "  text_cleaned = preprocess(text)\n",
    "  result = lda_model[id2word.doc2bow(text_cleaned)]\n",
    "  #print(\"Max topic topic : \", max(result, key=itemgetter(1))[0], \n",
    "  #     \"\\nWith : \", max(result, key=itemgetter(1))[1])\n",
    "  flat_list = [x for xs in result for x in xs]\n",
    "  return max(flat_list[:18],key=itemgetter(1))[0]\n",
    "\n",
    "get_highest_topic('Im black.')\n",
    "\n"
   ]
  },
  {
   "cell_type": "code",
   "execution_count": 82,
   "metadata": {},
   "outputs": [
    {
     "name": "stderr",
     "output_type": "stream",
     "text": [
      "D:\\IDES\\anaconda3\\lib\\site-packages\\ipykernel\\ipkernel.py:287: DeprecationWarning: `should_run_async` will not call `transform_cell` automatically in the future. Please pass the result to `transformed_cell` argument and any exception that happen during thetransform in `preprocessing_exc_tuple` in IPython 7.17 and above.\n",
      "  and should_run_async(code)\n"
     ]
    },
    {
     "data": {
      "text/html": [
       "<div>\n",
       "<style scoped>\n",
       "    .dataframe tbody tr th:only-of-type {\n",
       "        vertical-align: middle;\n",
       "    }\n",
       "\n",
       "    .dataframe tbody tr th {\n",
       "        vertical-align: top;\n",
       "    }\n",
       "\n",
       "    .dataframe thead th {\n",
       "        text-align: right;\n",
       "    }\n",
       "</style>\n",
       "<table border=\"1\" class=\"dataframe\">\n",
       "  <thead>\n",
       "    <tr style=\"text-align: right;\">\n",
       "      <th></th>\n",
       "      <th>responce</th>\n",
       "      <th>question</th>\n",
       "      <th>question_lem_bigrams</th>\n",
       "      <th>question_prepro</th>\n",
       "      <th>question_clean</th>\n",
       "      <th>topic</th>\n",
       "    </tr>\n",
       "  </thead>\n",
       "  <tbody>\n",
       "    <tr>\n",
       "      <th>0</th>\n",
       "      <td>We'll be sure to pass along your kind words!</td>\n",
       "      <td>@AmericanAir Erica on the lax team is amazing give her a raise ty</td>\n",
       "      <td>[erica, lax, team, amazing, give, raise]</td>\n",
       "      <td>[lax, team, amazing, give, raise]</td>\n",
       "      <td>Erica on the lax team is amazing give her a raise ty</td>\n",
       "      <td>2</td>\n",
       "    </tr>\n",
       "    <tr>\n",
       "      <th>1</th>\n",
       "      <td>Our apologies for the delay in responding to you. Have you made it to LAX? Let us know if you still need assistance.</td>\n",
       "      <td>@AmericanAir Could you have someone on your lax team available to guide me to my gate ASAP</td>\n",
       "      <td>[could, someone, lax, team, available, guide, gate, asap]</td>\n",
       "      <td>[could, someone, lax, team, available, guide, gate]</td>\n",
       "      <td>Could you have someone on your lax team available to guide me to my gate ASAP</td>\n",
       "      <td>19</td>\n",
       "    </tr>\n",
       "    <tr>\n",
       "      <th>2</th>\n",
       "      <td>Aww, that's definitely a future pilot in the making!</td>\n",
       "      <td>Ben Tennyson and an American Airlines pilot. 🎃 #trunkortreat #halloween #2017 #diycostume #parenting @americanair … https://t.co/f1nNHQ0iLa https://t.co/lDViDkRdB1</td>\n",
       "      <td>[ben, tennyson, american_airline, pilot]</td>\n",
       "      <td>[ben, pilot]</td>\n",
       "      <td>Ben Tennyson and an American Airlines pilot. 🎃 …</td>\n",
       "      <td>1</td>\n",
       "    </tr>\n",
       "    <tr>\n",
       "      <th>3</th>\n",
       "      <td>We're sorry for your frustration.</td>\n",
       "      <td>@AmericanAir Right, but I earned those. I also shouldn’t have to pay to pass them to my own spouse. You need to change your program.</td>\n",
       "      <td>[right, earned, also, pay, pas, spouse, need, change, program]</td>\n",
       "      <td>[right, also, pay, pas, spouse, need, change, program]</td>\n",
       "      <td>Right, but I earned those. I also shouldn’t have to pay to pass them to my own spouse. You need to change your program.</td>\n",
       "      <td>0</td>\n",
       "    </tr>\n",
       "    <tr>\n",
       "      <th>4</th>\n",
       "      <td>We're glad you got to kick back and enjoy a show while flying! Thanks for your kind words.</td>\n",
       "      <td>Thank you, @AmericanAir for playing #ThisIsUs and for having great flight attendants on my flight back home!</td>\n",
       "      <td>[playing, great, attendant, back, home]</td>\n",
       "      <td>[great, back, home]</td>\n",
       "      <td>Thank you, for playing and for having great flight attendants on my flight back home!</td>\n",
       "      <td>11</td>\n",
       "    </tr>\n",
       "    <tr>\n",
       "      <th>5</th>\n",
       "      <td>We never want your experience to be anything less than perfect. We're sorry the Wi-Fi was slower than expected.</td>\n",
       "      <td>@AmericanAir's wifi makes Amtrak's wifi look pro. At least theirs is free.  @5804 has decent wifi @ reasonable prices. Why not AA?</td>\n",
       "      <td>[wifi, make, amtrak, wifi, look, pro, least, free, decent, wifi, reasonable, price]</td>\n",
       "      <td>[look, pro, least, free, decent, reasonable]</td>\n",
       "      <td>wifi makes Amtrak's wifi look pro. At least theirs is free. has decent wifi reasonable prices. Why not AA?</td>\n",
       "      <td>3</td>\n",
       "    </tr>\n",
       "    <tr>\n",
       "      <th>6</th>\n",
       "      <td>Thanks for the shout-out and for stopping by, Marc! We'll pass this on to our SFO Admirals Club managers.</td>\n",
       "      <td>Wonderful club! @americanair (@ American Airlines Admirals Club in San Francisco, CA) https://t.co/GWFwuGVgNA</td>\n",
       "      <td>[wonderful, club, american_airline, admiral_club, san, francisco]</td>\n",
       "      <td>[wonderful, club, club, san]</td>\n",
       "      <td>Wonderful club! (@ American Airlines Admirals Club in San Francisco, CA)</td>\n",
       "      <td>10</td>\n",
       "    </tr>\n",
       "    <tr>\n",
       "      <th>7</th>\n",
       "      <td>They'll be more than happy to walk you through it and help with the booking process.</td>\n",
       "      <td>@AmericanAir already did...changed browsers, did all my techie tricks and still can't make a reservation after 1 hour!!</td>\n",
       "      <td>[already, changed, browser, techie, trick, still, make, reservation, hour]</td>\n",
       "      <td>[already, still, make, reservation, hour]</td>\n",
       "      <td>already did...changed browsers, did all my techie tricks and still can't make a reservation after 1 hour!!</td>\n",
       "      <td>15</td>\n",
       "    </tr>\n",
       "    <tr>\n",
       "      <th>8</th>\n",
       "      <td>We're sorry for the long wait. The next available agent will be with you as soon as possible.</td>\n",
       "      <td>@AmericanAir ........still....on....hold.....they made the booking. I am trying to pay.....so #frustrating.</td>\n",
       "      <td>[still, hold, made, booking, trying, pay]</td>\n",
       "      <td>[still, hold, made, booking, trying, pay]</td>\n",
       "      <td>........still....on....hold.....they made the booking. I am trying to pay.....so</td>\n",
       "      <td>14</td>\n",
       "    </tr>\n",
       "    <tr>\n",
       "      <th>9</th>\n",
       "      <td>Fares sell in real time. We're sorry we weren't able to snag the lower fare for you.</td>\n",
       "      <td>@AmericanAir well now i am told the ticket cost is an additional $200/person to pay....because of the wait....omg</td>\n",
       "      <td>[well, told, ticket, cost, additional, person, pay, wait, omg]</td>\n",
       "      <td>[well, told, ticket, cost, additional, person, pay, wait]</td>\n",
       "      <td>well now i am told the ticket cost is an additional $200/person to pay....because of the wait....omg</td>\n",
       "      <td>8</td>\n",
       "    </tr>\n",
       "  </tbody>\n",
       "</table>\n",
       "</div>"
      ],
      "text/plain": [
       "                                                                                                               responce  \\\n",
       "0                                                                          We'll be sure to pass along your kind words!   \n",
       "1  Our apologies for the delay in responding to you. Have you made it to LAX? Let us know if you still need assistance.   \n",
       "2                                                                  Aww, that's definitely a future pilot in the making!   \n",
       "3                                                                                     We're sorry for your frustration.   \n",
       "4                            We're glad you got to kick back and enjoy a show while flying! Thanks for your kind words.   \n",
       "5       We never want your experience to be anything less than perfect. We're sorry the Wi-Fi was slower than expected.   \n",
       "6             Thanks for the shout-out and for stopping by, Marc! We'll pass this on to our SFO Admirals Club managers.   \n",
       "7                                  They'll be more than happy to walk you through it and help with the booking process.   \n",
       "8                         We're sorry for the long wait. The next available agent will be with you as soon as possible.   \n",
       "9                                  Fares sell in real time. We're sorry we weren't able to snag the lower fare for you.   \n",
       "\n",
       "                                                                                                                                                              question  \\\n",
       "0                                                                                                    @AmericanAir Erica on the lax team is amazing give her a raise ty   \n",
       "1                                                                           @AmericanAir Could you have someone on your lax team available to guide me to my gate ASAP   \n",
       "2  Ben Tennyson and an American Airlines pilot. 🎃 #trunkortreat #halloween #2017 #diycostume #parenting @americanair … https://t.co/f1nNHQ0iLa https://t.co/lDViDkRdB1   \n",
       "3                                 @AmericanAir Right, but I earned those. I also shouldn’t have to pay to pass them to my own spouse. You need to change your program.   \n",
       "4                                                         Thank you, @AmericanAir for playing #ThisIsUs and for having great flight attendants on my flight back home!   \n",
       "5                                   @AmericanAir's wifi makes Amtrak's wifi look pro. At least theirs is free.  @5804 has decent wifi @ reasonable prices. Why not AA?   \n",
       "6                                                        Wonderful club! @americanair (@ American Airlines Admirals Club in San Francisco, CA) https://t.co/GWFwuGVgNA   \n",
       "7                                              @AmericanAir already did...changed browsers, did all my techie tricks and still can't make a reservation after 1 hour!!   \n",
       "8                                                          @AmericanAir ........still....on....hold.....they made the booking. I am trying to pay.....so #frustrating.   \n",
       "9                                                    @AmericanAir well now i am told the ticket cost is an additional $200/person to pay....because of the wait....omg   \n",
       "\n",
       "                                                                  question_lem_bigrams  \\\n",
       "0                                             [erica, lax, team, amazing, give, raise]   \n",
       "1                            [could, someone, lax, team, available, guide, gate, asap]   \n",
       "2                                             [ben, tennyson, american_airline, pilot]   \n",
       "3                       [right, earned, also, pay, pas, spouse, need, change, program]   \n",
       "4                                              [playing, great, attendant, back, home]   \n",
       "5  [wifi, make, amtrak, wifi, look, pro, least, free, decent, wifi, reasonable, price]   \n",
       "6                    [wonderful, club, american_airline, admiral_club, san, francisco]   \n",
       "7           [already, changed, browser, techie, trick, still, make, reservation, hour]   \n",
       "8                                            [still, hold, made, booking, trying, pay]   \n",
       "9                       [well, told, ticket, cost, additional, person, pay, wait, omg]   \n",
       "\n",
       "                                             question_prepro  \\\n",
       "0                          [lax, team, amazing, give, raise]   \n",
       "1        [could, someone, lax, team, available, guide, gate]   \n",
       "2                                               [ben, pilot]   \n",
       "3     [right, also, pay, pas, spouse, need, change, program]   \n",
       "4                                        [great, back, home]   \n",
       "5               [look, pro, least, free, decent, reasonable]   \n",
       "6                               [wonderful, club, club, san]   \n",
       "7                  [already, still, make, reservation, hour]   \n",
       "8                  [still, hold, made, booking, trying, pay]   \n",
       "9  [well, told, ticket, cost, additional, person, pay, wait]   \n",
       "\n",
       "                                                                                                            question_clean  \\\n",
       "0                                                                     Erica on the lax team is amazing give her a raise ty   \n",
       "1                                            Could you have someone on your lax team available to guide me to my gate ASAP   \n",
       "2                                                                         Ben Tennyson and an American Airlines pilot. 🎃 …   \n",
       "3  Right, but I earned those. I also shouldn’t have to pay to pass them to my own spouse. You need to change your program.   \n",
       "4                                    Thank you, for playing and for having great flight attendants on my flight back home!   \n",
       "5               wifi makes Amtrak's wifi look pro. At least theirs is free. has decent wifi reasonable prices. Why not AA?   \n",
       "6                                                 Wonderful club! (@ American Airlines Admirals Club in San Francisco, CA)   \n",
       "7               already did...changed browsers, did all my techie tricks and still can't make a reservation after 1 hour!!   \n",
       "8                                         ........still....on....hold.....they made the booking. I am trying to pay.....so   \n",
       "9                     well now i am told the ticket cost is an additional $200/person to pay....because of the wait....omg   \n",
       "\n",
       "   topic  \n",
       "0      2  \n",
       "1     19  \n",
       "2      1  \n",
       "3      0  \n",
       "4     11  \n",
       "5      3  \n",
       "6     10  \n",
       "7     15  \n",
       "8     14  \n",
       "9      8  "
      ]
     },
     "execution_count": 82,
     "metadata": {},
     "output_type": "execute_result"
    }
   ],
   "source": [
    "data['topic'] = data['question'].apply(get_highest_topic)\n",
    "data.head(10)"
   ]
  },
  {
   "cell_type": "markdown",
   "metadata": {},
   "source": [
    "#### Building Intents"
   ]
  },
  {
   "cell_type": "code",
   "execution_count": 85,
   "metadata": {},
   "outputs": [
    {
     "name": "stderr",
     "output_type": "stream",
     "text": [
      "D:\\IDES\\anaconda3\\lib\\site-packages\\ipykernel\\ipkernel.py:287: DeprecationWarning: `should_run_async` will not call `transform_cell` automatically in the future. Please pass the result to `transformed_cell` argument and any exception that happen during thetransform in `preprocessing_exc_tuple` in IPython 7.17 and above.\n",
      "  and should_run_async(code)\n"
     ]
    }
   ],
   "source": [
    "intents = {\"Greeting\": [\"Hello\", \"How are you doing?\", \"Greetings!\", \"How do you do?\"],\n",
    "          \"Apology\": [\"No problem\"],\n",
    "          \"Thanks\": [\"No problem\", \"You're welcome\"],\n",
    "          \"Goodbye\": [\"It was nice speaking to you\", \"See you later\", \"Speak soon!\"]\n",
    "             }"
   ]
  },
  {
   "cell_type": "code",
   "execution_count": 86,
   "metadata": {},
   "outputs": [
    {
     "name": "stderr",
     "output_type": "stream",
     "text": [
      "D:\\IDES\\anaconda3\\lib\\site-packages\\ipykernel\\ipkernel.py:287: DeprecationWarning: `should_run_async` will not call `transform_cell` automatically in the future. Please pass the result to `transformed_cell` argument and any exception that happen during thetransform in `preprocessing_exc_tuple` in IPython 7.17 and above.\n",
      "  and should_run_async(code)\n"
     ]
    }
   ],
   "source": [
    "def update_intents(df):\n",
    "  for index, row in df.iterrows():\n",
    "    if str(row['topic']) not in intents :\n",
    "      intents[str(row['topic'])] = []\n",
    "    if row['responce'] != \"\":\n",
    "      intents[str(row['topic'])].append(str(row['responce']))"
   ]
  },
  {
   "cell_type": "code",
   "execution_count": 87,
   "metadata": {},
   "outputs": [
    {
     "name": "stderr",
     "output_type": "stream",
     "text": [
      "D:\\IDES\\anaconda3\\lib\\site-packages\\ipykernel\\ipkernel.py:287: DeprecationWarning: `should_run_async` will not call `transform_cell` automatically in the future. Please pass the result to `transformed_cell` argument and any exception that happen during thetransform in `preprocessing_exc_tuple` in IPython 7.17 and above.\n",
      "  and should_run_async(code)\n"
     ]
    }
   ],
   "source": [
    "update_intents(data)"
   ]
  },
  {
   "cell_type": "markdown",
   "metadata": {},
   "source": [
    "Save Intents in order to use it again"
   ]
  },
  {
   "cell_type": "code",
   "execution_count": 88,
   "metadata": {},
   "outputs": [
    {
     "name": "stderr",
     "output_type": "stream",
     "text": [
      "D:\\IDES\\anaconda3\\lib\\site-packages\\ipykernel\\ipkernel.py:287: DeprecationWarning: `should_run_async` will not call `transform_cell` automatically in the future. Please pass the result to `transformed_cell` argument and any exception that happen during thetransform in `preprocessing_exc_tuple` in IPython 7.17 and above.\n",
      "  and should_run_async(code)\n"
     ]
    }
   ],
   "source": [
    "with open('intents.json', 'w') as fp:\n",
    "    json.dump(intents, fp)"
   ]
  },
  {
   "cell_type": "markdown",
   "metadata": {},
   "source": [
    "#### Doc2Vec"
   ]
  },
  {
   "cell_type": "code",
   "execution_count": 89,
   "metadata": {},
   "outputs": [
    {
     "name": "stderr",
     "output_type": "stream",
     "text": [
      "D:\\IDES\\anaconda3\\lib\\site-packages\\ipykernel\\ipkernel.py:287: DeprecationWarning: `should_run_async` will not call `transform_cell` automatically in the future. Please pass the result to `transformed_cell` argument and any exception that happen during thetransform in `preprocessing_exc_tuple` in IPython 7.17 and above.\n",
      "  and should_run_async(code)\n"
     ]
    }
   ],
   "source": [
    "from gensim.models.doc2vec import Doc2Vec, TaggedDocument"
   ]
  },
  {
   "cell_type": "code",
   "execution_count": 97,
   "metadata": {},
   "outputs": [
    {
     "name": "stderr",
     "output_type": "stream",
     "text": [
      "D:\\IDES\\anaconda3\\lib\\site-packages\\ipykernel\\ipkernel.py:287: DeprecationWarning: `should_run_async` will not call `transform_cell` automatically in the future. Please pass the result to `transformed_cell` argument and any exception that happen during thetransform in `preprocessing_exc_tuple` in IPython 7.17 and above.\n",
      "  and should_run_async(code)\n"
     ]
    }
   ],
   "source": [
    "tagged_data = [TaggedDocument(d, [i]) for i, d in enumerate(data['responce'])]\n",
    "model = Doc2Vec(tagged_data, window=1, min_count=2, epochs = 200)"
   ]
  },
  {
   "cell_type": "markdown",
   "metadata": {},
   "source": [
    "#### First Results "
   ]
  },
  {
   "cell_type": "code",
   "execution_count": 98,
   "metadata": {},
   "outputs": [
    {
     "name": "stderr",
     "output_type": "stream",
     "text": [
      "D:\\IDES\\anaconda3\\lib\\site-packages\\ipykernel\\ipkernel.py:287: DeprecationWarning: `should_run_async` will not call `transform_cell` automatically in the future. Please pass the result to `transformed_cell` argument and any exception that happen during thetransform in `preprocessing_exc_tuple` in IPython 7.17 and above.\n",
      "  and should_run_async(code)\n"
     ]
    }
   ],
   "source": [
    "def chatbot(text):\n",
    "  result = model.docvecs.most_similar(positive=[model.infer_vector(preprocess(text))], topn=1850)\n",
    "  topic = get_highest_topic('text')\n",
    "  for l in result:\n",
    "    if data['topic'].iloc[int(l[0])] == topic:\n",
    "      return data['responce'].iloc[int(l[0])]"
   ]
  },
  {
   "cell_type": "code",
   "execution_count": 99,
   "metadata": {},
   "outputs": [
    {
     "name": "stdout",
     "output_type": "stream",
     "text": [
      "QUESTION : @AmericanAir what’s going on with flight 301 DTW &gt; DFW? Delayed over 3 hours. Will it be canceled?\n",
      "EXPECTED : Looks like it has a maintenance delay and it's currently scheduled to take off at 10:10p.\n",
      "PREDICTED : They sound pretty tasty, Bryce. Thanks again for letting us know, we always like seeing our frequent flyers happy! \n",
      "\n",
      "QUESTION : @AmericanAir awful service, more than 1 hour delay due to logbook maintenance issues. Where is preventive maintenance?\n",
      "EXPECTED : We do many checks pre and post departure. Please share your flight number if we can provide an update.\n",
      "PREDICTED : Treat yo self, Will. Always great to have you on board. \n",
      "\n",
      "QUESTION : @AmericanAir Yes. Refund my plane ticket😡 with your racist ass workers\n",
      "EXPECTED : We don't tolerate discrimination of any kind. Please DM your record locator and contact details (phone and email)\n",
      "PREDICTED : We're sorry you're having trouble with us. Please work with our reservations team to get this booked. \n",
      "\n",
      "QUESTION : @AmericanAir I'm aware. Fits in overhead.This was a return trip. Had same luggage going. This was pre-security. Gate chck, ok, but Empty overheads on flt\n",
      "EXPECTED : We'd like to share this feedback. Please DM your record locator.\n",
      "PREDICTED : We're sorry for any inconvenience. Please reach to us with your record locator for more details. \n",
      "\n"
     ]
    },
    {
     "name": "stderr",
     "output_type": "stream",
     "text": [
      "D:\\IDES\\anaconda3\\lib\\site-packages\\ipykernel\\ipkernel.py:287: DeprecationWarning: `should_run_async` will not call `transform_cell` automatically in the future. Please pass the result to `transformed_cell` argument and any exception that happen during thetransform in `preprocessing_exc_tuple` in IPython 7.17 and above.\n",
      "  and should_run_async(code)\n",
      "<ipython-input-98-f4da4c9fa055>:2: DeprecationWarning: Call to deprecated `docvecs` (The `docvecs` property has been renamed `dv`.).\n",
      "  result = model.docvecs.most_similar(positive=[model.infer_vector(preprocess(text))], topn=1850)\n",
      "<ipython-input-98-f4da4c9fa055>:2: DeprecationWarning: Call to deprecated `docvecs` (The `docvecs` property has been renamed `dv`.).\n",
      "  result = model.docvecs.most_similar(positive=[model.infer_vector(preprocess(text))], topn=1850)\n",
      "<ipython-input-98-f4da4c9fa055>:2: DeprecationWarning: Call to deprecated `docvecs` (The `docvecs` property has been renamed `dv`.).\n",
      "  result = model.docvecs.most_similar(positive=[model.infer_vector(preprocess(text))], topn=1850)\n",
      "<ipython-input-98-f4da4c9fa055>:2: DeprecationWarning: Call to deprecated `docvecs` (The `docvecs` property has been renamed `dv`.).\n",
      "  result = model.docvecs.most_similar(positive=[model.infer_vector(preprocess(text))], topn=1850)\n"
     ]
    }
   ],
   "source": [
    "#Preexisting questions and responses\n",
    "list_word = [\"@AmericanAir what’s going on with flight 301 DTW &gt; DFW? Delayed over 3 hours. Will it be canceled?\", \n",
    "             \"@AmericanAir awful service, more than 1 hour delay due to logbook maintenance issues. Where is preventive maintenance?\",\n",
    "             \"@AmericanAir Yes. Refund my plane ticket😡 with your racist ass workers\",\n",
    "             \"@AmericanAir I'm aware. Fits in overhead.This was a return trip. Had same luggage going. This was pre-security. Gate chck, ok, but Empty overheads on flt\"]\n",
    "\n",
    "list_resp = [\"Looks like it has a maintenance delay and it's currently scheduled to take off at 10:10p.\",\n",
    "             \"We do many checks pre and post departure. Please share your flight number if we can provide an update.\",\n",
    "             \"We don't tolerate discrimination of any kind. Please DM your record locator and contact details (phone and email)\",\n",
    "             \"We'd like to share this feedback. Please DM your record locator.\"]\n",
    "\n",
    "for q,r in zip(list_word, list_resp):\n",
    "  print(\"QUESTION :\", q)\n",
    "  print(\"EXPECTED :\", r)\n",
    "  print(\"PREDICTED :\", chatbot(q),\"\\n\")\n",
    "  \n"
   ]
  },
  {
   "cell_type": "code",
   "execution_count": 102,
   "metadata": {},
   "outputs": [
    {
     "name": "stderr",
     "output_type": "stream",
     "text": [
      "D:\\IDES\\anaconda3\\lib\\site-packages\\ipykernel\\ipkernel.py:287: DeprecationWarning: `should_run_async` will not call `transform_cell` automatically in the future. Please pass the result to `transformed_cell` argument and any exception that happen during thetransform in `preprocessing_exc_tuple` in IPython 7.17 and above.\n",
      "  and should_run_async(code)\n"
     ]
    },
    {
     "name": "stdout",
     "output_type": "stream",
     "text": [
      "Enter your question : How can i get my reservation\n"
     ]
    },
    {
     "name": "stderr",
     "output_type": "stream",
     "text": [
      "<ipython-input-98-f4da4c9fa055>:2: DeprecationWarning: Call to deprecated `docvecs` (The `docvecs` property has been renamed `dv`.).\n",
      "  result = model.docvecs.most_similar(positive=[model.infer_vector(preprocess(text))], topn=1850)\n"
     ]
    },
    {
     "data": {
      "text/plain": [
       "'We currently have an estimated departure time of 10:22a and should be in the air towards PHL shortly. Our apologies for the late start.'"
      ]
     },
     "execution_count": 102,
     "metadata": {},
     "output_type": "execute_result"
    }
   ],
   "source": [
    "question = input('Enter your question : ')\n",
    "chatbot(question)"
   ]
  },
  {
   "cell_type": "code",
   "execution_count": null,
   "metadata": {},
   "outputs": [],
   "source": []
  }
 ],
 "metadata": {
  "kernelspec": {
   "display_name": "Python 3",
   "language": "python",
   "name": "python3"
  },
  "language_info": {
   "codemirror_mode": {
    "name": "ipython",
    "version": 3
   },
   "file_extension": ".py",
   "mimetype": "text/x-python",
   "name": "python",
   "nbconvert_exporter": "python",
   "pygments_lexer": "ipython3",
   "version": "3.8.8"
  },
  "vscode": {
   "interpreter": {
    "hash": "bfb5a87c35bcd43997975c71900d67fd988e3d78f446c88335b459b4ff2da931"
   }
  }
 },
 "nbformat": 4,
 "nbformat_minor": 2
}
